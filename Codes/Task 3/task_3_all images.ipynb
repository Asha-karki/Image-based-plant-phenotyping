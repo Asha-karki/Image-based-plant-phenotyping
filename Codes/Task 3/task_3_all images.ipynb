{
 "cells": [
  {
   "cell_type": "markdown",
   "metadata": {},
   "source": [
    "# Pixelate Club Task 3 COMP9517 20T3"
   ]
  },
  {
   "cell_type": "markdown",
   "metadata": {},
   "source": [
    "# Import Library and Get Image"
   ]
  },
  {
   "cell_type": "code",
   "execution_count": 1,
   "metadata": {},
   "outputs": [],
   "source": [
    "import cv2\n",
    "import matplotlib.pyplot as plt\n",
    "import numpy as np\n",
    "import glob\n",
    "\n",
    "from skimage.segmentation import slic\n",
    "from skimage.segmentation import mark_boundaries\n",
    "from skimage.feature import peak_local_max\n",
    "from skimage.morphology import watershed\n",
    "\n",
    "from scipy import ndimage as ndi\n",
    "\n",
    "from plantcv.plantcv import color_palette\n",
    "\n",
    "\n",
    "# image list\n",
    "ara_2012_list = []\n",
    "ara_2012_label = []\n",
    "\n",
    "ara_2013_list = []\n",
    "ara_2013_label = []\n",
    "\n",
    "tobacco_list = []\n",
    "tobacco_label = []\n",
    "\n",
    "\n",
    "# get images\n",
    "\n",
    "for file_name in glob.glob(\"Plant/Ara2012/*_rgb.png\"):\n",
    "    ara_2012_list.append(file_name)\n",
    "    \n",
    "for file_name in glob.glob(\"Plant/Ara2012/*_label.png\"):\n",
    "    ara_2012_label.append(file_name)\n",
    "\n",
    "for file_name in glob.glob('Plant/Ara2013-Canon/*_rgb.png'):\n",
    "    ara_2013_list.append(file_name)\n",
    "    \n",
    "for file_name in glob.glob('Plant/Ara2013-Canon/*_label.png'):\n",
    "    ara_2013_label.append(file_name)\n",
    "\n",
    "for file_name in glob.glob('Plant/Tobacco/*_rgb.png'):\n",
    "    tobacco_list.append(file_name)\n",
    "    \n",
    "for file_name in glob.glob('Plant/Tobacco/*_label.png'):\n",
    "    tobacco_label.append(file_name)\n"
   ]
  },
  {
   "cell_type": "markdown",
   "metadata": {},
   "source": [
    "# Perform Individual Leaf Segmentation"
   ]
  },
  {
   "cell_type": "code",
   "execution_count": 2,
   "metadata": {},
   "outputs": [],
   "source": [
    "# get mean value of a in lab for each pixel\n",
    "def mean_colour_a(img):\n",
    "    \n",
    "    # if no pixel, return max allowable\n",
    "    if len(img.flatten()) == 0:\n",
    "        return 255\n",
    "        \n",
    "    return np.mean(img[img > 0], dtype=np.float64)\n",
    "\n",
    "def task3(img_rgb, img_threshold, min_distance):\n",
    "    \n",
    "    # (1) GENERATE SUPER PIXEL      \n",
    "    \n",
    "    # convert to lab colour space \n",
    "    img_lab = cv2.cvtColor(img_rgb, cv2.COLOR_RGB2Lab)\n",
    "    \n",
    "    # custom number of segment\n",
    "    number_of_segments = 1000\n",
    "    \n",
    "    # apply slic - Simple Linear Iterative Clustering\n",
    "    ## max_iter - no. of iteration\n",
    "    ## sigma - width of gaussian filter\n",
    "    segments = slic(img_lab, n_segments = number_of_segments, max_iter = 3, sigma = 3)\n",
    "          \n",
    "    # (2) SEGMENT PLANT FROM BACKGROUND\n",
    "    \n",
    "    # extract 'a' range of plant\n",
    "    img_lab_a = img_lab[:,:,1]\n",
    "\n",
    "    # contrast stretching\n",
    "    img_lab_a = (img_lab_a - np.min(img_lab_a)) * (255 / (np.max(img_lab_a) - np.min(img_lab_a)))\n",
    "    img_lab_a = img_lab_a.astype(np.uint8)\n",
    "\n",
    "    # median blur to remove minor noise\n",
    "    img_lab_a = cv2.medianBlur(img_lab_a, 5)\n",
    "    \n",
    "    # black blank image\n",
    "    img_segmented = np.zeros_like(img_rgb, np.uint8)\n",
    "\n",
    "    # custom threshold of mean colour of a (a- = green)\n",
    "    threshold = img_threshold\n",
    "\n",
    "    # go thru each segment ID\n",
    "    for segVal in np.unique(segments):\n",
    "\n",
    "        # get all pixel that has same segmented ID\n",
    "        mask = np.zeros(img_rgb.shape[:2])\n",
    "        mask[segments == segVal] = 255\n",
    "\n",
    "        # Mask of LAB (for calculation)\n",
    "        img_lab_mask = np.zeros_like(img_rgb, np.uint8)\n",
    "        img_lab_mask[mask > 0] = img_lab[mask > 0]\n",
    "\n",
    "        # Mask of RGB (for display)\n",
    "        img_rgb_mask = np.zeros_like(img_rgb, np.uint8)\n",
    "        img_rgb_mask[mask > 0] = img_rgb[mask > 0]\n",
    "\n",
    "        # Get mean value of \"a\" of pixels with the same ID\n",
    "        mean = mean_colour_a(img_lab_mask) - 128\n",
    "\n",
    "        # If below the threshold, it's a plant super pixel\n",
    "        if mean <= threshold:\n",
    "            img_segmented += img_rgb_mask\n",
    "    \n",
    "    # (3) IMAGE MASK\n",
    "    img_gray = cv2.cvtColor(img_segmented, cv2.COLOR_RGB2GRAY)\n",
    "    img_mask = cv2.threshold(img_gray, 0, 255, cv2.THRESH_BINARY | cv2.THRESH_OTSU)[1]\n",
    "\n",
    "    # (4) FIND LOCAL MAXIMA\n",
    "\n",
    "    # for each labelled pixel, find distance to the nearest background pixel\n",
    "    dist_transform = cv2.distanceTransformWithLabels(img_mask, cv2.DIST_L2, maskSize=0)[0]\n",
    "\n",
    "    # find local maxima\n",
    "    localMax = peak_local_max(dist_transform, indices=False, min_distance = min_distance, labels=img_mask)\n",
    "\n",
    "    # (5) WATERSHED SEGMENTATION\n",
    "\n",
    "    # label\n",
    "    markers = ndi.label(localMax, structure=np.ones((3, 3)))[0]\n",
    "    dist_transform1 = -dist_transform\n",
    "    labels = watershed(dist_transform1, markers, mask=img_mask)\n",
    "\n",
    "    # colour image label\n",
    "    img_final =np.zeros_like(img_rgb, np.uint8)\n",
    "    for x in np.unique(labels[labels > 0]):\n",
    "\n",
    "        rand_color = color_palette(len(np.unique(labels)))\n",
    "        img_final[labels == x] = rand_color[x]\n",
    "        \n",
    "    return img_final"
   ]
  },
  {
   "cell_type": "markdown",
   "metadata": {},
   "source": [
    "# Metrics"
   ]
  },
  {
   "cell_type": "code",
   "execution_count": 3,
   "metadata": {},
   "outputs": [],
   "source": [
    "def convert_bool(g):\n",
    "    m = g.copy()\n",
    "    m[g >0] = True\n",
    "    m[g == 0] = False\n",
    "    return m\n",
    "\n",
    "# Similarity dice measures\n",
    "# calculate dice\n",
    "def dice_calc (ground_th, ours):\n",
    "\n",
    "    numerator = 2 * np.sum(ground_th * ours)\n",
    "    denominator = np.sum(ground_th) + np.sum(ours)\n",
    "\n",
    "    dice = float(numerator) / float(denominator)\n",
    "    \n",
    "    return dice\n",
    "\n",
    "\n",
    "# calculate best dice -------\n",
    "def best_dice (groud_th, ours):\n",
    "\n",
    "    ground_th_idx = list(set(np.unique(groud_th)).difference([0]))\n",
    "    ours_idx = list(set(np.unique(ours)).difference([0]))\n",
    "\n",
    "    best_dice_collect = []\n",
    "    for i_gt in ground_th_idx:\n",
    "        \n",
    "        gt = (groud_th == i_gt).astype('bool')\n",
    "        \n",
    "        dice_collect = []\n",
    "        \n",
    "        for i_ours in ours_idx:\n",
    "            \n",
    "            ors = (ours == i_ours).astype('bool')\n",
    "\n",
    "            dice = dice_calc(gt, ors)\n",
    "            \n",
    "            dice_collect.append(dice)\n",
    "        \n",
    "\n",
    "        best_dice = np.max(dice_collect)\n",
    "        best_dice_collect.append(best_dice)\n",
    "\n",
    "    best_d = np.mean(best_dice_collect)\n",
    "\n",
    "    return best_d\n",
    "\n",
    "\n",
    "# symmetric best dice calculation ----------\n",
    "def symm_best_dice (ground_th, ours):\n",
    "\n",
    "    d1 = best_dice(ground_th, ours)\n",
    "    d2 = best_dice(ours, ground_th)\n",
    "    \n",
    "    arr = np.array ([d1, d2])\n",
    "    symm_best = np.min(arr)\n",
    "    return symm_best"
   ]
  },
  {
   "cell_type": "markdown",
   "metadata": {},
   "source": [
    "# Ara 2012 Performance"
   ]
  },
  {
   "cell_type": "code",
   "execution_count": 4,
   "metadata": {},
   "outputs": [
    {
     "name": "stdout",
     "output_type": "stream",
     "text": [
      "Plant/Ara2012\\ara2012_plant001_rgb.png\n"
     ]
    },
    {
     "name": "stderr",
     "output_type": "stream",
     "text": [
      "c:\\users\\user\\pycharmprojects\\comp9517\\venv\\lib\\site-packages\\ipykernel_launcher.py:23: FutureWarning: skimage.measure.label's indexing starts from 0. In future version it will start from 1. To disable this warning, explicitely set the `start_label` parameter to 1.\n",
      "c:\\users\\user\\pycharmprojects\\comp9517\\venv\\lib\\site-packages\\skimage\\morphology\\_deprecated.py:5: skimage_deprecation: Function ``watershed`` is deprecated and will be removed in version 0.19. Use ``skimage.segmentation.watershed`` instead.\n",
      "c:\\users\\user\\pycharmprojects\\comp9517\\venv\\lib\\site-packages\\ipykernel_launcher.py:23: FutureWarning: skimage.measure.label's indexing starts from 0. In future version it will start from 1. To disable this warning, explicitely set the `start_label` parameter to 1.\n"
     ]
    },
    {
     "name": "stdout",
     "output_type": "stream",
     "text": [
      "Dice Score: 0.6059727457233981\n",
      "Best Dice Symmetry Score:  0.6059727457233981\n",
      "\n",
      "Plant/Ara2012\\ara2012_plant002_rgb.png\n"
     ]
    },
    {
     "name": "stderr",
     "output_type": "stream",
     "text": [
      "c:\\users\\user\\pycharmprojects\\comp9517\\venv\\lib\\site-packages\\skimage\\morphology\\_deprecated.py:5: skimage_deprecation: Function ``watershed`` is deprecated and will be removed in version 0.19. Use ``skimage.segmentation.watershed`` instead.\n",
      "c:\\users\\user\\pycharmprojects\\comp9517\\venv\\lib\\site-packages\\ipykernel_launcher.py:23: FutureWarning: skimage.measure.label's indexing starts from 0. In future version it will start from 1. To disable this warning, explicitely set the `start_label` parameter to 1.\n"
     ]
    },
    {
     "name": "stdout",
     "output_type": "stream",
     "text": [
      "Dice Score: 0.42645698427382056\n",
      "Best Dice Symmetry Score:  0.42645698427382056\n",
      "\n",
      "Plant/Ara2012\\ara2012_plant003_rgb.png\n"
     ]
    },
    {
     "name": "stderr",
     "output_type": "stream",
     "text": [
      "c:\\users\\user\\pycharmprojects\\comp9517\\venv\\lib\\site-packages\\skimage\\morphology\\_deprecated.py:5: skimage_deprecation: Function ``watershed`` is deprecated and will be removed in version 0.19. Use ``skimage.segmentation.watershed`` instead.\n",
      "c:\\users\\user\\pycharmprojects\\comp9517\\venv\\lib\\site-packages\\ipykernel_launcher.py:23: FutureWarning: skimage.measure.label's indexing starts from 0. In future version it will start from 1. To disable this warning, explicitely set the `start_label` parameter to 1.\n"
     ]
    },
    {
     "name": "stdout",
     "output_type": "stream",
     "text": [
      "Dice Score: 0.581838607002434\n",
      "Best Dice Symmetry Score:  0.581838607002434\n",
      "\n",
      "Plant/Ara2012\\ara2012_plant004_rgb.png\n"
     ]
    },
    {
     "name": "stderr",
     "output_type": "stream",
     "text": [
      "c:\\users\\user\\pycharmprojects\\comp9517\\venv\\lib\\site-packages\\skimage\\morphology\\_deprecated.py:5: skimage_deprecation: Function ``watershed`` is deprecated and will be removed in version 0.19. Use ``skimage.segmentation.watershed`` instead.\n",
      "c:\\users\\user\\pycharmprojects\\comp9517\\venv\\lib\\site-packages\\ipykernel_launcher.py:23: FutureWarning: skimage.measure.label's indexing starts from 0. In future version it will start from 1. To disable this warning, explicitely set the `start_label` parameter to 1.\n"
     ]
    },
    {
     "name": "stdout",
     "output_type": "stream",
     "text": [
      "Dice Score: 0.5163746243057385\n",
      "Best Dice Symmetry Score:  0.5163746243057385\n",
      "\n",
      "Plant/Ara2012\\ara2012_plant005_rgb.png\n"
     ]
    },
    {
     "name": "stderr",
     "output_type": "stream",
     "text": [
      "c:\\users\\user\\pycharmprojects\\comp9517\\venv\\lib\\site-packages\\skimage\\morphology\\_deprecated.py:5: skimage_deprecation: Function ``watershed`` is deprecated and will be removed in version 0.19. Use ``skimage.segmentation.watershed`` instead.\n",
      "c:\\users\\user\\pycharmprojects\\comp9517\\venv\\lib\\site-packages\\ipykernel_launcher.py:23: FutureWarning: skimage.measure.label's indexing starts from 0. In future version it will start from 1. To disable this warning, explicitely set the `start_label` parameter to 1.\n"
     ]
    },
    {
     "name": "stdout",
     "output_type": "stream",
     "text": [
      "Dice Score: 0.6127519496296683\n",
      "Best Dice Symmetry Score:  0.6127519496296683\n",
      "\n",
      "Plant/Ara2012\\ara2012_plant006_rgb.png\n"
     ]
    },
    {
     "name": "stderr",
     "output_type": "stream",
     "text": [
      "c:\\users\\user\\pycharmprojects\\comp9517\\venv\\lib\\site-packages\\skimage\\morphology\\_deprecated.py:5: skimage_deprecation: Function ``watershed`` is deprecated and will be removed in version 0.19. Use ``skimage.segmentation.watershed`` instead.\n",
      "c:\\users\\user\\pycharmprojects\\comp9517\\venv\\lib\\site-packages\\ipykernel_launcher.py:23: FutureWarning: skimage.measure.label's indexing starts from 0. In future version it will start from 1. To disable this warning, explicitely set the `start_label` parameter to 1.\n"
     ]
    },
    {
     "name": "stdout",
     "output_type": "stream",
     "text": [
      "Dice Score: 0.5732900808073196\n",
      "Best Dice Symmetry Score:  0.5732900808073196\n",
      "\n",
      "Plant/Ara2012\\ara2012_plant007_rgb.png\n"
     ]
    },
    {
     "name": "stderr",
     "output_type": "stream",
     "text": [
      "c:\\users\\user\\pycharmprojects\\comp9517\\venv\\lib\\site-packages\\skimage\\morphology\\_deprecated.py:5: skimage_deprecation: Function ``watershed`` is deprecated and will be removed in version 0.19. Use ``skimage.segmentation.watershed`` instead.\n",
      "c:\\users\\user\\pycharmprojects\\comp9517\\venv\\lib\\site-packages\\ipykernel_launcher.py:23: FutureWarning: skimage.measure.label's indexing starts from 0. In future version it will start from 1. To disable this warning, explicitely set the `start_label` parameter to 1.\n"
     ]
    },
    {
     "name": "stdout",
     "output_type": "stream",
     "text": [
      "Dice Score: 0.46632930695034125\n",
      "Best Dice Symmetry Score:  0.46632930695034125\n",
      "\n",
      "Plant/Ara2012\\ara2012_plant008_rgb.png\n"
     ]
    },
    {
     "name": "stderr",
     "output_type": "stream",
     "text": [
      "c:\\users\\user\\pycharmprojects\\comp9517\\venv\\lib\\site-packages\\skimage\\morphology\\_deprecated.py:5: skimage_deprecation: Function ``watershed`` is deprecated and will be removed in version 0.19. Use ``skimage.segmentation.watershed`` instead.\n",
      "c:\\users\\user\\pycharmprojects\\comp9517\\venv\\lib\\site-packages\\ipykernel_launcher.py:23: FutureWarning: skimage.measure.label's indexing starts from 0. In future version it will start from 1. To disable this warning, explicitely set the `start_label` parameter to 1.\n"
     ]
    },
    {
     "name": "stdout",
     "output_type": "stream",
     "text": [
      "Dice Score: 0.5989363837045957\n",
      "Best Dice Symmetry Score:  0.5989363837045957\n",
      "\n",
      "Plant/Ara2012\\ara2012_plant009_rgb.png\n"
     ]
    },
    {
     "name": "stderr",
     "output_type": "stream",
     "text": [
      "c:\\users\\user\\pycharmprojects\\comp9517\\venv\\lib\\site-packages\\skimage\\morphology\\_deprecated.py:5: skimage_deprecation: Function ``watershed`` is deprecated and will be removed in version 0.19. Use ``skimage.segmentation.watershed`` instead.\n",
      "c:\\users\\user\\pycharmprojects\\comp9517\\venv\\lib\\site-packages\\ipykernel_launcher.py:23: FutureWarning: skimage.measure.label's indexing starts from 0. In future version it will start from 1. To disable this warning, explicitely set the `start_label` parameter to 1.\n"
     ]
    },
    {
     "name": "stdout",
     "output_type": "stream",
     "text": [
      "Dice Score: 0.5760776832693174\n",
      "Best Dice Symmetry Score:  0.5760776832693174\n",
      "\n",
      "Plant/Ara2012\\ara2012_plant010_rgb.png\n"
     ]
    },
    {
     "name": "stderr",
     "output_type": "stream",
     "text": [
      "c:\\users\\user\\pycharmprojects\\comp9517\\venv\\lib\\site-packages\\skimage\\morphology\\_deprecated.py:5: skimage_deprecation: Function ``watershed`` is deprecated and will be removed in version 0.19. Use ``skimage.segmentation.watershed`` instead.\n",
      "c:\\users\\user\\pycharmprojects\\comp9517\\venv\\lib\\site-packages\\ipykernel_launcher.py:23: FutureWarning: skimage.measure.label's indexing starts from 0. In future version it will start from 1. To disable this warning, explicitely set the `start_label` parameter to 1.\n"
     ]
    },
    {
     "name": "stdout",
     "output_type": "stream",
     "text": [
      "Dice Score: 0.6259018806143021\n",
      "Best Dice Symmetry Score:  0.6259018806143021\n",
      "\n",
      "Plant/Ara2012\\ara2012_plant011_rgb.png\n"
     ]
    },
    {
     "name": "stderr",
     "output_type": "stream",
     "text": [
      "c:\\users\\user\\pycharmprojects\\comp9517\\venv\\lib\\site-packages\\skimage\\morphology\\_deprecated.py:5: skimage_deprecation: Function ``watershed`` is deprecated and will be removed in version 0.19. Use ``skimage.segmentation.watershed`` instead.\n",
      "c:\\users\\user\\pycharmprojects\\comp9517\\venv\\lib\\site-packages\\ipykernel_launcher.py:23: FutureWarning: skimage.measure.label's indexing starts from 0. In future version it will start from 1. To disable this warning, explicitely set the `start_label` parameter to 1.\n"
     ]
    },
    {
     "name": "stdout",
     "output_type": "stream",
     "text": [
      "Dice Score: 0.5909748069765296\n",
      "Best Dice Symmetry Score:  0.5909748069765296\n",
      "\n",
      "Plant/Ara2012\\ara2012_plant012_rgb.png\n"
     ]
    },
    {
     "name": "stderr",
     "output_type": "stream",
     "text": [
      "c:\\users\\user\\pycharmprojects\\comp9517\\venv\\lib\\site-packages\\skimage\\morphology\\_deprecated.py:5: skimage_deprecation: Function ``watershed`` is deprecated and will be removed in version 0.19. Use ``skimage.segmentation.watershed`` instead.\n",
      "c:\\users\\user\\pycharmprojects\\comp9517\\venv\\lib\\site-packages\\ipykernel_launcher.py:23: FutureWarning: skimage.measure.label's indexing starts from 0. In future version it will start from 1. To disable this warning, explicitely set the `start_label` parameter to 1.\n"
     ]
    },
    {
     "name": "stdout",
     "output_type": "stream",
     "text": [
      "Dice Score: 0.611145686476234\n",
      "Best Dice Symmetry Score:  0.611145686476234\n",
      "\n",
      "Plant/Ara2012\\ara2012_plant013_rgb.png\n"
     ]
    },
    {
     "name": "stderr",
     "output_type": "stream",
     "text": [
      "c:\\users\\user\\pycharmprojects\\comp9517\\venv\\lib\\site-packages\\skimage\\morphology\\_deprecated.py:5: skimage_deprecation: Function ``watershed`` is deprecated and will be removed in version 0.19. Use ``skimage.segmentation.watershed`` instead.\n",
      "c:\\users\\user\\pycharmprojects\\comp9517\\venv\\lib\\site-packages\\ipykernel_launcher.py:23: FutureWarning: skimage.measure.label's indexing starts from 0. In future version it will start from 1. To disable this warning, explicitely set the `start_label` parameter to 1.\n"
     ]
    },
    {
     "name": "stdout",
     "output_type": "stream",
     "text": [
      "Dice Score: 0.4961588017095096\n",
      "Best Dice Symmetry Score:  0.4961588017095096\n",
      "\n",
      "Plant/Ara2012\\ara2012_plant014_rgb.png\n"
     ]
    },
    {
     "name": "stderr",
     "output_type": "stream",
     "text": [
      "c:\\users\\user\\pycharmprojects\\comp9517\\venv\\lib\\site-packages\\skimage\\morphology\\_deprecated.py:5: skimage_deprecation: Function ``watershed`` is deprecated and will be removed in version 0.19. Use ``skimage.segmentation.watershed`` instead.\n",
      "c:\\users\\user\\pycharmprojects\\comp9517\\venv\\lib\\site-packages\\ipykernel_launcher.py:23: FutureWarning: skimage.measure.label's indexing starts from 0. In future version it will start from 1. To disable this warning, explicitely set the `start_label` parameter to 1.\n"
     ]
    },
    {
     "name": "stdout",
     "output_type": "stream",
     "text": [
      "Dice Score: 0.5021685752812607\n",
      "Best Dice Symmetry Score:  0.5021685752812607\n",
      "\n",
      "Plant/Ara2012\\ara2012_plant015_rgb.png\n"
     ]
    },
    {
     "name": "stderr",
     "output_type": "stream",
     "text": [
      "c:\\users\\user\\pycharmprojects\\comp9517\\venv\\lib\\site-packages\\skimage\\morphology\\_deprecated.py:5: skimage_deprecation: Function ``watershed`` is deprecated and will be removed in version 0.19. Use ``skimage.segmentation.watershed`` instead.\n"
     ]
    },
    {
     "name": "stdout",
     "output_type": "stream",
     "text": [
      "Dice Score: 0.5442207325011705\n",
      "Best Dice Symmetry Score:  0.5442207325011705\n",
      "\n",
      "Plant/Ara2012\\ara2012_plant016_rgb.png\n"
     ]
    },
    {
     "name": "stderr",
     "output_type": "stream",
     "text": [
      "c:\\users\\user\\pycharmprojects\\comp9517\\venv\\lib\\site-packages\\ipykernel_launcher.py:23: FutureWarning: skimage.measure.label's indexing starts from 0. In future version it will start from 1. To disable this warning, explicitely set the `start_label` parameter to 1.\n",
      "c:\\users\\user\\pycharmprojects\\comp9517\\venv\\lib\\site-packages\\skimage\\morphology\\_deprecated.py:5: skimage_deprecation: Function ``watershed`` is deprecated and will be removed in version 0.19. Use ``skimage.segmentation.watershed`` instead.\n",
      "c:\\users\\user\\pycharmprojects\\comp9517\\venv\\lib\\site-packages\\ipykernel_launcher.py:23: FutureWarning: skimage.measure.label's indexing starts from 0. In future version it will start from 1. To disable this warning, explicitely set the `start_label` parameter to 1.\n"
     ]
    },
    {
     "name": "stdout",
     "output_type": "stream",
     "text": [
      "Dice Score: 0.6144578784830539\n",
      "Best Dice Symmetry Score:  0.6144578784830539\n",
      "\n",
      "Plant/Ara2012\\ara2012_plant017_rgb.png\n"
     ]
    },
    {
     "name": "stderr",
     "output_type": "stream",
     "text": [
      "c:\\users\\user\\pycharmprojects\\comp9517\\venv\\lib\\site-packages\\skimage\\morphology\\_deprecated.py:5: skimage_deprecation: Function ``watershed`` is deprecated and will be removed in version 0.19. Use ``skimage.segmentation.watershed`` instead.\n",
      "c:\\users\\user\\pycharmprojects\\comp9517\\venv\\lib\\site-packages\\ipykernel_launcher.py:23: FutureWarning: skimage.measure.label's indexing starts from 0. In future version it will start from 1. To disable this warning, explicitely set the `start_label` parameter to 1.\n"
     ]
    },
    {
     "name": "stdout",
     "output_type": "stream",
     "text": [
      "Dice Score: 0.44126979474289735\n",
      "Best Dice Symmetry Score:  0.44126979474289735\n",
      "\n",
      "Plant/Ara2012\\ara2012_plant018_rgb.png\n"
     ]
    },
    {
     "name": "stderr",
     "output_type": "stream",
     "text": [
      "c:\\users\\user\\pycharmprojects\\comp9517\\venv\\lib\\site-packages\\skimage\\morphology\\_deprecated.py:5: skimage_deprecation: Function ``watershed`` is deprecated and will be removed in version 0.19. Use ``skimage.segmentation.watershed`` instead.\n",
      "c:\\users\\user\\pycharmprojects\\comp9517\\venv\\lib\\site-packages\\ipykernel_launcher.py:23: FutureWarning: skimage.measure.label's indexing starts from 0. In future version it will start from 1. To disable this warning, explicitely set the `start_label` parameter to 1.\n"
     ]
    },
    {
     "name": "stdout",
     "output_type": "stream",
     "text": [
      "Dice Score: 0.5378126490767423\n",
      "Best Dice Symmetry Score:  0.5378126490767423\n",
      "\n",
      "Plant/Ara2012\\ara2012_plant019_rgb.png\n"
     ]
    },
    {
     "name": "stderr",
     "output_type": "stream",
     "text": [
      "c:\\users\\user\\pycharmprojects\\comp9517\\venv\\lib\\site-packages\\skimage\\morphology\\_deprecated.py:5: skimage_deprecation: Function ``watershed`` is deprecated and will be removed in version 0.19. Use ``skimage.segmentation.watershed`` instead.\n"
     ]
    },
    {
     "name": "stdout",
     "output_type": "stream",
     "text": [
      "Dice Score: 0.4865814247576226\n",
      "Best Dice Symmetry Score:  0.4865814247576226\n",
      "\n",
      "Plant/Ara2012\\ara2012_plant020_rgb.png\n"
     ]
    },
    {
     "name": "stderr",
     "output_type": "stream",
     "text": [
      "c:\\users\\user\\pycharmprojects\\comp9517\\venv\\lib\\site-packages\\ipykernel_launcher.py:23: FutureWarning: skimage.measure.label's indexing starts from 0. In future version it will start from 1. To disable this warning, explicitely set the `start_label` parameter to 1.\n",
      "c:\\users\\user\\pycharmprojects\\comp9517\\venv\\lib\\site-packages\\skimage\\morphology\\_deprecated.py:5: skimage_deprecation: Function ``watershed`` is deprecated and will be removed in version 0.19. Use ``skimage.segmentation.watershed`` instead.\n",
      "c:\\users\\user\\pycharmprojects\\comp9517\\venv\\lib\\site-packages\\ipykernel_launcher.py:23: FutureWarning: skimage.measure.label's indexing starts from 0. In future version it will start from 1. To disable this warning, explicitely set the `start_label` parameter to 1.\n"
     ]
    },
    {
     "name": "stdout",
     "output_type": "stream",
     "text": [
      "Dice Score: 0.5824492258808612\n",
      "Best Dice Symmetry Score:  0.5824492258808612\n",
      "\n",
      "Plant/Ara2012\\ara2012_plant021_rgb.png\n"
     ]
    },
    {
     "name": "stderr",
     "output_type": "stream",
     "text": [
      "c:\\users\\user\\pycharmprojects\\comp9517\\venv\\lib\\site-packages\\skimage\\morphology\\_deprecated.py:5: skimage_deprecation: Function ``watershed`` is deprecated and will be removed in version 0.19. Use ``skimage.segmentation.watershed`` instead.\n",
      "c:\\users\\user\\pycharmprojects\\comp9517\\venv\\lib\\site-packages\\ipykernel_launcher.py:23: FutureWarning: skimage.measure.label's indexing starts from 0. In future version it will start from 1. To disable this warning, explicitely set the `start_label` parameter to 1.\n"
     ]
    },
    {
     "name": "stdout",
     "output_type": "stream",
     "text": [
      "Dice Score: 0.38863439701908986\n",
      "Best Dice Symmetry Score:  0.38863439701908986\n",
      "\n",
      "Plant/Ara2012\\ara2012_plant022_rgb.png\n"
     ]
    },
    {
     "name": "stderr",
     "output_type": "stream",
     "text": [
      "c:\\users\\user\\pycharmprojects\\comp9517\\venv\\lib\\site-packages\\skimage\\morphology\\_deprecated.py:5: skimage_deprecation: Function ``watershed`` is deprecated and will be removed in version 0.19. Use ``skimage.segmentation.watershed`` instead.\n",
      "c:\\users\\user\\pycharmprojects\\comp9517\\venv\\lib\\site-packages\\ipykernel_launcher.py:23: FutureWarning: skimage.measure.label's indexing starts from 0. In future version it will start from 1. To disable this warning, explicitely set the `start_label` parameter to 1.\n"
     ]
    },
    {
     "name": "stdout",
     "output_type": "stream",
     "text": [
      "Dice Score: 0.4688434680016581\n",
      "Best Dice Symmetry Score:  0.4688434680016581\n",
      "\n",
      "Plant/Ara2012\\ara2012_plant023_rgb.png\n"
     ]
    },
    {
     "name": "stderr",
     "output_type": "stream",
     "text": [
      "c:\\users\\user\\pycharmprojects\\comp9517\\venv\\lib\\site-packages\\skimage\\morphology\\_deprecated.py:5: skimage_deprecation: Function ``watershed`` is deprecated and will be removed in version 0.19. Use ``skimage.segmentation.watershed`` instead.\n"
     ]
    },
    {
     "name": "stdout",
     "output_type": "stream",
     "text": [
      "Dice Score: 0.375418782258786\n",
      "Best Dice Symmetry Score:  0.375418782258786\n",
      "\n",
      "Plant/Ara2012\\ara2012_plant024_rgb.png\n"
     ]
    },
    {
     "name": "stderr",
     "output_type": "stream",
     "text": [
      "c:\\users\\user\\pycharmprojects\\comp9517\\venv\\lib\\site-packages\\ipykernel_launcher.py:23: FutureWarning: skimage.measure.label's indexing starts from 0. In future version it will start from 1. To disable this warning, explicitely set the `start_label` parameter to 1.\n",
      "c:\\users\\user\\pycharmprojects\\comp9517\\venv\\lib\\site-packages\\skimage\\morphology\\_deprecated.py:5: skimage_deprecation: Function ``watershed`` is deprecated and will be removed in version 0.19. Use ``skimage.segmentation.watershed`` instead.\n"
     ]
    },
    {
     "name": "stdout",
     "output_type": "stream",
     "text": [
      "Dice Score: 0.3738727399860154\n",
      "Best Dice Symmetry Score:  0.3738727399860154\n",
      "\n",
      "Plant/Ara2012\\ara2012_plant025_rgb.png\n"
     ]
    },
    {
     "name": "stderr",
     "output_type": "stream",
     "text": [
      "c:\\users\\user\\pycharmprojects\\comp9517\\venv\\lib\\site-packages\\ipykernel_launcher.py:23: FutureWarning: skimage.measure.label's indexing starts from 0. In future version it will start from 1. To disable this warning, explicitely set the `start_label` parameter to 1.\n",
      "c:\\users\\user\\pycharmprojects\\comp9517\\venv\\lib\\site-packages\\skimage\\morphology\\_deprecated.py:5: skimage_deprecation: Function ``watershed`` is deprecated and will be removed in version 0.19. Use ``skimage.segmentation.watershed`` instead.\n"
     ]
    },
    {
     "name": "stdout",
     "output_type": "stream",
     "text": [
      "Dice Score: 0.4053891311050367\n",
      "Best Dice Symmetry Score:  0.4053891311050367\n",
      "\n",
      "Plant/Ara2012\\ara2012_plant026_rgb.png\n"
     ]
    },
    {
     "name": "stderr",
     "output_type": "stream",
     "text": [
      "c:\\users\\user\\pycharmprojects\\comp9517\\venv\\lib\\site-packages\\ipykernel_launcher.py:23: FutureWarning: skimage.measure.label's indexing starts from 0. In future version it will start from 1. To disable this warning, explicitely set the `start_label` parameter to 1.\n",
      "c:\\users\\user\\pycharmprojects\\comp9517\\venv\\lib\\site-packages\\skimage\\morphology\\_deprecated.py:5: skimage_deprecation: Function ``watershed`` is deprecated and will be removed in version 0.19. Use ``skimage.segmentation.watershed`` instead.\n"
     ]
    },
    {
     "name": "stdout",
     "output_type": "stream",
     "text": [
      "Dice Score: 0.4160576527059797\n",
      "Best Dice Symmetry Score:  0.4160576527059797\n",
      "\n",
      "Plant/Ara2012\\ara2012_plant027_rgb.png\n"
     ]
    },
    {
     "name": "stderr",
     "output_type": "stream",
     "text": [
      "c:\\users\\user\\pycharmprojects\\comp9517\\venv\\lib\\site-packages\\ipykernel_launcher.py:23: FutureWarning: skimage.measure.label's indexing starts from 0. In future version it will start from 1. To disable this warning, explicitely set the `start_label` parameter to 1.\n",
      "c:\\users\\user\\pycharmprojects\\comp9517\\venv\\lib\\site-packages\\skimage\\morphology\\_deprecated.py:5: skimage_deprecation: Function ``watershed`` is deprecated and will be removed in version 0.19. Use ``skimage.segmentation.watershed`` instead.\n"
     ]
    },
    {
     "name": "stdout",
     "output_type": "stream",
     "text": [
      "Dice Score: 0.2862188566706808\n",
      "Best Dice Symmetry Score:  0.2862188566706808\n",
      "\n",
      "Plant/Ara2012\\ara2012_plant028_rgb.png\n"
     ]
    },
    {
     "name": "stderr",
     "output_type": "stream",
     "text": [
      "c:\\users\\user\\pycharmprojects\\comp9517\\venv\\lib\\site-packages\\ipykernel_launcher.py:23: FutureWarning: skimage.measure.label's indexing starts from 0. In future version it will start from 1. To disable this warning, explicitely set the `start_label` parameter to 1.\n",
      "c:\\users\\user\\pycharmprojects\\comp9517\\venv\\lib\\site-packages\\skimage\\morphology\\_deprecated.py:5: skimage_deprecation: Function ``watershed`` is deprecated and will be removed in version 0.19. Use ``skimage.segmentation.watershed`` instead.\n",
      "c:\\users\\user\\pycharmprojects\\comp9517\\venv\\lib\\site-packages\\ipykernel_launcher.py:23: FutureWarning: skimage.measure.label's indexing starts from 0. In future version it will start from 1. To disable this warning, explicitely set the `start_label` parameter to 1.\n"
     ]
    },
    {
     "name": "stdout",
     "output_type": "stream",
     "text": [
      "Dice Score: 0.5012802478141728\n",
      "Best Dice Symmetry Score:  0.5012802478141728\n",
      "\n",
      "Plant/Ara2012\\ara2012_plant029_rgb.png\n"
     ]
    },
    {
     "name": "stderr",
     "output_type": "stream",
     "text": [
      "c:\\users\\user\\pycharmprojects\\comp9517\\venv\\lib\\site-packages\\skimage\\morphology\\_deprecated.py:5: skimage_deprecation: Function ``watershed`` is deprecated and will be removed in version 0.19. Use ``skimage.segmentation.watershed`` instead.\n",
      "c:\\users\\user\\pycharmprojects\\comp9517\\venv\\lib\\site-packages\\ipykernel_launcher.py:23: FutureWarning: skimage.measure.label's indexing starts from 0. In future version it will start from 1. To disable this warning, explicitely set the `start_label` parameter to 1.\n"
     ]
    },
    {
     "name": "stdout",
     "output_type": "stream",
     "text": [
      "Dice Score: 0.5667660283938766\n",
      "Best Dice Symmetry Score:  0.5667660283938766\n",
      "\n",
      "Plant/Ara2012\\ara2012_plant030_rgb.png\n"
     ]
    },
    {
     "name": "stderr",
     "output_type": "stream",
     "text": [
      "c:\\users\\user\\pycharmprojects\\comp9517\\venv\\lib\\site-packages\\skimage\\morphology\\_deprecated.py:5: skimage_deprecation: Function ``watershed`` is deprecated and will be removed in version 0.19. Use ``skimage.segmentation.watershed`` instead.\n",
      "c:\\users\\user\\pycharmprojects\\comp9517\\venv\\lib\\site-packages\\ipykernel_launcher.py:23: FutureWarning: skimage.measure.label's indexing starts from 0. In future version it will start from 1. To disable this warning, explicitely set the `start_label` parameter to 1.\n"
     ]
    },
    {
     "name": "stdout",
     "output_type": "stream",
     "text": [
      "Dice Score: 0.6345099701628814\n",
      "Best Dice Symmetry Score:  0.6345099701628814\n",
      "\n",
      "Plant/Ara2012\\ara2012_plant031_rgb.png\n"
     ]
    },
    {
     "name": "stderr",
     "output_type": "stream",
     "text": [
      "c:\\users\\user\\pycharmprojects\\comp9517\\venv\\lib\\site-packages\\skimage\\morphology\\_deprecated.py:5: skimage_deprecation: Function ``watershed`` is deprecated and will be removed in version 0.19. Use ``skimage.segmentation.watershed`` instead.\n"
     ]
    },
    {
     "name": "stdout",
     "output_type": "stream",
     "text": [
      "Dice Score: 0.32499014280270405\n",
      "Best Dice Symmetry Score:  0.32499014280270405\n",
      "\n",
      "Plant/Ara2012\\ara2012_plant032_rgb.png\n"
     ]
    },
    {
     "name": "stderr",
     "output_type": "stream",
     "text": [
      "c:\\users\\user\\pycharmprojects\\comp9517\\venv\\lib\\site-packages\\ipykernel_launcher.py:23: FutureWarning: skimage.measure.label's indexing starts from 0. In future version it will start from 1. To disable this warning, explicitely set the `start_label` parameter to 1.\n",
      "c:\\users\\user\\pycharmprojects\\comp9517\\venv\\lib\\site-packages\\skimage\\morphology\\_deprecated.py:5: skimage_deprecation: Function ``watershed`` is deprecated and will be removed in version 0.19. Use ``skimage.segmentation.watershed`` instead.\n",
      "c:\\users\\user\\pycharmprojects\\comp9517\\venv\\lib\\site-packages\\ipykernel_launcher.py:23: FutureWarning: skimage.measure.label's indexing starts from 0. In future version it will start from 1. To disable this warning, explicitely set the `start_label` parameter to 1.\n"
     ]
    },
    {
     "name": "stdout",
     "output_type": "stream",
     "text": [
      "Dice Score: 0.35621298026670045\n",
      "Best Dice Symmetry Score:  0.35621298026670045\n",
      "\n",
      "Plant/Ara2012\\ara2012_plant033_rgb.png\n"
     ]
    },
    {
     "name": "stderr",
     "output_type": "stream",
     "text": [
      "c:\\users\\user\\pycharmprojects\\comp9517\\venv\\lib\\site-packages\\skimage\\morphology\\_deprecated.py:5: skimage_deprecation: Function ``watershed`` is deprecated and will be removed in version 0.19. Use ``skimage.segmentation.watershed`` instead.\n",
      "c:\\users\\user\\pycharmprojects\\comp9517\\venv\\lib\\site-packages\\ipykernel_launcher.py:23: FutureWarning: skimage.measure.label's indexing starts from 0. In future version it will start from 1. To disable this warning, explicitely set the `start_label` parameter to 1.\n"
     ]
    },
    {
     "name": "stdout",
     "output_type": "stream",
     "text": [
      "Dice Score: 0.4876487194998992\n",
      "Best Dice Symmetry Score:  0.4876487194998992\n",
      "\n",
      "Plant/Ara2012\\ara2012_plant034_rgb.png\n"
     ]
    },
    {
     "name": "stderr",
     "output_type": "stream",
     "text": [
      "c:\\users\\user\\pycharmprojects\\comp9517\\venv\\lib\\site-packages\\skimage\\morphology\\_deprecated.py:5: skimage_deprecation: Function ``watershed`` is deprecated and will be removed in version 0.19. Use ``skimage.segmentation.watershed`` instead.\n"
     ]
    },
    {
     "name": "stdout",
     "output_type": "stream",
     "text": [
      "Dice Score: 0.4185117550280033\n",
      "Best Dice Symmetry Score:  0.4185117550280033\n",
      "\n",
      "Plant/Ara2012\\ara2012_plant035_rgb.png\n"
     ]
    },
    {
     "name": "stderr",
     "output_type": "stream",
     "text": [
      "c:\\users\\user\\pycharmprojects\\comp9517\\venv\\lib\\site-packages\\ipykernel_launcher.py:23: FutureWarning: skimage.measure.label's indexing starts from 0. In future version it will start from 1. To disable this warning, explicitely set the `start_label` parameter to 1.\n",
      "c:\\users\\user\\pycharmprojects\\comp9517\\venv\\lib\\site-packages\\skimage\\morphology\\_deprecated.py:5: skimage_deprecation: Function ``watershed`` is deprecated and will be removed in version 0.19. Use ``skimage.segmentation.watershed`` instead.\n"
     ]
    },
    {
     "name": "stdout",
     "output_type": "stream",
     "text": [
      "Dice Score: 0.34810158117095646\n",
      "Best Dice Symmetry Score:  0.34810158117095646\n",
      "\n",
      "Plant/Ara2012\\ara2012_plant036_rgb.png\n"
     ]
    },
    {
     "name": "stderr",
     "output_type": "stream",
     "text": [
      "c:\\users\\user\\pycharmprojects\\comp9517\\venv\\lib\\site-packages\\ipykernel_launcher.py:23: FutureWarning: skimage.measure.label's indexing starts from 0. In future version it will start from 1. To disable this warning, explicitely set the `start_label` parameter to 1.\n",
      "c:\\users\\user\\pycharmprojects\\comp9517\\venv\\lib\\site-packages\\skimage\\morphology\\_deprecated.py:5: skimage_deprecation: Function ``watershed`` is deprecated and will be removed in version 0.19. Use ``skimage.segmentation.watershed`` instead.\n"
     ]
    },
    {
     "name": "stdout",
     "output_type": "stream",
     "text": [
      "Dice Score: 0.4399056158565361\n",
      "Best Dice Symmetry Score:  0.4399056158565361\n",
      "\n",
      "Plant/Ara2012\\ara2012_plant037_rgb.png\n"
     ]
    },
    {
     "name": "stderr",
     "output_type": "stream",
     "text": [
      "c:\\users\\user\\pycharmprojects\\comp9517\\venv\\lib\\site-packages\\ipykernel_launcher.py:23: FutureWarning: skimage.measure.label's indexing starts from 0. In future version it will start from 1. To disable this warning, explicitely set the `start_label` parameter to 1.\n",
      "c:\\users\\user\\pycharmprojects\\comp9517\\venv\\lib\\site-packages\\skimage\\morphology\\_deprecated.py:5: skimage_deprecation: Function ``watershed`` is deprecated and will be removed in version 0.19. Use ``skimage.segmentation.watershed`` instead.\n",
      "c:\\users\\user\\pycharmprojects\\comp9517\\venv\\lib\\site-packages\\ipykernel_launcher.py:23: FutureWarning: skimage.measure.label's indexing starts from 0. In future version it will start from 1. To disable this warning, explicitely set the `start_label` parameter to 1.\n"
     ]
    },
    {
     "name": "stdout",
     "output_type": "stream",
     "text": [
      "Dice Score: 0.5312265744556638\n",
      "Best Dice Symmetry Score:  0.5312265744556638\n",
      "\n",
      "Plant/Ara2012\\ara2012_plant038_rgb.png\n"
     ]
    },
    {
     "name": "stderr",
     "output_type": "stream",
     "text": [
      "c:\\users\\user\\pycharmprojects\\comp9517\\venv\\lib\\site-packages\\skimage\\morphology\\_deprecated.py:5: skimage_deprecation: Function ``watershed`` is deprecated and will be removed in version 0.19. Use ``skimage.segmentation.watershed`` instead.\n"
     ]
    },
    {
     "name": "stdout",
     "output_type": "stream",
     "text": [
      "Dice Score: 0.41628083859539866\n",
      "Best Dice Symmetry Score:  0.41628083859539866\n",
      "\n",
      "Plant/Ara2012\\ara2012_plant039_rgb.png\n"
     ]
    },
    {
     "name": "stderr",
     "output_type": "stream",
     "text": [
      "c:\\users\\user\\pycharmprojects\\comp9517\\venv\\lib\\site-packages\\ipykernel_launcher.py:23: FutureWarning: skimage.measure.label's indexing starts from 0. In future version it will start from 1. To disable this warning, explicitely set the `start_label` parameter to 1.\n",
      "c:\\users\\user\\pycharmprojects\\comp9517\\venv\\lib\\site-packages\\skimage\\morphology\\_deprecated.py:5: skimage_deprecation: Function ``watershed`` is deprecated and will be removed in version 0.19. Use ``skimage.segmentation.watershed`` instead.\n"
     ]
    },
    {
     "name": "stdout",
     "output_type": "stream",
     "text": [
      "Dice Score: 0.2432077450243091\n",
      "Best Dice Symmetry Score:  0.2432077450243091\n",
      "\n",
      "Plant/Ara2012\\ara2012_plant040_rgb.png\n"
     ]
    },
    {
     "name": "stderr",
     "output_type": "stream",
     "text": [
      "c:\\users\\user\\pycharmprojects\\comp9517\\venv\\lib\\site-packages\\ipykernel_launcher.py:23: FutureWarning: skimage.measure.label's indexing starts from 0. In future version it will start from 1. To disable this warning, explicitely set the `start_label` parameter to 1.\n",
      "c:\\users\\user\\pycharmprojects\\comp9517\\venv\\lib\\site-packages\\skimage\\morphology\\_deprecated.py:5: skimage_deprecation: Function ``watershed`` is deprecated and will be removed in version 0.19. Use ``skimage.segmentation.watershed`` instead.\n",
      "c:\\users\\user\\pycharmprojects\\comp9517\\venv\\lib\\site-packages\\ipykernel_launcher.py:23: FutureWarning: skimage.measure.label's indexing starts from 0. In future version it will start from 1. To disable this warning, explicitely set the `start_label` parameter to 1.\n"
     ]
    },
    {
     "name": "stdout",
     "output_type": "stream",
     "text": [
      "Dice Score: 0.4631097909288244\n",
      "Best Dice Symmetry Score:  0.4631097909288244\n",
      "\n",
      "Plant/Ara2012\\ara2012_plant041_rgb.png\n"
     ]
    },
    {
     "name": "stderr",
     "output_type": "stream",
     "text": [
      "c:\\users\\user\\pycharmprojects\\comp9517\\venv\\lib\\site-packages\\skimage\\morphology\\_deprecated.py:5: skimage_deprecation: Function ``watershed`` is deprecated and will be removed in version 0.19. Use ``skimage.segmentation.watershed`` instead.\n",
      "c:\\users\\user\\pycharmprojects\\comp9517\\venv\\lib\\site-packages\\ipykernel_launcher.py:23: FutureWarning: skimage.measure.label's indexing starts from 0. In future version it will start from 1. To disable this warning, explicitely set the `start_label` parameter to 1.\n"
     ]
    },
    {
     "name": "stdout",
     "output_type": "stream",
     "text": [
      "Dice Score: 0.49635621958078135\n",
      "Best Dice Symmetry Score:  0.49635621958078135\n",
      "\n",
      "Plant/Ara2012\\ara2012_plant042_rgb.png\n"
     ]
    },
    {
     "name": "stderr",
     "output_type": "stream",
     "text": [
      "c:\\users\\user\\pycharmprojects\\comp9517\\venv\\lib\\site-packages\\skimage\\morphology\\_deprecated.py:5: skimage_deprecation: Function ``watershed`` is deprecated and will be removed in version 0.19. Use ``skimage.segmentation.watershed`` instead.\n",
      "c:\\users\\user\\pycharmprojects\\comp9517\\venv\\lib\\site-packages\\ipykernel_launcher.py:23: FutureWarning: skimage.measure.label's indexing starts from 0. In future version it will start from 1. To disable this warning, explicitely set the `start_label` parameter to 1.\n"
     ]
    },
    {
     "name": "stdout",
     "output_type": "stream",
     "text": [
      "Dice Score: 0.584494527096133\n",
      "Best Dice Symmetry Score:  0.584494527096133\n",
      "\n",
      "Plant/Ara2012\\ara2012_plant043_rgb.png\n"
     ]
    },
    {
     "name": "stderr",
     "output_type": "stream",
     "text": [
      "c:\\users\\user\\pycharmprojects\\comp9517\\venv\\lib\\site-packages\\skimage\\morphology\\_deprecated.py:5: skimage_deprecation: Function ``watershed`` is deprecated and will be removed in version 0.19. Use ``skimage.segmentation.watershed`` instead.\n",
      "c:\\users\\user\\pycharmprojects\\comp9517\\venv\\lib\\site-packages\\ipykernel_launcher.py:23: FutureWarning: skimage.measure.label's indexing starts from 0. In future version it will start from 1. To disable this warning, explicitely set the `start_label` parameter to 1.\n"
     ]
    },
    {
     "name": "stdout",
     "output_type": "stream",
     "text": [
      "Dice Score: 0.5632502242663288\n",
      "Best Dice Symmetry Score:  0.5632502242663288\n",
      "\n",
      "Plant/Ara2012\\ara2012_plant044_rgb.png\n"
     ]
    },
    {
     "name": "stderr",
     "output_type": "stream",
     "text": [
      "c:\\users\\user\\pycharmprojects\\comp9517\\venv\\lib\\site-packages\\skimage\\morphology\\_deprecated.py:5: skimage_deprecation: Function ``watershed`` is deprecated and will be removed in version 0.19. Use ``skimage.segmentation.watershed`` instead.\n",
      "c:\\users\\user\\pycharmprojects\\comp9517\\venv\\lib\\site-packages\\ipykernel_launcher.py:23: FutureWarning: skimage.measure.label's indexing starts from 0. In future version it will start from 1. To disable this warning, explicitely set the `start_label` parameter to 1.\n"
     ]
    },
    {
     "name": "stdout",
     "output_type": "stream",
     "text": [
      "Dice Score: 0.6176334246008851\n",
      "Best Dice Symmetry Score:  0.6176334246008851\n",
      "\n",
      "Plant/Ara2012\\ara2012_plant045_rgb.png\n"
     ]
    },
    {
     "name": "stderr",
     "output_type": "stream",
     "text": [
      "c:\\users\\user\\pycharmprojects\\comp9517\\venv\\lib\\site-packages\\skimage\\morphology\\_deprecated.py:5: skimage_deprecation: Function ``watershed`` is deprecated and will be removed in version 0.19. Use ``skimage.segmentation.watershed`` instead.\n",
      "c:\\users\\user\\pycharmprojects\\comp9517\\venv\\lib\\site-packages\\ipykernel_launcher.py:23: FutureWarning: skimage.measure.label's indexing starts from 0. In future version it will start from 1. To disable this warning, explicitely set the `start_label` parameter to 1.\n"
     ]
    },
    {
     "name": "stdout",
     "output_type": "stream",
     "text": [
      "Dice Score: 0.34716091492776885\n",
      "Best Dice Symmetry Score:  0.34716091492776885\n",
      "\n",
      "Plant/Ara2012\\ara2012_plant046_rgb.png\n"
     ]
    },
    {
     "name": "stderr",
     "output_type": "stream",
     "text": [
      "c:\\users\\user\\pycharmprojects\\comp9517\\venv\\lib\\site-packages\\skimage\\morphology\\_deprecated.py:5: skimage_deprecation: Function ``watershed`` is deprecated and will be removed in version 0.19. Use ``skimage.segmentation.watershed`` instead.\n"
     ]
    },
    {
     "name": "stdout",
     "output_type": "stream",
     "text": [
      "Dice Score: 0.40691510584694657\n",
      "Best Dice Symmetry Score:  0.40691510584694657\n",
      "\n",
      "Plant/Ara2012\\ara2012_plant047_rgb.png\n"
     ]
    },
    {
     "name": "stderr",
     "output_type": "stream",
     "text": [
      "c:\\users\\user\\pycharmprojects\\comp9517\\venv\\lib\\site-packages\\ipykernel_launcher.py:23: FutureWarning: skimage.measure.label's indexing starts from 0. In future version it will start from 1. To disable this warning, explicitely set the `start_label` parameter to 1.\n",
      "c:\\users\\user\\pycharmprojects\\comp9517\\venv\\lib\\site-packages\\skimage\\morphology\\_deprecated.py:5: skimage_deprecation: Function ``watershed`` is deprecated and will be removed in version 0.19. Use ``skimage.segmentation.watershed`` instead.\n"
     ]
    },
    {
     "name": "stdout",
     "output_type": "stream",
     "text": [
      "Dice Score: 0.47511824313273976\n",
      "Best Dice Symmetry Score:  0.47511824313273976\n",
      "\n",
      "Plant/Ara2012\\ara2012_plant048_rgb.png\n"
     ]
    },
    {
     "name": "stderr",
     "output_type": "stream",
     "text": [
      "c:\\users\\user\\pycharmprojects\\comp9517\\venv\\lib\\site-packages\\ipykernel_launcher.py:23: FutureWarning: skimage.measure.label's indexing starts from 0. In future version it will start from 1. To disable this warning, explicitely set the `start_label` parameter to 1.\n",
      "c:\\users\\user\\pycharmprojects\\comp9517\\venv\\lib\\site-packages\\skimage\\morphology\\_deprecated.py:5: skimage_deprecation: Function ``watershed`` is deprecated and will be removed in version 0.19. Use ``skimage.segmentation.watershed`` instead.\n"
     ]
    },
    {
     "name": "stdout",
     "output_type": "stream",
     "text": [
      "Dice Score: 0.4092449316541238\n",
      "Best Dice Symmetry Score:  0.4092449316541238\n",
      "\n",
      "Plant/Ara2012\\ara2012_plant049_rgb.png\n"
     ]
    },
    {
     "name": "stderr",
     "output_type": "stream",
     "text": [
      "c:\\users\\user\\pycharmprojects\\comp9517\\venv\\lib\\site-packages\\ipykernel_launcher.py:23: FutureWarning: skimage.measure.label's indexing starts from 0. In future version it will start from 1. To disable this warning, explicitely set the `start_label` parameter to 1.\n",
      "c:\\users\\user\\pycharmprojects\\comp9517\\venv\\lib\\site-packages\\skimage\\morphology\\_deprecated.py:5: skimage_deprecation: Function ``watershed`` is deprecated and will be removed in version 0.19. Use ``skimage.segmentation.watershed`` instead.\n",
      "c:\\users\\user\\pycharmprojects\\comp9517\\venv\\lib\\site-packages\\ipykernel_launcher.py:23: FutureWarning: skimage.measure.label's indexing starts from 0. In future version it will start from 1. To disable this warning, explicitely set the `start_label` parameter to 1.\n"
     ]
    },
    {
     "name": "stdout",
     "output_type": "stream",
     "text": [
      "Dice Score: 0.5266952207285527\n",
      "Best Dice Symmetry Score:  0.5266952207285527\n",
      "\n",
      "Plant/Ara2012\\ara2012_plant050_rgb.png\n"
     ]
    },
    {
     "name": "stderr",
     "output_type": "stream",
     "text": [
      "c:\\users\\user\\pycharmprojects\\comp9517\\venv\\lib\\site-packages\\skimage\\morphology\\_deprecated.py:5: skimage_deprecation: Function ``watershed`` is deprecated and will be removed in version 0.19. Use ``skimage.segmentation.watershed`` instead.\n"
     ]
    },
    {
     "name": "stdout",
     "output_type": "stream",
     "text": [
      "Dice Score: 0.315687389339357\n",
      "Best Dice Symmetry Score:  0.315687389339357\n",
      "\n",
      "Plant/Ara2012\\ara2012_plant051_rgb.png\n"
     ]
    },
    {
     "name": "stderr",
     "output_type": "stream",
     "text": [
      "c:\\users\\user\\pycharmprojects\\comp9517\\venv\\lib\\site-packages\\ipykernel_launcher.py:23: FutureWarning: skimage.measure.label's indexing starts from 0. In future version it will start from 1. To disable this warning, explicitely set the `start_label` parameter to 1.\n",
      "c:\\users\\user\\pycharmprojects\\comp9517\\venv\\lib\\site-packages\\skimage\\morphology\\_deprecated.py:5: skimage_deprecation: Function ``watershed`` is deprecated and will be removed in version 0.19. Use ``skimage.segmentation.watershed`` instead.\n"
     ]
    },
    {
     "name": "stdout",
     "output_type": "stream",
     "text": [
      "Dice Score: 0.4161418099044683\n",
      "Best Dice Symmetry Score:  0.4161418099044683\n",
      "\n",
      "Plant/Ara2012\\ara2012_plant052_rgb.png\n"
     ]
    },
    {
     "name": "stderr",
     "output_type": "stream",
     "text": [
      "c:\\users\\user\\pycharmprojects\\comp9517\\venv\\lib\\site-packages\\ipykernel_launcher.py:23: FutureWarning: skimage.measure.label's indexing starts from 0. In future version it will start from 1. To disable this warning, explicitely set the `start_label` parameter to 1.\n",
      "c:\\users\\user\\pycharmprojects\\comp9517\\venv\\lib\\site-packages\\skimage\\morphology\\_deprecated.py:5: skimage_deprecation: Function ``watershed`` is deprecated and will be removed in version 0.19. Use ``skimage.segmentation.watershed`` instead.\n"
     ]
    },
    {
     "name": "stdout",
     "output_type": "stream",
     "text": [
      "Dice Score: 0.3713659294784246\n",
      "Best Dice Symmetry Score:  0.3713659294784246\n",
      "\n",
      "Plant/Ara2012\\ara2012_plant053_rgb.png\n"
     ]
    },
    {
     "name": "stderr",
     "output_type": "stream",
     "text": [
      "c:\\users\\user\\pycharmprojects\\comp9517\\venv\\lib\\site-packages\\ipykernel_launcher.py:23: FutureWarning: skimage.measure.label's indexing starts from 0. In future version it will start from 1. To disable this warning, explicitely set the `start_label` parameter to 1.\n",
      "c:\\users\\user\\pycharmprojects\\comp9517\\venv\\lib\\site-packages\\skimage\\morphology\\_deprecated.py:5: skimage_deprecation: Function ``watershed`` is deprecated and will be removed in version 0.19. Use ``skimage.segmentation.watershed`` instead.\n"
     ]
    },
    {
     "name": "stdout",
     "output_type": "stream",
     "text": [
      "Dice Score: 0.34287532056442904\n",
      "Best Dice Symmetry Score:  0.34287532056442904\n",
      "\n",
      "Plant/Ara2012\\ara2012_plant054_rgb.png\n"
     ]
    },
    {
     "name": "stderr",
     "output_type": "stream",
     "text": [
      "c:\\users\\user\\pycharmprojects\\comp9517\\venv\\lib\\site-packages\\ipykernel_launcher.py:23: FutureWarning: skimage.measure.label's indexing starts from 0. In future version it will start from 1. To disable this warning, explicitely set the `start_label` parameter to 1.\n",
      "c:\\users\\user\\pycharmprojects\\comp9517\\venv\\lib\\site-packages\\skimage\\morphology\\_deprecated.py:5: skimage_deprecation: Function ``watershed`` is deprecated and will be removed in version 0.19. Use ``skimage.segmentation.watershed`` instead.\n"
     ]
    },
    {
     "name": "stdout",
     "output_type": "stream",
     "text": [
      "Dice Score: 0.34841073425926744\n",
      "Best Dice Symmetry Score:  0.34841073425926744\n",
      "\n",
      "Plant/Ara2012\\ara2012_plant055_rgb.png\n"
     ]
    },
    {
     "name": "stderr",
     "output_type": "stream",
     "text": [
      "c:\\users\\user\\pycharmprojects\\comp9517\\venv\\lib\\site-packages\\ipykernel_launcher.py:23: FutureWarning: skimage.measure.label's indexing starts from 0. In future version it will start from 1. To disable this warning, explicitely set the `start_label` parameter to 1.\n",
      "c:\\users\\user\\pycharmprojects\\comp9517\\venv\\lib\\site-packages\\skimage\\morphology\\_deprecated.py:5: skimage_deprecation: Function ``watershed`` is deprecated and will be removed in version 0.19. Use ``skimage.segmentation.watershed`` instead.\n"
     ]
    },
    {
     "name": "stdout",
     "output_type": "stream",
     "text": [
      "Dice Score: 0.42289495172678804\n",
      "Best Dice Symmetry Score:  0.42289495172678804\n",
      "\n",
      "Plant/Ara2012\\ara2012_plant056_rgb.png\n"
     ]
    },
    {
     "name": "stderr",
     "output_type": "stream",
     "text": [
      "c:\\users\\user\\pycharmprojects\\comp9517\\venv\\lib\\site-packages\\ipykernel_launcher.py:23: FutureWarning: skimage.measure.label's indexing starts from 0. In future version it will start from 1. To disable this warning, explicitely set the `start_label` parameter to 1.\n",
      "c:\\users\\user\\pycharmprojects\\comp9517\\venv\\lib\\site-packages\\skimage\\morphology\\_deprecated.py:5: skimage_deprecation: Function ``watershed`` is deprecated and will be removed in version 0.19. Use ``skimage.segmentation.watershed`` instead.\n",
      "c:\\users\\user\\pycharmprojects\\comp9517\\venv\\lib\\site-packages\\ipykernel_launcher.py:23: FutureWarning: skimage.measure.label's indexing starts from 0. In future version it will start from 1. To disable this warning, explicitely set the `start_label` parameter to 1.\n"
     ]
    },
    {
     "name": "stdout",
     "output_type": "stream",
     "text": [
      "Dice Score: 0.5789299489542625\n",
      "Best Dice Symmetry Score:  0.5789299489542625\n",
      "\n",
      "Plant/Ara2012\\ara2012_plant057_rgb.png\n"
     ]
    },
    {
     "name": "stderr",
     "output_type": "stream",
     "text": [
      "c:\\users\\user\\pycharmprojects\\comp9517\\venv\\lib\\site-packages\\skimage\\morphology\\_deprecated.py:5: skimage_deprecation: Function ``watershed`` is deprecated and will be removed in version 0.19. Use ``skimage.segmentation.watershed`` instead.\n",
      "c:\\users\\user\\pycharmprojects\\comp9517\\venv\\lib\\site-packages\\ipykernel_launcher.py:23: FutureWarning: skimage.measure.label's indexing starts from 0. In future version it will start from 1. To disable this warning, explicitely set the `start_label` parameter to 1.\n"
     ]
    },
    {
     "name": "stdout",
     "output_type": "stream",
     "text": [
      "Dice Score: 0.5289622681670474\n",
      "Best Dice Symmetry Score:  0.5289622681670474\n",
      "\n",
      "Plant/Ara2012\\ara2012_plant058_rgb.png\n"
     ]
    },
    {
     "name": "stderr",
     "output_type": "stream",
     "text": [
      "c:\\users\\user\\pycharmprojects\\comp9517\\venv\\lib\\site-packages\\skimage\\morphology\\_deprecated.py:5: skimage_deprecation: Function ``watershed`` is deprecated and will be removed in version 0.19. Use ``skimage.segmentation.watershed`` instead.\n",
      "c:\\users\\user\\pycharmprojects\\comp9517\\venv\\lib\\site-packages\\ipykernel_launcher.py:23: FutureWarning: skimage.measure.label's indexing starts from 0. In future version it will start from 1. To disable this warning, explicitely set the `start_label` parameter to 1.\n"
     ]
    },
    {
     "name": "stdout",
     "output_type": "stream",
     "text": [
      "Dice Score: 0.30473863499986154\n",
      "Best Dice Symmetry Score:  0.30473863499986154\n",
      "\n",
      "Plant/Ara2012\\ara2012_plant059_rgb.png\n"
     ]
    },
    {
     "name": "stderr",
     "output_type": "stream",
     "text": [
      "c:\\users\\user\\pycharmprojects\\comp9517\\venv\\lib\\site-packages\\skimage\\morphology\\_deprecated.py:5: skimage_deprecation: Function ``watershed`` is deprecated and will be removed in version 0.19. Use ``skimage.segmentation.watershed`` instead.\n",
      "c:\\users\\user\\pycharmprojects\\comp9517\\venv\\lib\\site-packages\\ipykernel_launcher.py:23: FutureWarning: skimage.measure.label's indexing starts from 0. In future version it will start from 1. To disable this warning, explicitely set the `start_label` parameter to 1.\n"
     ]
    },
    {
     "name": "stdout",
     "output_type": "stream",
     "text": [
      "Dice Score: 0.36105611498530016\n",
      "Best Dice Symmetry Score:  0.36105611498530016\n",
      "\n",
      "Plant/Ara2012\\ara2012_plant060_rgb.png\n"
     ]
    },
    {
     "name": "stderr",
     "output_type": "stream",
     "text": [
      "c:\\users\\user\\pycharmprojects\\comp9517\\venv\\lib\\site-packages\\skimage\\morphology\\_deprecated.py:5: skimage_deprecation: Function ``watershed`` is deprecated and will be removed in version 0.19. Use ``skimage.segmentation.watershed`` instead.\n"
     ]
    },
    {
     "name": "stdout",
     "output_type": "stream",
     "text": [
      "Dice Score: 0.44581727860395504\n",
      "Best Dice Symmetry Score:  0.44581727860395504\n",
      "\n",
      "Plant/Ara2012\\ara2012_plant061_rgb.png\n"
     ]
    },
    {
     "name": "stderr",
     "output_type": "stream",
     "text": [
      "c:\\users\\user\\pycharmprojects\\comp9517\\venv\\lib\\site-packages\\ipykernel_launcher.py:23: FutureWarning: skimage.measure.label's indexing starts from 0. In future version it will start from 1. To disable this warning, explicitely set the `start_label` parameter to 1.\n",
      "c:\\users\\user\\pycharmprojects\\comp9517\\venv\\lib\\site-packages\\skimage\\morphology\\_deprecated.py:5: skimage_deprecation: Function ``watershed`` is deprecated and will be removed in version 0.19. Use ``skimage.segmentation.watershed`` instead.\n"
     ]
    },
    {
     "name": "stdout",
     "output_type": "stream",
     "text": [
      "Dice Score: 0.37006570238983416\n",
      "Best Dice Symmetry Score:  0.37006570238983416\n",
      "\n",
      "Plant/Ara2012\\ara2012_plant062_rgb.png\n"
     ]
    },
    {
     "name": "stderr",
     "output_type": "stream",
     "text": [
      "c:\\users\\user\\pycharmprojects\\comp9517\\venv\\lib\\site-packages\\ipykernel_launcher.py:23: FutureWarning: skimage.measure.label's indexing starts from 0. In future version it will start from 1. To disable this warning, explicitely set the `start_label` parameter to 1.\n",
      "c:\\users\\user\\pycharmprojects\\comp9517\\venv\\lib\\site-packages\\skimage\\morphology\\_deprecated.py:5: skimage_deprecation: Function ``watershed`` is deprecated and will be removed in version 0.19. Use ``skimage.segmentation.watershed`` instead.\n"
     ]
    },
    {
     "name": "stdout",
     "output_type": "stream",
     "text": [
      "Dice Score: 0.5100172581976439\n",
      "Best Dice Symmetry Score:  0.5100172581976439\n",
      "\n",
      "Plant/Ara2012\\ara2012_plant063_rgb.png\n"
     ]
    },
    {
     "name": "stderr",
     "output_type": "stream",
     "text": [
      "c:\\users\\user\\pycharmprojects\\comp9517\\venv\\lib\\site-packages\\ipykernel_launcher.py:23: FutureWarning: skimage.measure.label's indexing starts from 0. In future version it will start from 1. To disable this warning, explicitely set the `start_label` parameter to 1.\n",
      "c:\\users\\user\\pycharmprojects\\comp9517\\venv\\lib\\site-packages\\skimage\\morphology\\_deprecated.py:5: skimage_deprecation: Function ``watershed`` is deprecated and will be removed in version 0.19. Use ``skimage.segmentation.watershed`` instead.\n"
     ]
    },
    {
     "name": "stdout",
     "output_type": "stream",
     "text": [
      "Dice Score: 0.2903532580401086\n",
      "Best Dice Symmetry Score:  0.2903532580401086\n",
      "\n",
      "Plant/Ara2012\\ara2012_plant064_rgb.png\n"
     ]
    },
    {
     "name": "stderr",
     "output_type": "stream",
     "text": [
      "c:\\users\\user\\pycharmprojects\\comp9517\\venv\\lib\\site-packages\\ipykernel_launcher.py:23: FutureWarning: skimage.measure.label's indexing starts from 0. In future version it will start from 1. To disable this warning, explicitely set the `start_label` parameter to 1.\n",
      "c:\\users\\user\\pycharmprojects\\comp9517\\venv\\lib\\site-packages\\skimage\\morphology\\_deprecated.py:5: skimage_deprecation: Function ``watershed`` is deprecated and will be removed in version 0.19. Use ``skimage.segmentation.watershed`` instead.\n"
     ]
    },
    {
     "name": "stdout",
     "output_type": "stream",
     "text": [
      "Dice Score: 0.40786850383235124\n",
      "Best Dice Symmetry Score:  0.40786850383235124\n",
      "\n",
      "Plant/Ara2012\\ara2012_plant065_rgb.png\n"
     ]
    },
    {
     "name": "stderr",
     "output_type": "stream",
     "text": [
      "c:\\users\\user\\pycharmprojects\\comp9517\\venv\\lib\\site-packages\\ipykernel_launcher.py:23: FutureWarning: skimage.measure.label's indexing starts from 0. In future version it will start from 1. To disable this warning, explicitely set the `start_label` parameter to 1.\n",
      "c:\\users\\user\\pycharmprojects\\comp9517\\venv\\lib\\site-packages\\skimage\\morphology\\_deprecated.py:5: skimage_deprecation: Function ``watershed`` is deprecated and will be removed in version 0.19. Use ``skimage.segmentation.watershed`` instead.\n",
      "c:\\users\\user\\pycharmprojects\\comp9517\\venv\\lib\\site-packages\\ipykernel_launcher.py:23: FutureWarning: skimage.measure.label's indexing starts from 0. In future version it will start from 1. To disable this warning, explicitely set the `start_label` parameter to 1.\n"
     ]
    },
    {
     "name": "stdout",
     "output_type": "stream",
     "text": [
      "Dice Score: 0.5020725182375919\n",
      "Best Dice Symmetry Score:  0.5020725182375919\n",
      "\n",
      "Plant/Ara2012\\ara2012_plant066_rgb.png\n"
     ]
    },
    {
     "name": "stderr",
     "output_type": "stream",
     "text": [
      "c:\\users\\user\\pycharmprojects\\comp9517\\venv\\lib\\site-packages\\skimage\\morphology\\_deprecated.py:5: skimage_deprecation: Function ``watershed`` is deprecated and will be removed in version 0.19. Use ``skimage.segmentation.watershed`` instead.\n"
     ]
    },
    {
     "name": "stdout",
     "output_type": "stream",
     "text": [
      "Dice Score: 0.2479499516889353\n",
      "Best Dice Symmetry Score:  0.2479499516889353\n",
      "\n",
      "Plant/Ara2012\\ara2012_plant067_rgb.png\n"
     ]
    },
    {
     "name": "stderr",
     "output_type": "stream",
     "text": [
      "c:\\users\\user\\pycharmprojects\\comp9517\\venv\\lib\\site-packages\\ipykernel_launcher.py:23: FutureWarning: skimage.measure.label's indexing starts from 0. In future version it will start from 1. To disable this warning, explicitely set the `start_label` parameter to 1.\n",
      "c:\\users\\user\\pycharmprojects\\comp9517\\venv\\lib\\site-packages\\skimage\\morphology\\_deprecated.py:5: skimage_deprecation: Function ``watershed`` is deprecated and will be removed in version 0.19. Use ``skimage.segmentation.watershed`` instead.\n"
     ]
    },
    {
     "name": "stdout",
     "output_type": "stream",
     "text": [
      "Dice Score: 0.3016881459382637\n",
      "Best Dice Symmetry Score:  0.3016881459382637\n",
      "\n",
      "Plant/Ara2012\\ara2012_plant068_rgb.png\n"
     ]
    },
    {
     "name": "stderr",
     "output_type": "stream",
     "text": [
      "c:\\users\\user\\pycharmprojects\\comp9517\\venv\\lib\\site-packages\\ipykernel_launcher.py:23: FutureWarning: skimage.measure.label's indexing starts from 0. In future version it will start from 1. To disable this warning, explicitely set the `start_label` parameter to 1.\n",
      "c:\\users\\user\\pycharmprojects\\comp9517\\venv\\lib\\site-packages\\skimage\\morphology\\_deprecated.py:5: skimage_deprecation: Function ``watershed`` is deprecated and will be removed in version 0.19. Use ``skimage.segmentation.watershed`` instead.\n"
     ]
    },
    {
     "name": "stdout",
     "output_type": "stream",
     "text": [
      "Dice Score: 0.32039062353075937\n",
      "Best Dice Symmetry Score:  0.32039062353075937\n",
      "\n",
      "Plant/Ara2012\\ara2012_plant069_rgb.png\n"
     ]
    },
    {
     "name": "stderr",
     "output_type": "stream",
     "text": [
      "c:\\users\\user\\pycharmprojects\\comp9517\\venv\\lib\\site-packages\\ipykernel_launcher.py:23: FutureWarning: skimage.measure.label's indexing starts from 0. In future version it will start from 1. To disable this warning, explicitely set the `start_label` parameter to 1.\n",
      "c:\\users\\user\\pycharmprojects\\comp9517\\venv\\lib\\site-packages\\skimage\\morphology\\_deprecated.py:5: skimage_deprecation: Function ``watershed`` is deprecated and will be removed in version 0.19. Use ``skimage.segmentation.watershed`` instead.\n"
     ]
    },
    {
     "name": "stdout",
     "output_type": "stream",
     "text": [
      "Dice Score: 0.18399908191726277\n",
      "Best Dice Symmetry Score:  0.18399908191726277\n",
      "\n",
      "Plant/Ara2012\\ara2012_plant070_rgb.png\n"
     ]
    },
    {
     "name": "stderr",
     "output_type": "stream",
     "text": [
      "c:\\users\\user\\pycharmprojects\\comp9517\\venv\\lib\\site-packages\\ipykernel_launcher.py:23: FutureWarning: skimage.measure.label's indexing starts from 0. In future version it will start from 1. To disable this warning, explicitely set the `start_label` parameter to 1.\n",
      "c:\\users\\user\\pycharmprojects\\comp9517\\venv\\lib\\site-packages\\skimage\\morphology\\_deprecated.py:5: skimage_deprecation: Function ``watershed`` is deprecated and will be removed in version 0.19. Use ``skimage.segmentation.watershed`` instead.\n"
     ]
    },
    {
     "name": "stdout",
     "output_type": "stream",
     "text": [
      "Dice Score: 0.3626064286252999\n",
      "Best Dice Symmetry Score:  0.3626064286252999\n",
      "\n",
      "Plant/Ara2012\\ara2012_plant071_rgb.png\n"
     ]
    },
    {
     "name": "stderr",
     "output_type": "stream",
     "text": [
      "c:\\users\\user\\pycharmprojects\\comp9517\\venv\\lib\\site-packages\\ipykernel_launcher.py:23: FutureWarning: skimage.measure.label's indexing starts from 0. In future version it will start from 1. To disable this warning, explicitely set the `start_label` parameter to 1.\n",
      "c:\\users\\user\\pycharmprojects\\comp9517\\venv\\lib\\site-packages\\skimage\\morphology\\_deprecated.py:5: skimage_deprecation: Function ``watershed`` is deprecated and will be removed in version 0.19. Use ``skimage.segmentation.watershed`` instead.\n"
     ]
    },
    {
     "name": "stdout",
     "output_type": "stream",
     "text": [
      "Dice Score: 0.4397968904309524\n",
      "Best Dice Symmetry Score:  0.4397968904309524\n",
      "\n",
      "Plant/Ara2012\\ara2012_plant072_rgb.png\n"
     ]
    },
    {
     "name": "stderr",
     "output_type": "stream",
     "text": [
      "c:\\users\\user\\pycharmprojects\\comp9517\\venv\\lib\\site-packages\\ipykernel_launcher.py:23: FutureWarning: skimage.measure.label's indexing starts from 0. In future version it will start from 1. To disable this warning, explicitely set the `start_label` parameter to 1.\n",
      "c:\\users\\user\\pycharmprojects\\comp9517\\venv\\lib\\site-packages\\skimage\\morphology\\_deprecated.py:5: skimage_deprecation: Function ``watershed`` is deprecated and will be removed in version 0.19. Use ``skimage.segmentation.watershed`` instead.\n",
      "c:\\users\\user\\pycharmprojects\\comp9517\\venv\\lib\\site-packages\\ipykernel_launcher.py:23: FutureWarning: skimage.measure.label's indexing starts from 0. In future version it will start from 1. To disable this warning, explicitely set the `start_label` parameter to 1.\n"
     ]
    },
    {
     "name": "stdout",
     "output_type": "stream",
     "text": [
      "Dice Score: 0.5620085216868295\n",
      "Best Dice Symmetry Score:  0.5620085216868295\n",
      "\n",
      "Plant/Ara2012\\ara2012_plant073_rgb.png\n"
     ]
    },
    {
     "name": "stderr",
     "output_type": "stream",
     "text": [
      "c:\\users\\user\\pycharmprojects\\comp9517\\venv\\lib\\site-packages\\skimage\\morphology\\_deprecated.py:5: skimage_deprecation: Function ``watershed`` is deprecated and will be removed in version 0.19. Use ``skimage.segmentation.watershed`` instead.\n",
      "c:\\users\\user\\pycharmprojects\\comp9517\\venv\\lib\\site-packages\\ipykernel_launcher.py:23: FutureWarning: skimage.measure.label's indexing starts from 0. In future version it will start from 1. To disable this warning, explicitely set the `start_label` parameter to 1.\n"
     ]
    },
    {
     "name": "stdout",
     "output_type": "stream",
     "text": [
      "Dice Score: 0.5114511457818943\n",
      "Best Dice Symmetry Score:  0.5114511457818943\n",
      "\n",
      "Plant/Ara2012\\ara2012_plant074_rgb.png\n"
     ]
    },
    {
     "name": "stderr",
     "output_type": "stream",
     "text": [
      "c:\\users\\user\\pycharmprojects\\comp9517\\venv\\lib\\site-packages\\skimage\\morphology\\_deprecated.py:5: skimage_deprecation: Function ``watershed`` is deprecated and will be removed in version 0.19. Use ``skimage.segmentation.watershed`` instead.\n",
      "c:\\users\\user\\pycharmprojects\\comp9517\\venv\\lib\\site-packages\\ipykernel_launcher.py:23: FutureWarning: skimage.measure.label's indexing starts from 0. In future version it will start from 1. To disable this warning, explicitely set the `start_label` parameter to 1.\n"
     ]
    },
    {
     "name": "stdout",
     "output_type": "stream",
     "text": [
      "Dice Score: 0.5639565677966102\n",
      "Best Dice Symmetry Score:  0.5639565677966102\n",
      "\n",
      "Plant/Ara2012\\ara2012_plant075_rgb.png\n"
     ]
    },
    {
     "name": "stderr",
     "output_type": "stream",
     "text": [
      "c:\\users\\user\\pycharmprojects\\comp9517\\venv\\lib\\site-packages\\skimage\\morphology\\_deprecated.py:5: skimage_deprecation: Function ``watershed`` is deprecated and will be removed in version 0.19. Use ``skimage.segmentation.watershed`` instead.\n"
     ]
    },
    {
     "name": "stdout",
     "output_type": "stream",
     "text": [
      "Dice Score: 0.2872389895749471\n",
      "Best Dice Symmetry Score:  0.2872389895749471\n",
      "\n",
      "Plant/Ara2012\\ara2012_plant076_rgb.png\n"
     ]
    },
    {
     "name": "stderr",
     "output_type": "stream",
     "text": [
      "c:\\users\\user\\pycharmprojects\\comp9517\\venv\\lib\\site-packages\\ipykernel_launcher.py:23: FutureWarning: skimage.measure.label's indexing starts from 0. In future version it will start from 1. To disable this warning, explicitely set the `start_label` parameter to 1.\n",
      "c:\\users\\user\\pycharmprojects\\comp9517\\venv\\lib\\site-packages\\skimage\\morphology\\_deprecated.py:5: skimage_deprecation: Function ``watershed`` is deprecated and will be removed in version 0.19. Use ``skimage.segmentation.watershed`` instead.\n",
      "c:\\users\\user\\pycharmprojects\\comp9517\\venv\\lib\\site-packages\\ipykernel_launcher.py:23: FutureWarning: skimage.measure.label's indexing starts from 0. In future version it will start from 1. To disable this warning, explicitely set the `start_label` parameter to 1.\n"
     ]
    },
    {
     "name": "stdout",
     "output_type": "stream",
     "text": [
      "Dice Score: 0.27709002538468014\n",
      "Best Dice Symmetry Score:  0.27709002538468014\n",
      "\n",
      "Plant/Ara2012\\ara2012_plant077_rgb.png\n"
     ]
    },
    {
     "name": "stderr",
     "output_type": "stream",
     "text": [
      "c:\\users\\user\\pycharmprojects\\comp9517\\venv\\lib\\site-packages\\skimage\\morphology\\_deprecated.py:5: skimage_deprecation: Function ``watershed`` is deprecated and will be removed in version 0.19. Use ``skimage.segmentation.watershed`` instead.\n"
     ]
    },
    {
     "name": "stdout",
     "output_type": "stream",
     "text": [
      "Dice Score: 0.35484040071503836\n",
      "Best Dice Symmetry Score:  0.35484040071503836\n",
      "\n",
      "Plant/Ara2012\\ara2012_plant078_rgb.png\n"
     ]
    },
    {
     "name": "stderr",
     "output_type": "stream",
     "text": [
      "c:\\users\\user\\pycharmprojects\\comp9517\\venv\\lib\\site-packages\\ipykernel_launcher.py:23: FutureWarning: skimage.measure.label's indexing starts from 0. In future version it will start from 1. To disable this warning, explicitely set the `start_label` parameter to 1.\n",
      "c:\\users\\user\\pycharmprojects\\comp9517\\venv\\lib\\site-packages\\skimage\\morphology\\_deprecated.py:5: skimage_deprecation: Function ``watershed`` is deprecated and will be removed in version 0.19. Use ``skimage.segmentation.watershed`` instead.\n"
     ]
    },
    {
     "name": "stdout",
     "output_type": "stream",
     "text": [
      "Dice Score: 0.42464674204726577\n",
      "Best Dice Symmetry Score:  0.42464674204726577\n",
      "\n",
      "Plant/Ara2012\\ara2012_plant079_rgb.png\n"
     ]
    },
    {
     "name": "stderr",
     "output_type": "stream",
     "text": [
      "c:\\users\\user\\pycharmprojects\\comp9517\\venv\\lib\\site-packages\\ipykernel_launcher.py:23: FutureWarning: skimage.measure.label's indexing starts from 0. In future version it will start from 1. To disable this warning, explicitely set the `start_label` parameter to 1.\n",
      "c:\\users\\user\\pycharmprojects\\comp9517\\venv\\lib\\site-packages\\skimage\\morphology\\_deprecated.py:5: skimage_deprecation: Function ``watershed`` is deprecated and will be removed in version 0.19. Use ``skimage.segmentation.watershed`` instead.\n"
     ]
    },
    {
     "name": "stdout",
     "output_type": "stream",
     "text": [
      "Dice Score: 0.36798449187800214\n",
      "Best Dice Symmetry Score:  0.36798449187800214\n",
      "\n",
      "Plant/Ara2012\\ara2012_plant080_rgb.png\n"
     ]
    },
    {
     "name": "stderr",
     "output_type": "stream",
     "text": [
      "c:\\users\\user\\pycharmprojects\\comp9517\\venv\\lib\\site-packages\\ipykernel_launcher.py:23: FutureWarning: skimage.measure.label's indexing starts from 0. In future version it will start from 1. To disable this warning, explicitely set the `start_label` parameter to 1.\n",
      "c:\\users\\user\\pycharmprojects\\comp9517\\venv\\lib\\site-packages\\skimage\\morphology\\_deprecated.py:5: skimage_deprecation: Function ``watershed`` is deprecated and will be removed in version 0.19. Use ``skimage.segmentation.watershed`` instead.\n"
     ]
    },
    {
     "name": "stdout",
     "output_type": "stream",
     "text": [
      "Dice Score: 0.5032287625360774\n",
      "Best Dice Symmetry Score:  0.5032287625360774\n",
      "\n",
      "Plant/Ara2012\\ara2012_plant081_rgb.png\n"
     ]
    },
    {
     "name": "stderr",
     "output_type": "stream",
     "text": [
      "c:\\users\\user\\pycharmprojects\\comp9517\\venv\\lib\\site-packages\\ipykernel_launcher.py:23: FutureWarning: skimage.measure.label's indexing starts from 0. In future version it will start from 1. To disable this warning, explicitely set the `start_label` parameter to 1.\n",
      "c:\\users\\user\\pycharmprojects\\comp9517\\venv\\lib\\site-packages\\skimage\\morphology\\_deprecated.py:5: skimage_deprecation: Function ``watershed`` is deprecated and will be removed in version 0.19. Use ``skimage.segmentation.watershed`` instead.\n"
     ]
    },
    {
     "name": "stdout",
     "output_type": "stream",
     "text": [
      "Dice Score: 0.3923950201628899\n",
      "Best Dice Symmetry Score:  0.3923950201628899\n",
      "\n",
      "Plant/Ara2012\\ara2012_plant082_rgb.png\n"
     ]
    },
    {
     "name": "stderr",
     "output_type": "stream",
     "text": [
      "c:\\users\\user\\pycharmprojects\\comp9517\\venv\\lib\\site-packages\\ipykernel_launcher.py:23: FutureWarning: skimage.measure.label's indexing starts from 0. In future version it will start from 1. To disable this warning, explicitely set the `start_label` parameter to 1.\n",
      "c:\\users\\user\\pycharmprojects\\comp9517\\venv\\lib\\site-packages\\skimage\\morphology\\_deprecated.py:5: skimage_deprecation: Function ``watershed`` is deprecated and will be removed in version 0.19. Use ``skimage.segmentation.watershed`` instead.\n"
     ]
    },
    {
     "name": "stdout",
     "output_type": "stream",
     "text": [
      "Dice Score: 0.4964909451847309\n",
      "Best Dice Symmetry Score:  0.4964909451847309\n",
      "\n",
      "Plant/Ara2012\\ara2012_plant083_rgb.png\n"
     ]
    },
    {
     "name": "stderr",
     "output_type": "stream",
     "text": [
      "c:\\users\\user\\pycharmprojects\\comp9517\\venv\\lib\\site-packages\\ipykernel_launcher.py:23: FutureWarning: skimage.measure.label's indexing starts from 0. In future version it will start from 1. To disable this warning, explicitely set the `start_label` parameter to 1.\n",
      "c:\\users\\user\\pycharmprojects\\comp9517\\venv\\lib\\site-packages\\skimage\\morphology\\_deprecated.py:5: skimage_deprecation: Function ``watershed`` is deprecated and will be removed in version 0.19. Use ``skimage.segmentation.watershed`` instead.\n"
     ]
    },
    {
     "name": "stdout",
     "output_type": "stream",
     "text": [
      "Dice Score: 0.24565289790947065\n",
      "Best Dice Symmetry Score:  0.24565289790947065\n",
      "\n",
      "Plant/Ara2012\\ara2012_plant084_rgb.png\n"
     ]
    },
    {
     "name": "stderr",
     "output_type": "stream",
     "text": [
      "c:\\users\\user\\pycharmprojects\\comp9517\\venv\\lib\\site-packages\\ipykernel_launcher.py:23: FutureWarning: skimage.measure.label's indexing starts from 0. In future version it will start from 1. To disable this warning, explicitely set the `start_label` parameter to 1.\n",
      "c:\\users\\user\\pycharmprojects\\comp9517\\venv\\lib\\site-packages\\skimage\\morphology\\_deprecated.py:5: skimage_deprecation: Function ``watershed`` is deprecated and will be removed in version 0.19. Use ``skimage.segmentation.watershed`` instead.\n"
     ]
    },
    {
     "name": "stdout",
     "output_type": "stream",
     "text": [
      "Dice Score: 0.259814654768059\n",
      "Best Dice Symmetry Score:  0.259814654768059\n",
      "\n",
      "Plant/Ara2012\\ara2012_plant085_rgb.png\n"
     ]
    },
    {
     "name": "stderr",
     "output_type": "stream",
     "text": [
      "c:\\users\\user\\pycharmprojects\\comp9517\\venv\\lib\\site-packages\\ipykernel_launcher.py:23: FutureWarning: skimage.measure.label's indexing starts from 0. In future version it will start from 1. To disable this warning, explicitely set the `start_label` parameter to 1.\n",
      "c:\\users\\user\\pycharmprojects\\comp9517\\venv\\lib\\site-packages\\skimage\\morphology\\_deprecated.py:5: skimage_deprecation: Function ``watershed`` is deprecated and will be removed in version 0.19. Use ``skimage.segmentation.watershed`` instead.\n"
     ]
    },
    {
     "name": "stdout",
     "output_type": "stream",
     "text": [
      "Dice Score: 0.2908240275481734\n",
      "Best Dice Symmetry Score:  0.2908240275481734\n",
      "\n",
      "Plant/Ara2012\\ara2012_plant086_rgb.png\n"
     ]
    },
    {
     "name": "stderr",
     "output_type": "stream",
     "text": [
      "c:\\users\\user\\pycharmprojects\\comp9517\\venv\\lib\\site-packages\\ipykernel_launcher.py:23: FutureWarning: skimage.measure.label's indexing starts from 0. In future version it will start from 1. To disable this warning, explicitely set the `start_label` parameter to 1.\n",
      "c:\\users\\user\\pycharmprojects\\comp9517\\venv\\lib\\site-packages\\skimage\\morphology\\_deprecated.py:5: skimage_deprecation: Function ``watershed`` is deprecated and will be removed in version 0.19. Use ``skimage.segmentation.watershed`` instead.\n"
     ]
    },
    {
     "name": "stdout",
     "output_type": "stream",
     "text": [
      "Dice Score: 0.17140541526678366\n",
      "Best Dice Symmetry Score:  0.17140541526678366\n",
      "\n",
      "Plant/Ara2012\\ara2012_plant087_rgb.png\n"
     ]
    },
    {
     "name": "stderr",
     "output_type": "stream",
     "text": [
      "c:\\users\\user\\pycharmprojects\\comp9517\\venv\\lib\\site-packages\\ipykernel_launcher.py:23: FutureWarning: skimage.measure.label's indexing starts from 0. In future version it will start from 1. To disable this warning, explicitely set the `start_label` parameter to 1.\n",
      "c:\\users\\user\\pycharmprojects\\comp9517\\venv\\lib\\site-packages\\skimage\\morphology\\_deprecated.py:5: skimage_deprecation: Function ``watershed`` is deprecated and will be removed in version 0.19. Use ``skimage.segmentation.watershed`` instead.\n"
     ]
    },
    {
     "name": "stdout",
     "output_type": "stream",
     "text": [
      "Dice Score: 0.31594414147907457\n",
      "Best Dice Symmetry Score:  0.31594414147907457\n",
      "\n",
      "Plant/Ara2012\\ara2012_plant088_rgb.png\n"
     ]
    },
    {
     "name": "stderr",
     "output_type": "stream",
     "text": [
      "c:\\users\\user\\pycharmprojects\\comp9517\\venv\\lib\\site-packages\\ipykernel_launcher.py:23: FutureWarning: skimage.measure.label's indexing starts from 0. In future version it will start from 1. To disable this warning, explicitely set the `start_label` parameter to 1.\n",
      "c:\\users\\user\\pycharmprojects\\comp9517\\venv\\lib\\site-packages\\skimage\\morphology\\_deprecated.py:5: skimage_deprecation: Function ``watershed`` is deprecated and will be removed in version 0.19. Use ``skimage.segmentation.watershed`` instead.\n"
     ]
    },
    {
     "name": "stdout",
     "output_type": "stream",
     "text": [
      "Dice Score: 0.3990616485878192\n",
      "Best Dice Symmetry Score:  0.3990616485878192\n",
      "\n",
      "Plant/Ara2012\\ara2012_plant089_rgb.png\n"
     ]
    },
    {
     "name": "stderr",
     "output_type": "stream",
     "text": [
      "c:\\users\\user\\pycharmprojects\\comp9517\\venv\\lib\\site-packages\\ipykernel_launcher.py:23: FutureWarning: skimage.measure.label's indexing starts from 0. In future version it will start from 1. To disable this warning, explicitely set the `start_label` parameter to 1.\n",
      "c:\\users\\user\\pycharmprojects\\comp9517\\venv\\lib\\site-packages\\skimage\\morphology\\_deprecated.py:5: skimage_deprecation: Function ``watershed`` is deprecated and will be removed in version 0.19. Use ``skimage.segmentation.watershed`` instead.\n",
      "c:\\users\\user\\pycharmprojects\\comp9517\\venv\\lib\\site-packages\\ipykernel_launcher.py:23: FutureWarning: skimage.measure.label's indexing starts from 0. In future version it will start from 1. To disable this warning, explicitely set the `start_label` parameter to 1.\n"
     ]
    },
    {
     "name": "stdout",
     "output_type": "stream",
     "text": [
      "Dice Score: 0.5527029591672871\n",
      "Best Dice Symmetry Score:  0.5527029591672871\n",
      "\n",
      "Plant/Ara2012\\ara2012_plant090_rgb.png\n"
     ]
    },
    {
     "name": "stderr",
     "output_type": "stream",
     "text": [
      "c:\\users\\user\\pycharmprojects\\comp9517\\venv\\lib\\site-packages\\skimage\\morphology\\_deprecated.py:5: skimage_deprecation: Function ``watershed`` is deprecated and will be removed in version 0.19. Use ``skimage.segmentation.watershed`` instead.\n",
      "c:\\users\\user\\pycharmprojects\\comp9517\\venv\\lib\\site-packages\\ipykernel_launcher.py:23: FutureWarning: skimage.measure.label's indexing starts from 0. In future version it will start from 1. To disable this warning, explicitely set the `start_label` parameter to 1.\n"
     ]
    },
    {
     "name": "stdout",
     "output_type": "stream",
     "text": [
      "Dice Score: 0.5079090989299083\n",
      "Best Dice Symmetry Score:  0.5079090989299083\n",
      "\n",
      "Plant/Ara2012\\ara2012_plant091_rgb.png\n"
     ]
    },
    {
     "name": "stderr",
     "output_type": "stream",
     "text": [
      "c:\\users\\user\\pycharmprojects\\comp9517\\venv\\lib\\site-packages\\skimage\\morphology\\_deprecated.py:5: skimage_deprecation: Function ``watershed`` is deprecated and will be removed in version 0.19. Use ``skimage.segmentation.watershed`` instead.\n",
      "c:\\users\\user\\pycharmprojects\\comp9517\\venv\\lib\\site-packages\\ipykernel_launcher.py:23: FutureWarning: skimage.measure.label's indexing starts from 0. In future version it will start from 1. To disable this warning, explicitely set the `start_label` parameter to 1.\n"
     ]
    },
    {
     "name": "stdout",
     "output_type": "stream",
     "text": [
      "Dice Score: 0.5343736596887246\n",
      "Best Dice Symmetry Score:  0.5343736596887246\n",
      "\n",
      "Plant/Ara2012\\ara2012_plant092_rgb.png\n"
     ]
    },
    {
     "name": "stderr",
     "output_type": "stream",
     "text": [
      "c:\\users\\user\\pycharmprojects\\comp9517\\venv\\lib\\site-packages\\skimage\\morphology\\_deprecated.py:5: skimage_deprecation: Function ``watershed`` is deprecated and will be removed in version 0.19. Use ``skimage.segmentation.watershed`` instead.\n"
     ]
    },
    {
     "name": "stdout",
     "output_type": "stream",
     "text": [
      "Dice Score: 0.23720067631210984\n",
      "Best Dice Symmetry Score:  0.23720067631210984\n",
      "\n",
      "Plant/Ara2012\\ara2012_plant093_rgb.png\n"
     ]
    },
    {
     "name": "stderr",
     "output_type": "stream",
     "text": [
      "c:\\users\\user\\pycharmprojects\\comp9517\\venv\\lib\\site-packages\\ipykernel_launcher.py:23: FutureWarning: skimage.measure.label's indexing starts from 0. In future version it will start from 1. To disable this warning, explicitely set the `start_label` parameter to 1.\n",
      "c:\\users\\user\\pycharmprojects\\comp9517\\venv\\lib\\site-packages\\skimage\\morphology\\_deprecated.py:5: skimage_deprecation: Function ``watershed`` is deprecated and will be removed in version 0.19. Use ``skimage.segmentation.watershed`` instead.\n",
      "c:\\users\\user\\pycharmprojects\\comp9517\\venv\\lib\\site-packages\\ipykernel_launcher.py:23: FutureWarning: skimage.measure.label's indexing starts from 0. In future version it will start from 1. To disable this warning, explicitely set the `start_label` parameter to 1.\n"
     ]
    },
    {
     "name": "stdout",
     "output_type": "stream",
     "text": [
      "Dice Score: 0.26306073882970443\n",
      "Best Dice Symmetry Score:  0.26306073882970443\n",
      "\n",
      "Plant/Ara2012\\ara2012_plant094_rgb.png\n"
     ]
    },
    {
     "name": "stderr",
     "output_type": "stream",
     "text": [
      "c:\\users\\user\\pycharmprojects\\comp9517\\venv\\lib\\site-packages\\skimage\\morphology\\_deprecated.py:5: skimage_deprecation: Function ``watershed`` is deprecated and will be removed in version 0.19. Use ``skimage.segmentation.watershed`` instead.\n"
     ]
    },
    {
     "name": "stdout",
     "output_type": "stream",
     "text": [
      "Dice Score: 0.3249892361145878\n",
      "Best Dice Symmetry Score:  0.3249892361145878\n",
      "\n",
      "Plant/Ara2012\\ara2012_plant095_rgb.png\n"
     ]
    },
    {
     "name": "stderr",
     "output_type": "stream",
     "text": [
      "c:\\users\\user\\pycharmprojects\\comp9517\\venv\\lib\\site-packages\\ipykernel_launcher.py:23: FutureWarning: skimage.measure.label's indexing starts from 0. In future version it will start from 1. To disable this warning, explicitely set the `start_label` parameter to 1.\n",
      "c:\\users\\user\\pycharmprojects\\comp9517\\venv\\lib\\site-packages\\skimage\\morphology\\_deprecated.py:5: skimage_deprecation: Function ``watershed`` is deprecated and will be removed in version 0.19. Use ``skimage.segmentation.watershed`` instead.\n"
     ]
    },
    {
     "name": "stdout",
     "output_type": "stream",
     "text": [
      "Dice Score: 0.3961505054531938\n",
      "Best Dice Symmetry Score:  0.3961505054531938\n",
      "\n",
      "Plant/Ara2012\\ara2012_plant096_rgb.png\n"
     ]
    },
    {
     "name": "stderr",
     "output_type": "stream",
     "text": [
      "c:\\users\\user\\pycharmprojects\\comp9517\\venv\\lib\\site-packages\\ipykernel_launcher.py:23: FutureWarning: skimage.measure.label's indexing starts from 0. In future version it will start from 1. To disable this warning, explicitely set the `start_label` parameter to 1.\n",
      "c:\\users\\user\\pycharmprojects\\comp9517\\venv\\lib\\site-packages\\skimage\\morphology\\_deprecated.py:5: skimage_deprecation: Function ``watershed`` is deprecated and will be removed in version 0.19. Use ``skimage.segmentation.watershed`` instead.\n"
     ]
    },
    {
     "name": "stdout",
     "output_type": "stream",
     "text": [
      "Dice Score: 0.3313357310937231\n",
      "Best Dice Symmetry Score:  0.3313357310937231\n",
      "\n",
      "Plant/Ara2012\\ara2012_plant097_rgb.png\n"
     ]
    },
    {
     "name": "stderr",
     "output_type": "stream",
     "text": [
      "c:\\users\\user\\pycharmprojects\\comp9517\\venv\\lib\\site-packages\\ipykernel_launcher.py:23: FutureWarning: skimage.measure.label's indexing starts from 0. In future version it will start from 1. To disable this warning, explicitely set the `start_label` parameter to 1.\n",
      "c:\\users\\user\\pycharmprojects\\comp9517\\venv\\lib\\site-packages\\skimage\\morphology\\_deprecated.py:5: skimage_deprecation: Function ``watershed`` is deprecated and will be removed in version 0.19. Use ``skimage.segmentation.watershed`` instead.\n"
     ]
    },
    {
     "name": "stdout",
     "output_type": "stream",
     "text": [
      "Dice Score: 0.48462365752332165\n",
      "Best Dice Symmetry Score:  0.48462365752332165\n",
      "\n",
      "Plant/Ara2012\\ara2012_plant098_rgb.png\n"
     ]
    },
    {
     "name": "stderr",
     "output_type": "stream",
     "text": [
      "c:\\users\\user\\pycharmprojects\\comp9517\\venv\\lib\\site-packages\\ipykernel_launcher.py:23: FutureWarning: skimage.measure.label's indexing starts from 0. In future version it will start from 1. To disable this warning, explicitely set the `start_label` parameter to 1.\n",
      "c:\\users\\user\\pycharmprojects\\comp9517\\venv\\lib\\site-packages\\skimage\\morphology\\_deprecated.py:5: skimage_deprecation: Function ``watershed`` is deprecated and will be removed in version 0.19. Use ``skimage.segmentation.watershed`` instead.\n"
     ]
    },
    {
     "name": "stdout",
     "output_type": "stream",
     "text": [
      "Dice Score: 0.2579773359263697\n",
      "Best Dice Symmetry Score:  0.2579773359263697\n",
      "\n",
      "Plant/Ara2012\\ara2012_plant099_rgb.png\n"
     ]
    },
    {
     "name": "stderr",
     "output_type": "stream",
     "text": [
      "c:\\users\\user\\pycharmprojects\\comp9517\\venv\\lib\\site-packages\\ipykernel_launcher.py:23: FutureWarning: skimage.measure.label's indexing starts from 0. In future version it will start from 1. To disable this warning, explicitely set the `start_label` parameter to 1.\n",
      "c:\\users\\user\\pycharmprojects\\comp9517\\venv\\lib\\site-packages\\skimage\\morphology\\_deprecated.py:5: skimage_deprecation: Function ``watershed`` is deprecated and will be removed in version 0.19. Use ``skimage.segmentation.watershed`` instead.\n"
     ]
    },
    {
     "name": "stdout",
     "output_type": "stream",
     "text": [
      "Dice Score: 0.3697153131938801\n",
      "Best Dice Symmetry Score:  0.3697153131938801\n",
      "\n",
      "Plant/Ara2012\\ara2012_plant100_rgb.png\n"
     ]
    },
    {
     "name": "stderr",
     "output_type": "stream",
     "text": [
      "c:\\users\\user\\pycharmprojects\\comp9517\\venv\\lib\\site-packages\\ipykernel_launcher.py:23: FutureWarning: skimage.measure.label's indexing starts from 0. In future version it will start from 1. To disable this warning, explicitely set the `start_label` parameter to 1.\n",
      "c:\\users\\user\\pycharmprojects\\comp9517\\venv\\lib\\site-packages\\skimage\\morphology\\_deprecated.py:5: skimage_deprecation: Function ``watershed`` is deprecated and will be removed in version 0.19. Use ``skimage.segmentation.watershed`` instead.\n"
     ]
    },
    {
     "name": "stdout",
     "output_type": "stream",
     "text": [
      "Dice Score: 0.22920752676296638\n",
      "Best Dice Symmetry Score:  0.22920752676296638\n",
      "\n",
      "Plant/Ara2012\\ara2012_plant101_rgb.png\n"
     ]
    },
    {
     "name": "stderr",
     "output_type": "stream",
     "text": [
      "c:\\users\\user\\pycharmprojects\\comp9517\\venv\\lib\\site-packages\\ipykernel_launcher.py:23: FutureWarning: skimage.measure.label's indexing starts from 0. In future version it will start from 1. To disable this warning, explicitely set the `start_label` parameter to 1.\n",
      "c:\\users\\user\\pycharmprojects\\comp9517\\venv\\lib\\site-packages\\skimage\\morphology\\_deprecated.py:5: skimage_deprecation: Function ``watershed`` is deprecated and will be removed in version 0.19. Use ``skimage.segmentation.watershed`` instead.\n"
     ]
    },
    {
     "name": "stdout",
     "output_type": "stream",
     "text": [
      "Dice Score: 0.26146682548767847\n",
      "Best Dice Symmetry Score:  0.26146682548767847\n",
      "\n",
      "Plant/Ara2012\\ara2012_plant102_rgb.png\n"
     ]
    },
    {
     "name": "stderr",
     "output_type": "stream",
     "text": [
      "c:\\users\\user\\pycharmprojects\\comp9517\\venv\\lib\\site-packages\\ipykernel_launcher.py:23: FutureWarning: skimage.measure.label's indexing starts from 0. In future version it will start from 1. To disable this warning, explicitely set the `start_label` parameter to 1.\n",
      "c:\\users\\user\\pycharmprojects\\comp9517\\venv\\lib\\site-packages\\skimage\\morphology\\_deprecated.py:5: skimage_deprecation: Function ``watershed`` is deprecated and will be removed in version 0.19. Use ``skimage.segmentation.watershed`` instead.\n"
     ]
    },
    {
     "name": "stdout",
     "output_type": "stream",
     "text": [
      "Dice Score: 0.15911590337382597\n",
      "Best Dice Symmetry Score:  0.15911590337382597\n",
      "\n",
      "Plant/Ara2012\\ara2012_plant103_rgb.png\n"
     ]
    },
    {
     "name": "stderr",
     "output_type": "stream",
     "text": [
      "c:\\users\\user\\pycharmprojects\\comp9517\\venv\\lib\\site-packages\\ipykernel_launcher.py:23: FutureWarning: skimage.measure.label's indexing starts from 0. In future version it will start from 1. To disable this warning, explicitely set the `start_label` parameter to 1.\n",
      "c:\\users\\user\\pycharmprojects\\comp9517\\venv\\lib\\site-packages\\skimage\\morphology\\_deprecated.py:5: skimage_deprecation: Function ``watershed`` is deprecated and will be removed in version 0.19. Use ``skimage.segmentation.watershed`` instead.\n"
     ]
    },
    {
     "name": "stdout",
     "output_type": "stream",
     "text": [
      "Dice Score: 0.27177378628336263\n",
      "Best Dice Symmetry Score:  0.27177378628336263\n",
      "\n",
      "Plant/Ara2012\\ara2012_plant104_rgb.png\n"
     ]
    },
    {
     "name": "stderr",
     "output_type": "stream",
     "text": [
      "c:\\users\\user\\pycharmprojects\\comp9517\\venv\\lib\\site-packages\\ipykernel_launcher.py:23: FutureWarning: skimage.measure.label's indexing starts from 0. In future version it will start from 1. To disable this warning, explicitely set the `start_label` parameter to 1.\n",
      "c:\\users\\user\\pycharmprojects\\comp9517\\venv\\lib\\site-packages\\skimage\\morphology\\_deprecated.py:5: skimage_deprecation: Function ``watershed`` is deprecated and will be removed in version 0.19. Use ``skimage.segmentation.watershed`` instead.\n"
     ]
    },
    {
     "name": "stdout",
     "output_type": "stream",
     "text": [
      "Dice Score: 0.546555395618349\n",
      "Best Dice Symmetry Score:  0.546555395618349\n",
      "\n",
      "Plant/Ara2012\\ara2012_plant105_rgb.png\n"
     ]
    },
    {
     "name": "stderr",
     "output_type": "stream",
     "text": [
      "c:\\users\\user\\pycharmprojects\\comp9517\\venv\\lib\\site-packages\\ipykernel_launcher.py:23: FutureWarning: skimage.measure.label's indexing starts from 0. In future version it will start from 1. To disable this warning, explicitely set the `start_label` parameter to 1.\n",
      "c:\\users\\user\\pycharmprojects\\comp9517\\venv\\lib\\site-packages\\skimage\\morphology\\_deprecated.py:5: skimage_deprecation: Function ``watershed`` is deprecated and will be removed in version 0.19. Use ``skimage.segmentation.watershed`` instead.\n",
      "c:\\users\\user\\pycharmprojects\\comp9517\\venv\\lib\\site-packages\\ipykernel_launcher.py:23: FutureWarning: skimage.measure.label's indexing starts from 0. In future version it will start from 1. To disable this warning, explicitely set the `start_label` parameter to 1.\n"
     ]
    },
    {
     "name": "stdout",
     "output_type": "stream",
     "text": [
      "Dice Score: 0.4810280109344338\n",
      "Best Dice Symmetry Score:  0.4810280109344338\n",
      "\n",
      "Plant/Ara2012\\ara2012_plant106_rgb.png\n"
     ]
    },
    {
     "name": "stderr",
     "output_type": "stream",
     "text": [
      "c:\\users\\user\\pycharmprojects\\comp9517\\venv\\lib\\site-packages\\skimage\\morphology\\_deprecated.py:5: skimage_deprecation: Function ``watershed`` is deprecated and will be removed in version 0.19. Use ``skimage.segmentation.watershed`` instead.\n",
      "c:\\users\\user\\pycharmprojects\\comp9517\\venv\\lib\\site-packages\\ipykernel_launcher.py:23: FutureWarning: skimage.measure.label's indexing starts from 0. In future version it will start from 1. To disable this warning, explicitely set the `start_label` parameter to 1.\n"
     ]
    },
    {
     "name": "stdout",
     "output_type": "stream",
     "text": [
      "Dice Score: 0.513047324192835\n",
      "Best Dice Symmetry Score:  0.513047324192835\n",
      "\n",
      "Plant/Ara2012\\ara2012_plant107_rgb.png\n"
     ]
    },
    {
     "name": "stderr",
     "output_type": "stream",
     "text": [
      "c:\\users\\user\\pycharmprojects\\comp9517\\venv\\lib\\site-packages\\skimage\\morphology\\_deprecated.py:5: skimage_deprecation: Function ``watershed`` is deprecated and will be removed in version 0.19. Use ``skimage.segmentation.watershed`` instead.\n"
     ]
    },
    {
     "name": "stdout",
     "output_type": "stream",
     "text": [
      "Dice Score: 0.21505232372423264\n",
      "Best Dice Symmetry Score:  0.21505232372423264\n",
      "\n",
      "Plant/Ara2012\\ara2012_plant108_rgb.png\n"
     ]
    },
    {
     "name": "stderr",
     "output_type": "stream",
     "text": [
      "c:\\users\\user\\pycharmprojects\\comp9517\\venv\\lib\\site-packages\\ipykernel_launcher.py:23: FutureWarning: skimage.measure.label's indexing starts from 0. In future version it will start from 1. To disable this warning, explicitely set the `start_label` parameter to 1.\n",
      "c:\\users\\user\\pycharmprojects\\comp9517\\venv\\lib\\site-packages\\skimage\\morphology\\_deprecated.py:5: skimage_deprecation: Function ``watershed`` is deprecated and will be removed in version 0.19. Use ``skimage.segmentation.watershed`` instead.\n"
     ]
    },
    {
     "name": "stdout",
     "output_type": "stream",
     "text": [
      "Dice Score: 0.3072797064935632\n",
      "Best Dice Symmetry Score:  0.3072797064935632\n",
      "\n",
      "Plant/Ara2012\\ara2012_plant109_rgb.png\n"
     ]
    },
    {
     "name": "stderr",
     "output_type": "stream",
     "text": [
      "c:\\users\\user\\pycharmprojects\\comp9517\\venv\\lib\\site-packages\\ipykernel_launcher.py:23: FutureWarning: skimage.measure.label's indexing starts from 0. In future version it will start from 1. To disable this warning, explicitely set the `start_label` parameter to 1.\n",
      "c:\\users\\user\\pycharmprojects\\comp9517\\venv\\lib\\site-packages\\skimage\\morphology\\_deprecated.py:5: skimage_deprecation: Function ``watershed`` is deprecated and will be removed in version 0.19. Use ``skimage.segmentation.watershed`` instead.\n"
     ]
    },
    {
     "name": "stdout",
     "output_type": "stream",
     "text": [
      "Dice Score: 0.3619211401895116\n",
      "Best Dice Symmetry Score:  0.3619211401895116\n",
      "\n",
      "Plant/Ara2012\\ara2012_plant110_rgb.png\n"
     ]
    },
    {
     "name": "stderr",
     "output_type": "stream",
     "text": [
      "c:\\users\\user\\pycharmprojects\\comp9517\\venv\\lib\\site-packages\\ipykernel_launcher.py:23: FutureWarning: skimage.measure.label's indexing starts from 0. In future version it will start from 1. To disable this warning, explicitely set the `start_label` parameter to 1.\n",
      "c:\\users\\user\\pycharmprojects\\comp9517\\venv\\lib\\site-packages\\skimage\\morphology\\_deprecated.py:5: skimage_deprecation: Function ``watershed`` is deprecated and will be removed in version 0.19. Use ``skimage.segmentation.watershed`` instead.\n"
     ]
    },
    {
     "name": "stdout",
     "output_type": "stream",
     "text": [
      "Dice Score: 0.28263894147043234\n",
      "Best Dice Symmetry Score:  0.28263894147043234\n",
      "\n",
      "Plant/Ara2012\\ara2012_plant111_rgb.png\n"
     ]
    },
    {
     "name": "stderr",
     "output_type": "stream",
     "text": [
      "c:\\users\\user\\pycharmprojects\\comp9517\\venv\\lib\\site-packages\\ipykernel_launcher.py:23: FutureWarning: skimage.measure.label's indexing starts from 0. In future version it will start from 1. To disable this warning, explicitely set the `start_label` parameter to 1.\n",
      "c:\\users\\user\\pycharmprojects\\comp9517\\venv\\lib\\site-packages\\skimage\\morphology\\_deprecated.py:5: skimage_deprecation: Function ``watershed`` is deprecated and will be removed in version 0.19. Use ``skimage.segmentation.watershed`` instead.\n"
     ]
    },
    {
     "name": "stdout",
     "output_type": "stream",
     "text": [
      "Dice Score: 0.46195443081263626\n",
      "Best Dice Symmetry Score:  0.46195443081263626\n",
      "\n",
      "Plant/Ara2012\\ara2012_plant112_rgb.png\n"
     ]
    },
    {
     "name": "stderr",
     "output_type": "stream",
     "text": [
      "c:\\users\\user\\pycharmprojects\\comp9517\\venv\\lib\\site-packages\\ipykernel_launcher.py:23: FutureWarning: skimage.measure.label's indexing starts from 0. In future version it will start from 1. To disable this warning, explicitely set the `start_label` parameter to 1.\n",
      "c:\\users\\user\\pycharmprojects\\comp9517\\venv\\lib\\site-packages\\skimage\\morphology\\_deprecated.py:5: skimage_deprecation: Function ``watershed`` is deprecated and will be removed in version 0.19. Use ``skimage.segmentation.watershed`` instead.\n"
     ]
    },
    {
     "name": "stdout",
     "output_type": "stream",
     "text": [
      "Dice Score: 0.23141371325343368\n",
      "Best Dice Symmetry Score:  0.23141371325343368\n",
      "\n",
      "Plant/Ara2012\\ara2012_plant113_rgb.png\n"
     ]
    },
    {
     "name": "stderr",
     "output_type": "stream",
     "text": [
      "c:\\users\\user\\pycharmprojects\\comp9517\\venv\\lib\\site-packages\\ipykernel_launcher.py:23: FutureWarning: skimage.measure.label's indexing starts from 0. In future version it will start from 1. To disable this warning, explicitely set the `start_label` parameter to 1.\n",
      "c:\\users\\user\\pycharmprojects\\comp9517\\venv\\lib\\site-packages\\skimage\\morphology\\_deprecated.py:5: skimage_deprecation: Function ``watershed`` is deprecated and will be removed in version 0.19. Use ``skimage.segmentation.watershed`` instead.\n"
     ]
    },
    {
     "name": "stdout",
     "output_type": "stream",
     "text": [
      "Dice Score: 0.34001236724199657\n",
      "Best Dice Symmetry Score:  0.34001236724199657\n",
      "\n",
      "Plant/Ara2012\\ara2012_plant114_rgb.png\n"
     ]
    },
    {
     "name": "stderr",
     "output_type": "stream",
     "text": [
      "c:\\users\\user\\pycharmprojects\\comp9517\\venv\\lib\\site-packages\\ipykernel_launcher.py:23: FutureWarning: skimage.measure.label's indexing starts from 0. In future version it will start from 1. To disable this warning, explicitely set the `start_label` parameter to 1.\n",
      "c:\\users\\user\\pycharmprojects\\comp9517\\venv\\lib\\site-packages\\skimage\\morphology\\_deprecated.py:5: skimage_deprecation: Function ``watershed`` is deprecated and will be removed in version 0.19. Use ``skimage.segmentation.watershed`` instead.\n"
     ]
    },
    {
     "name": "stdout",
     "output_type": "stream",
     "text": [
      "Dice Score: 0.4279791292510124\n",
      "Best Dice Symmetry Score:  0.4279791292510124\n",
      "\n",
      "Plant/Ara2012\\ara2012_plant115_rgb.png\n"
     ]
    },
    {
     "name": "stderr",
     "output_type": "stream",
     "text": [
      "c:\\users\\user\\pycharmprojects\\comp9517\\venv\\lib\\site-packages\\ipykernel_launcher.py:23: FutureWarning: skimage.measure.label's indexing starts from 0. In future version it will start from 1. To disable this warning, explicitely set the `start_label` parameter to 1.\n",
      "c:\\users\\user\\pycharmprojects\\comp9517\\venv\\lib\\site-packages\\skimage\\morphology\\_deprecated.py:5: skimage_deprecation: Function ``watershed`` is deprecated and will be removed in version 0.19. Use ``skimage.segmentation.watershed`` instead.\n"
     ]
    },
    {
     "name": "stdout",
     "output_type": "stream",
     "text": [
      "Dice Score: 0.19390638669248506\n",
      "Best Dice Symmetry Score:  0.19390638669248506\n",
      "\n",
      "Plant/Ara2012\\ara2012_plant116_rgb.png\n"
     ]
    },
    {
     "name": "stderr",
     "output_type": "stream",
     "text": [
      "c:\\users\\user\\pycharmprojects\\comp9517\\venv\\lib\\site-packages\\ipykernel_launcher.py:23: FutureWarning: skimage.measure.label's indexing starts from 0. In future version it will start from 1. To disable this warning, explicitely set the `start_label` parameter to 1.\n",
      "c:\\users\\user\\pycharmprojects\\comp9517\\venv\\lib\\site-packages\\skimage\\morphology\\_deprecated.py:5: skimage_deprecation: Function ``watershed`` is deprecated and will be removed in version 0.19. Use ``skimage.segmentation.watershed`` instead.\n"
     ]
    },
    {
     "name": "stdout",
     "output_type": "stream",
     "text": [
      "Dice Score: 0.2273762927509378\n",
      "Best Dice Symmetry Score:  0.2273762927509378\n",
      "\n",
      "Plant/Ara2012\\ara2012_plant117_rgb.png\n"
     ]
    },
    {
     "name": "stderr",
     "output_type": "stream",
     "text": [
      "c:\\users\\user\\pycharmprojects\\comp9517\\venv\\lib\\site-packages\\ipykernel_launcher.py:23: FutureWarning: skimage.measure.label's indexing starts from 0. In future version it will start from 1. To disable this warning, explicitely set the `start_label` parameter to 1.\n",
      "c:\\users\\user\\pycharmprojects\\comp9517\\venv\\lib\\site-packages\\skimage\\morphology\\_deprecated.py:5: skimage_deprecation: Function ``watershed`` is deprecated and will be removed in version 0.19. Use ``skimage.segmentation.watershed`` instead.\n"
     ]
    },
    {
     "name": "stdout",
     "output_type": "stream",
     "text": [
      "Dice Score: 0.13373568150442147\n",
      "Best Dice Symmetry Score:  0.13373568150442147\n",
      "\n",
      "Plant/Ara2012\\ara2012_plant118_rgb.png\n"
     ]
    },
    {
     "name": "stderr",
     "output_type": "stream",
     "text": [
      "c:\\users\\user\\pycharmprojects\\comp9517\\venv\\lib\\site-packages\\ipykernel_launcher.py:23: FutureWarning: skimage.measure.label's indexing starts from 0. In future version it will start from 1. To disable this warning, explicitely set the `start_label` parameter to 1.\n",
      "c:\\users\\user\\pycharmprojects\\comp9517\\venv\\lib\\site-packages\\skimage\\morphology\\_deprecated.py:5: skimage_deprecation: Function ``watershed`` is deprecated and will be removed in version 0.19. Use ``skimage.segmentation.watershed`` instead.\n"
     ]
    },
    {
     "name": "stdout",
     "output_type": "stream",
     "text": [
      "Dice Score: 0.240324030734723\n",
      "Best Dice Symmetry Score:  0.240324030734723\n",
      "\n",
      "Plant/Ara2012\\ara2012_plant119_rgb.png\n"
     ]
    },
    {
     "name": "stderr",
     "output_type": "stream",
     "text": [
      "c:\\users\\user\\pycharmprojects\\comp9517\\venv\\lib\\site-packages\\ipykernel_launcher.py:23: FutureWarning: skimage.measure.label's indexing starts from 0. In future version it will start from 1. To disable this warning, explicitely set the `start_label` parameter to 1.\n",
      "c:\\users\\user\\pycharmprojects\\comp9517\\venv\\lib\\site-packages\\skimage\\morphology\\_deprecated.py:5: skimage_deprecation: Function ``watershed`` is deprecated and will be removed in version 0.19. Use ``skimage.segmentation.watershed`` instead.\n"
     ]
    },
    {
     "name": "stdout",
     "output_type": "stream",
     "text": [
      "Dice Score: 0.29913587998855246\n",
      "Best Dice Symmetry Score:  0.29913587998855246\n",
      "\n",
      "Plant/Ara2012\\ara2012_plant120_rgb.png\n"
     ]
    },
    {
     "name": "stderr",
     "output_type": "stream",
     "text": [
      "c:\\users\\user\\pycharmprojects\\comp9517\\venv\\lib\\site-packages\\ipykernel_launcher.py:23: FutureWarning: skimage.measure.label's indexing starts from 0. In future version it will start from 1. To disable this warning, explicitely set the `start_label` parameter to 1.\n"
     ]
    },
    {
     "name": "stdout",
     "output_type": "stream",
     "text": [
      "Dice Score: 0.4270597578546563\n",
      "Best Dice Symmetry Score:  0.4270597578546563\n",
      "\n"
     ]
    },
    {
     "name": "stderr",
     "output_type": "stream",
     "text": [
      "c:\\users\\user\\pycharmprojects\\comp9517\\venv\\lib\\site-packages\\skimage\\morphology\\_deprecated.py:5: skimage_deprecation: Function ``watershed`` is deprecated and will be removed in version 0.19. Use ``skimage.segmentation.watershed`` instead.\n"
     ]
    }
   ],
   "source": [
    "\n",
    "dice_calc_result = []\n",
    "symm_best_dice_result = []\n",
    "\n",
    "for x in range(len(ara_2012_list)):\n",
    "    \n",
    "    print(ara_2012_list[x])\n",
    "    \n",
    "    img = cv2.imread(ara_2012_list[x])\n",
    "    img_rgb = cv2.cvtColor(img, cv2.COLOR_BGR2RGB)\n",
    "    \n",
    "    label = cv2.imread(ara_2012_list[x])\n",
    "    img_label_rgb = cv2.cvtColor(label, cv2.COLOR_BGR2RGB)\n",
    "    \n",
    "    img_result = task3(img_rgb, -5, 5)\n",
    "    \n",
    "    img_result = convert_bool(img_result)\n",
    "    img_label = convert_bool(img_label_rgb)\n",
    "    \n",
    "    dice_calc_score = dice_calc(img_label, img_result)\n",
    "    best_dice_score = symm_best_dice(img_label, img_result)\n",
    "    \n",
    "    print(\"Dice Score:\", dice_calc(img_label, img_result))\n",
    "    print(\"Best Dice Symmetry Score: \", symm_best_dice(img_label, img_result))\n",
    "    print()\n",
    "    \n",
    "    dice_calc_result.append(dice_calc_score)\n",
    "    symm_best_dice_result.append(dice_calc_score)"
   ]
  },
  {
   "cell_type": "code",
   "execution_count": 5,
   "metadata": {
    "scrolled": true
   },
   "outputs": [
    {
     "name": "stdout",
     "output_type": "stream",
     "text": [
      "Mean Dice Calc score for Ara 2012: 0.4127831021726468\n",
      "Mean Best Dice Symmetry score for Ara 2012: 0.4127831021726468\n"
     ]
    }
   ],
   "source": [
    "dice_calc_result = np.array(dice_calc_result)\n",
    "symm_best_dice_result = np.array(symm_best_dice_result)\n",
    "\n",
    "print(\"Mean Dice Calc score for Ara 2012:\",  np.mean(dice_calc_result))\n",
    "print(\"Mean Best Dice Symmetry score for Ara 2012:\", np.mean(symm_best_dice_result))"
   ]
  },
  {
   "cell_type": "markdown",
   "metadata": {},
   "source": [
    "# Ara 2013-Canon"
   ]
  },
  {
   "cell_type": "code",
   "execution_count": 6,
   "metadata": {},
   "outputs": [
    {
     "name": "stdout",
     "output_type": "stream",
     "text": [
      "Plant/Ara2013-Canon\\ara2013_plant001_rgb.png\n"
     ]
    },
    {
     "name": "stderr",
     "output_type": "stream",
     "text": [
      "c:\\users\\user\\pycharmprojects\\comp9517\\venv\\lib\\site-packages\\ipykernel_launcher.py:23: FutureWarning: skimage.measure.label's indexing starts from 0. In future version it will start from 1. To disable this warning, explicitely set the `start_label` parameter to 1.\n",
      "c:\\users\\user\\pycharmprojects\\comp9517\\venv\\lib\\site-packages\\skimage\\morphology\\_deprecated.py:5: skimage_deprecation: Function ``watershed`` is deprecated and will be removed in version 0.19. Use ``skimage.segmentation.watershed`` instead.\n",
      "c:\\users\\user\\pycharmprojects\\comp9517\\venv\\lib\\site-packages\\ipykernel_launcher.py:23: FutureWarning: skimage.measure.label's indexing starts from 0. In future version it will start from 1. To disable this warning, explicitely set the `start_label` parameter to 1.\n"
     ]
    },
    {
     "name": "stdout",
     "output_type": "stream",
     "text": [
      "Dice Score: 0.6158329569132582\n",
      "Best Dice Symmetry Score:  0.6158329569132582\n",
      "Plant/Ara2013-Canon\\ara2013_plant002_rgb.png\n"
     ]
    },
    {
     "name": "stderr",
     "output_type": "stream",
     "text": [
      "c:\\users\\user\\pycharmprojects\\comp9517\\venv\\lib\\site-packages\\skimage\\morphology\\_deprecated.py:5: skimage_deprecation: Function ``watershed`` is deprecated and will be removed in version 0.19. Use ``skimage.segmentation.watershed`` instead.\n",
      "c:\\users\\user\\pycharmprojects\\comp9517\\venv\\lib\\site-packages\\ipykernel_launcher.py:23: FutureWarning: skimage.measure.label's indexing starts from 0. In future version it will start from 1. To disable this warning, explicitely set the `start_label` parameter to 1.\n",
      "c:\\users\\user\\pycharmprojects\\comp9517\\venv\\lib\\site-packages\\skimage\\morphology\\_deprecated.py:5: skimage_deprecation: Function ``watershed`` is deprecated and will be removed in version 0.19. Use ``skimage.segmentation.watershed`` instead.\n",
      "c:\\users\\user\\pycharmprojects\\comp9517\\venv\\lib\\site-packages\\ipykernel_launcher.py:23: FutureWarning: skimage.measure.label's indexing starts from 0. In future version it will start from 1. To disable this warning, explicitely set the `start_label` parameter to 1.\n"
     ]
    },
    {
     "name": "stdout",
     "output_type": "stream",
     "text": [
      "Dice Score: 0.5849507878295911\n",
      "Best Dice Symmetry Score:  0.5849507878295911\n",
      "Plant/Ara2013-Canon\\ara2013_plant003_rgb.png\n",
      "Dice Score: 0.6526489762188963\n",
      "Best Dice Symmetry Score:  0.6526489762188963\n",
      "Plant/Ara2013-Canon\\ara2013_plant004_rgb.png\n"
     ]
    },
    {
     "name": "stderr",
     "output_type": "stream",
     "text": [
      "c:\\users\\user\\pycharmprojects\\comp9517\\venv\\lib\\site-packages\\skimage\\morphology\\_deprecated.py:5: skimage_deprecation: Function ``watershed`` is deprecated and will be removed in version 0.19. Use ``skimage.segmentation.watershed`` instead.\n",
      "c:\\users\\user\\pycharmprojects\\comp9517\\venv\\lib\\site-packages\\ipykernel_launcher.py:23: FutureWarning: skimage.measure.label's indexing starts from 0. In future version it will start from 1. To disable this warning, explicitely set the `start_label` parameter to 1.\n",
      "c:\\users\\user\\pycharmprojects\\comp9517\\venv\\lib\\site-packages\\skimage\\morphology\\_deprecated.py:5: skimage_deprecation: Function ``watershed`` is deprecated and will be removed in version 0.19. Use ``skimage.segmentation.watershed`` instead.\n"
     ]
    },
    {
     "name": "stdout",
     "output_type": "stream",
     "text": [
      "Dice Score: 0.6528465083303793\n",
      "Best Dice Symmetry Score:  0.6528465083303793\n",
      "Plant/Ara2013-Canon\\ara2013_plant005_rgb.png\n",
      "Dice Score: 0.489017493094831\n",
      "Best Dice Symmetry Score:  0.489017493094831\n",
      "Plant/Ara2013-Canon\\ara2013_plant006_rgb.png\n"
     ]
    },
    {
     "name": "stderr",
     "output_type": "stream",
     "text": [
      "c:\\users\\user\\pycharmprojects\\comp9517\\venv\\lib\\site-packages\\ipykernel_launcher.py:23: FutureWarning: skimage.measure.label's indexing starts from 0. In future version it will start from 1. To disable this warning, explicitely set the `start_label` parameter to 1.\n",
      "c:\\users\\user\\pycharmprojects\\comp9517\\venv\\lib\\site-packages\\skimage\\morphology\\_deprecated.py:5: skimage_deprecation: Function ``watershed`` is deprecated and will be removed in version 0.19. Use ``skimage.segmentation.watershed`` instead.\n",
      "c:\\users\\user\\pycharmprojects\\comp9517\\venv\\lib\\site-packages\\ipykernel_launcher.py:23: FutureWarning: skimage.measure.label's indexing starts from 0. In future version it will start from 1. To disable this warning, explicitely set the `start_label` parameter to 1.\n",
      "c:\\users\\user\\pycharmprojects\\comp9517\\venv\\lib\\site-packages\\skimage\\morphology\\_deprecated.py:5: skimage_deprecation: Function ``watershed`` is deprecated and will be removed in version 0.19. Use ``skimage.segmentation.watershed`` instead.\n",
      "c:\\users\\user\\pycharmprojects\\comp9517\\venv\\lib\\site-packages\\ipykernel_launcher.py:23: FutureWarning: skimage.measure.label's indexing starts from 0. In future version it will start from 1. To disable this warning, explicitely set the `start_label` parameter to 1.\n"
     ]
    },
    {
     "name": "stdout",
     "output_type": "stream",
     "text": [
      "Dice Score: 0.6127102998153782\n",
      "Best Dice Symmetry Score:  0.6127102998153782\n",
      "Plant/Ara2013-Canon\\ara2013_plant007_rgb.png\n",
      "Dice Score: 0.677561282212445\n",
      "Best Dice Symmetry Score:  0.677561282212445\n",
      "Plant/Ara2013-Canon\\ara2013_plant008_rgb.png\n"
     ]
    },
    {
     "name": "stderr",
     "output_type": "stream",
     "text": [
      "c:\\users\\user\\pycharmprojects\\comp9517\\venv\\lib\\site-packages\\skimage\\morphology\\_deprecated.py:5: skimage_deprecation: Function ``watershed`` is deprecated and will be removed in version 0.19. Use ``skimage.segmentation.watershed`` instead.\n",
      "c:\\users\\user\\pycharmprojects\\comp9517\\venv\\lib\\site-packages\\ipykernel_launcher.py:23: FutureWarning: skimage.measure.label's indexing starts from 0. In future version it will start from 1. To disable this warning, explicitely set the `start_label` parameter to 1.\n",
      "c:\\users\\user\\pycharmprojects\\comp9517\\venv\\lib\\site-packages\\skimage\\morphology\\_deprecated.py:5: skimage_deprecation: Function ``watershed`` is deprecated and will be removed in version 0.19. Use ``skimage.segmentation.watershed`` instead.\n",
      "c:\\users\\user\\pycharmprojects\\comp9517\\venv\\lib\\site-packages\\ipykernel_launcher.py:23: FutureWarning: skimage.measure.label's indexing starts from 0. In future version it will start from 1. To disable this warning, explicitely set the `start_label` parameter to 1.\n",
      "c:\\users\\user\\pycharmprojects\\comp9517\\venv\\lib\\site-packages\\skimage\\morphology\\_deprecated.py:5: skimage_deprecation: Function ``watershed`` is deprecated and will be removed in version 0.19. Use ``skimage.segmentation.watershed`` instead.\n",
      "c:\\users\\user\\pycharmprojects\\comp9517\\venv\\lib\\site-packages\\ipykernel_launcher.py:23: FutureWarning: skimage.measure.label's indexing starts from 0. In future version it will start from 1. To disable this warning, explicitely set the `start_label` parameter to 1.\n"
     ]
    },
    {
     "name": "stdout",
     "output_type": "stream",
     "text": [
      "Dice Score: 0.5020745088401544\n",
      "Best Dice Symmetry Score:  0.5020745088401544\n",
      "Plant/Ara2013-Canon\\ara2013_plant009_rgb.png\n",
      "Dice Score: 0.37185595567867036\n",
      "Best Dice Symmetry Score:  0.37185595567867036\n",
      "Plant/Ara2013-Canon\\ara2013_plant010_rgb.png\n",
      "Dice Score: 0.5238751939320807\n",
      "Best Dice Symmetry Score:  0.5238751939320807\n",
      "Plant/Ara2013-Canon\\ara2013_plant011_rgb.png\n"
     ]
    },
    {
     "name": "stderr",
     "output_type": "stream",
     "text": [
      "c:\\users\\user\\pycharmprojects\\comp9517\\venv\\lib\\site-packages\\skimage\\morphology\\_deprecated.py:5: skimage_deprecation: Function ``watershed`` is deprecated and will be removed in version 0.19. Use ``skimage.segmentation.watershed`` instead.\n",
      "c:\\users\\user\\pycharmprojects\\comp9517\\venv\\lib\\site-packages\\ipykernel_launcher.py:23: FutureWarning: skimage.measure.label's indexing starts from 0. In future version it will start from 1. To disable this warning, explicitely set the `start_label` parameter to 1.\n"
     ]
    },
    {
     "name": "stdout",
     "output_type": "stream",
     "text": [
      "Dice Score: 0.4689123015284167\n",
      "Best Dice Symmetry Score:  0.4689123015284167\n",
      "Plant/Ara2013-Canon\\ara2013_plant012_rgb.png\n"
     ]
    },
    {
     "name": "stderr",
     "output_type": "stream",
     "text": [
      "c:\\users\\user\\pycharmprojects\\comp9517\\venv\\lib\\site-packages\\skimage\\morphology\\_deprecated.py:5: skimage_deprecation: Function ``watershed`` is deprecated and will be removed in version 0.19. Use ``skimage.segmentation.watershed`` instead.\n",
      "c:\\users\\user\\pycharmprojects\\comp9517\\venv\\lib\\site-packages\\ipykernel_launcher.py:23: FutureWarning: skimage.measure.label's indexing starts from 0. In future version it will start from 1. To disable this warning, explicitely set the `start_label` parameter to 1.\n",
      "c:\\users\\user\\pycharmprojects\\comp9517\\venv\\lib\\site-packages\\skimage\\morphology\\_deprecated.py:5: skimage_deprecation: Function ``watershed`` is deprecated and will be removed in version 0.19. Use ``skimage.segmentation.watershed`` instead.\n",
      "c:\\users\\user\\pycharmprojects\\comp9517\\venv\\lib\\site-packages\\ipykernel_launcher.py:23: FutureWarning: skimage.measure.label's indexing starts from 0. In future version it will start from 1. To disable this warning, explicitely set the `start_label` parameter to 1.\n"
     ]
    },
    {
     "name": "stdout",
     "output_type": "stream",
     "text": [
      "Dice Score: 0.5990895295902883\n",
      "Best Dice Symmetry Score:  0.5990895295902883\n",
      "Plant/Ara2013-Canon\\ara2013_plant013_rgb.png\n",
      "Dice Score: 0.5628900800352449\n",
      "Best Dice Symmetry Score:  0.5628900800352449\n",
      "Plant/Ara2013-Canon\\ara2013_plant014_rgb.png\n"
     ]
    },
    {
     "name": "stderr",
     "output_type": "stream",
     "text": [
      "c:\\users\\user\\pycharmprojects\\comp9517\\venv\\lib\\site-packages\\skimage\\morphology\\_deprecated.py:5: skimage_deprecation: Function ``watershed`` is deprecated and will be removed in version 0.19. Use ``skimage.segmentation.watershed`` instead.\n",
      "c:\\users\\user\\pycharmprojects\\comp9517\\venv\\lib\\site-packages\\ipykernel_launcher.py:23: FutureWarning: skimage.measure.label's indexing starts from 0. In future version it will start from 1. To disable this warning, explicitely set the `start_label` parameter to 1.\n",
      "c:\\users\\user\\pycharmprojects\\comp9517\\venv\\lib\\site-packages\\skimage\\morphology\\_deprecated.py:5: skimage_deprecation: Function ``watershed`` is deprecated and will be removed in version 0.19. Use ``skimage.segmentation.watershed`` instead.\n",
      "c:\\users\\user\\pycharmprojects\\comp9517\\venv\\lib\\site-packages\\ipykernel_launcher.py:23: FutureWarning: skimage.measure.label's indexing starts from 0. In future version it will start from 1. To disable this warning, explicitely set the `start_label` parameter to 1.\n"
     ]
    },
    {
     "name": "stdout",
     "output_type": "stream",
     "text": [
      "Dice Score: 0.47418128981781604\n",
      "Best Dice Symmetry Score:  0.47418128981781604\n",
      "Plant/Ara2013-Canon\\ara2013_plant015_rgb.png\n",
      "Dice Score: 0.47432966119309916\n",
      "Best Dice Symmetry Score:  0.47432966119309916\n",
      "Plant/Ara2013-Canon\\ara2013_plant016_rgb.png\n"
     ]
    },
    {
     "name": "stderr",
     "output_type": "stream",
     "text": [
      "c:\\users\\user\\pycharmprojects\\comp9517\\venv\\lib\\site-packages\\skimage\\morphology\\_deprecated.py:5: skimage_deprecation: Function ``watershed`` is deprecated and will be removed in version 0.19. Use ``skimage.segmentation.watershed`` instead.\n",
      "c:\\users\\user\\pycharmprojects\\comp9517\\venv\\lib\\site-packages\\ipykernel_launcher.py:23: FutureWarning: skimage.measure.label's indexing starts from 0. In future version it will start from 1. To disable this warning, explicitely set the `start_label` parameter to 1.\n",
      "c:\\users\\user\\pycharmprojects\\comp9517\\venv\\lib\\site-packages\\skimage\\morphology\\_deprecated.py:5: skimage_deprecation: Function ``watershed`` is deprecated and will be removed in version 0.19. Use ``skimage.segmentation.watershed`` instead.\n",
      "c:\\users\\user\\pycharmprojects\\comp9517\\venv\\lib\\site-packages\\ipykernel_launcher.py:23: FutureWarning: skimage.measure.label's indexing starts from 0. In future version it will start from 1. To disable this warning, explicitely set the `start_label` parameter to 1.\n",
      "c:\\users\\user\\pycharmprojects\\comp9517\\venv\\lib\\site-packages\\skimage\\morphology\\_deprecated.py:5: skimage_deprecation: Function ``watershed`` is deprecated and will be removed in version 0.19. Use ``skimage.segmentation.watershed`` instead.\n"
     ]
    },
    {
     "name": "stdout",
     "output_type": "stream",
     "text": [
      "Dice Score: 0.6446007751226053\n",
      "Best Dice Symmetry Score:  0.6446007751226053\n",
      "Plant/Ara2013-Canon\\ara2013_plant017_rgb.png\n",
      "Dice Score: 0.5977972505828443\n",
      "Best Dice Symmetry Score:  0.5977972505828443\n",
      "Plant/Ara2013-Canon\\ara2013_plant018_rgb.png\n",
      "Dice Score: 0.5319972671373263\n",
      "Best Dice Symmetry Score:  0.5319972671373263\n",
      "Plant/Ara2013-Canon\\ara2013_plant019_rgb.png\n"
     ]
    },
    {
     "name": "stderr",
     "output_type": "stream",
     "text": [
      "c:\\users\\user\\pycharmprojects\\comp9517\\venv\\lib\\site-packages\\ipykernel_launcher.py:23: FutureWarning: skimage.measure.label's indexing starts from 0. In future version it will start from 1. To disable this warning, explicitely set the `start_label` parameter to 1.\n",
      "c:\\users\\user\\pycharmprojects\\comp9517\\venv\\lib\\site-packages\\skimage\\morphology\\_deprecated.py:5: skimage_deprecation: Function ``watershed`` is deprecated and will be removed in version 0.19. Use ``skimage.segmentation.watershed`` instead.\n",
      "c:\\users\\user\\pycharmprojects\\comp9517\\venv\\lib\\site-packages\\ipykernel_launcher.py:23: FutureWarning: skimage.measure.label's indexing starts from 0. In future version it will start from 1. To disable this warning, explicitely set the `start_label` parameter to 1.\n",
      "c:\\users\\user\\pycharmprojects\\comp9517\\venv\\lib\\site-packages\\skimage\\morphology\\_deprecated.py:5: skimage_deprecation: Function ``watershed`` is deprecated and will be removed in version 0.19. Use ``skimage.segmentation.watershed`` instead.\n",
      "c:\\users\\user\\pycharmprojects\\comp9517\\venv\\lib\\site-packages\\ipykernel_launcher.py:23: FutureWarning: skimage.measure.label's indexing starts from 0. In future version it will start from 1. To disable this warning, explicitely set the `start_label` parameter to 1.\n"
     ]
    },
    {
     "name": "stdout",
     "output_type": "stream",
     "text": [
      "Dice Score: 0.2764432967750174\n",
      "Best Dice Symmetry Score:  0.2764432967750174\n",
      "Plant/Ara2013-Canon\\ara2013_plant020_rgb.png\n",
      "Dice Score: 0.2570897257089726\n",
      "Best Dice Symmetry Score:  0.2570897257089726\n",
      "Plant/Ara2013-Canon\\ara2013_plant021_rgb.png\n"
     ]
    },
    {
     "name": "stderr",
     "output_type": "stream",
     "text": [
      "c:\\users\\user\\pycharmprojects\\comp9517\\venv\\lib\\site-packages\\skimage\\morphology\\_deprecated.py:5: skimage_deprecation: Function ``watershed`` is deprecated and will be removed in version 0.19. Use ``skimage.segmentation.watershed`` instead.\n",
      "c:\\users\\user\\pycharmprojects\\comp9517\\venv\\lib\\site-packages\\ipykernel_launcher.py:23: FutureWarning: skimage.measure.label's indexing starts from 0. In future version it will start from 1. To disable this warning, explicitely set the `start_label` parameter to 1.\n",
      "c:\\users\\user\\pycharmprojects\\comp9517\\venv\\lib\\site-packages\\skimage\\morphology\\_deprecated.py:5: skimage_deprecation: Function ``watershed`` is deprecated and will be removed in version 0.19. Use ``skimage.segmentation.watershed`` instead.\n"
     ]
    },
    {
     "name": "stdout",
     "output_type": "stream",
     "text": [
      "Dice Score: 0.5517626698281618\n",
      "Best Dice Symmetry Score:  0.5517626698281618\n",
      "Plant/Ara2013-Canon\\ara2013_plant022_rgb.png\n",
      "Dice Score: 0.459171039443429\n"
     ]
    },
    {
     "name": "stderr",
     "output_type": "stream",
     "text": [
      "c:\\users\\user\\pycharmprojects\\comp9517\\venv\\lib\\site-packages\\ipykernel_launcher.py:23: FutureWarning: skimage.measure.label's indexing starts from 0. In future version it will start from 1. To disable this warning, explicitely set the `start_label` parameter to 1.\n"
     ]
    },
    {
     "name": "stdout",
     "output_type": "stream",
     "text": [
      "Best Dice Symmetry Score:  0.459171039443429\n",
      "Plant/Ara2013-Canon\\ara2013_plant023_rgb.png\n"
     ]
    },
    {
     "name": "stderr",
     "output_type": "stream",
     "text": [
      "c:\\users\\user\\pycharmprojects\\comp9517\\venv\\lib\\site-packages\\skimage\\morphology\\_deprecated.py:5: skimage_deprecation: Function ``watershed`` is deprecated and will be removed in version 0.19. Use ``skimage.segmentation.watershed`` instead.\n",
      "c:\\users\\user\\pycharmprojects\\comp9517\\venv\\lib\\site-packages\\ipykernel_launcher.py:23: FutureWarning: skimage.measure.label's indexing starts from 0. In future version it will start from 1. To disable this warning, explicitely set the `start_label` parameter to 1.\n"
     ]
    },
    {
     "name": "stdout",
     "output_type": "stream",
     "text": [
      "Dice Score: 0.6583940293139107\n",
      "Best Dice Symmetry Score:  0.6583940293139107\n",
      "Plant/Ara2013-Canon\\ara2013_plant024_rgb.png\n"
     ]
    },
    {
     "name": "stderr",
     "output_type": "stream",
     "text": [
      "c:\\users\\user\\pycharmprojects\\comp9517\\venv\\lib\\site-packages\\skimage\\morphology\\_deprecated.py:5: skimage_deprecation: Function ``watershed`` is deprecated and will be removed in version 0.19. Use ``skimage.segmentation.watershed`` instead.\n",
      "c:\\users\\user\\pycharmprojects\\comp9517\\venv\\lib\\site-packages\\ipykernel_launcher.py:23: FutureWarning: skimage.measure.label's indexing starts from 0. In future version it will start from 1. To disable this warning, explicitely set the `start_label` parameter to 1.\n",
      "c:\\users\\user\\pycharmprojects\\comp9517\\venv\\lib\\site-packages\\skimage\\morphology\\_deprecated.py:5: skimage_deprecation: Function ``watershed`` is deprecated and will be removed in version 0.19. Use ``skimage.segmentation.watershed`` instead.\n",
      "c:\\users\\user\\pycharmprojects\\comp9517\\venv\\lib\\site-packages\\ipykernel_launcher.py:23: FutureWarning: skimage.measure.label's indexing starts from 0. In future version it will start from 1. To disable this warning, explicitely set the `start_label` parameter to 1.\n"
     ]
    },
    {
     "name": "stdout",
     "output_type": "stream",
     "text": [
      "Dice Score: 0.2629823354575778\n",
      "Best Dice Symmetry Score:  0.2629823354575778\n",
      "Plant/Ara2013-Canon\\ara2013_plant025_rgb.png\n",
      "Dice Score: 0.44315080953247227\n",
      "Best Dice Symmetry Score:  0.44315080953247227\n",
      "Plant/Ara2013-Canon\\ara2013_plant026_rgb.png\n"
     ]
    },
    {
     "name": "stderr",
     "output_type": "stream",
     "text": [
      "c:\\users\\user\\pycharmprojects\\comp9517\\venv\\lib\\site-packages\\skimage\\morphology\\_deprecated.py:5: skimage_deprecation: Function ``watershed`` is deprecated and will be removed in version 0.19. Use ``skimage.segmentation.watershed`` instead.\n",
      "c:\\users\\user\\pycharmprojects\\comp9517\\venv\\lib\\site-packages\\ipykernel_launcher.py:23: FutureWarning: skimage.measure.label's indexing starts from 0. In future version it will start from 1. To disable this warning, explicitely set the `start_label` parameter to 1.\n",
      "c:\\users\\user\\pycharmprojects\\comp9517\\venv\\lib\\site-packages\\skimage\\morphology\\_deprecated.py:5: skimage_deprecation: Function ``watershed`` is deprecated and will be removed in version 0.19. Use ``skimage.segmentation.watershed`` instead.\n",
      "c:\\users\\user\\pycharmprojects\\comp9517\\venv\\lib\\site-packages\\ipykernel_launcher.py:23: FutureWarning: skimage.measure.label's indexing starts from 0. In future version it will start from 1. To disable this warning, explicitely set the `start_label` parameter to 1.\n"
     ]
    },
    {
     "name": "stdout",
     "output_type": "stream",
     "text": [
      "Dice Score: 0.43286788399570353\n",
      "Best Dice Symmetry Score:  0.43286788399570353\n",
      "Plant/Ara2013-Canon\\ara2013_plant027_rgb.png\n",
      "Dice Score: 0.5364389103090829\n",
      "Best Dice Symmetry Score:  0.5364389103090829\n",
      "Plant/Ara2013-Canon\\ara2013_plant028_rgb.png\n"
     ]
    },
    {
     "name": "stderr",
     "output_type": "stream",
     "text": [
      "c:\\users\\user\\pycharmprojects\\comp9517\\venv\\lib\\site-packages\\skimage\\morphology\\_deprecated.py:5: skimage_deprecation: Function ``watershed`` is deprecated and will be removed in version 0.19. Use ``skimage.segmentation.watershed`` instead.\n",
      "c:\\users\\user\\pycharmprojects\\comp9517\\venv\\lib\\site-packages\\ipykernel_launcher.py:23: FutureWarning: skimage.measure.label's indexing starts from 0. In future version it will start from 1. To disable this warning, explicitely set the `start_label` parameter to 1.\n",
      "c:\\users\\user\\pycharmprojects\\comp9517\\venv\\lib\\site-packages\\skimage\\morphology\\_deprecated.py:5: skimage_deprecation: Function ``watershed`` is deprecated and will be removed in version 0.19. Use ``skimage.segmentation.watershed`` instead.\n",
      "c:\\users\\user\\pycharmprojects\\comp9517\\venv\\lib\\site-packages\\ipykernel_launcher.py:23: FutureWarning: skimage.measure.label's indexing starts from 0. In future version it will start from 1. To disable this warning, explicitely set the `start_label` parameter to 1.\n"
     ]
    },
    {
     "name": "stdout",
     "output_type": "stream",
     "text": [
      "Dice Score: 0.42367788461538464\n",
      "Best Dice Symmetry Score:  0.42367788461538464\n",
      "Plant/Ara2013-Canon\\ara2013_plant029_rgb.png\n",
      "Dice Score: 0.3917525773195876\n",
      "Best Dice Symmetry Score:  0.3917525773195876\n",
      "Plant/Ara2013-Canon\\ara2013_plant030_rgb.png\n"
     ]
    },
    {
     "name": "stderr",
     "output_type": "stream",
     "text": [
      "c:\\users\\user\\pycharmprojects\\comp9517\\venv\\lib\\site-packages\\skimage\\morphology\\_deprecated.py:5: skimage_deprecation: Function ``watershed`` is deprecated and will be removed in version 0.19. Use ``skimage.segmentation.watershed`` instead.\n",
      "c:\\users\\user\\pycharmprojects\\comp9517\\venv\\lib\\site-packages\\ipykernel_launcher.py:23: FutureWarning: skimage.measure.label's indexing starts from 0. In future version it will start from 1. To disable this warning, explicitely set the `start_label` parameter to 1.\n"
     ]
    },
    {
     "name": "stdout",
     "output_type": "stream",
     "text": [
      "Dice Score: 0.5787302314920926\n",
      "Best Dice Symmetry Score:  0.5787302314920926\n",
      "Plant/Ara2013-Canon\\ara2013_plant031_rgb.png\n"
     ]
    },
    {
     "name": "stderr",
     "output_type": "stream",
     "text": [
      "c:\\users\\user\\pycharmprojects\\comp9517\\venv\\lib\\site-packages\\skimage\\morphology\\_deprecated.py:5: skimage_deprecation: Function ``watershed`` is deprecated and will be removed in version 0.19. Use ``skimage.segmentation.watershed`` instead.\n",
      "c:\\users\\user\\pycharmprojects\\comp9517\\venv\\lib\\site-packages\\ipykernel_launcher.py:23: FutureWarning: skimage.measure.label's indexing starts from 0. In future version it will start from 1. To disable this warning, explicitely set the `start_label` parameter to 1.\n"
     ]
    },
    {
     "name": "stdout",
     "output_type": "stream",
     "text": [
      "Dice Score: 0.6735605244821689\n",
      "Best Dice Symmetry Score:  0.6735605244821689\n",
      "Plant/Ara2013-Canon\\ara2013_plant032_rgb.png\n"
     ]
    },
    {
     "name": "stderr",
     "output_type": "stream",
     "text": [
      "c:\\users\\user\\pycharmprojects\\comp9517\\venv\\lib\\site-packages\\skimage\\morphology\\_deprecated.py:5: skimage_deprecation: Function ``watershed`` is deprecated and will be removed in version 0.19. Use ``skimage.segmentation.watershed`` instead.\n",
      "c:\\users\\user\\pycharmprojects\\comp9517\\venv\\lib\\site-packages\\ipykernel_launcher.py:23: FutureWarning: skimage.measure.label's indexing starts from 0. In future version it will start from 1. To disable this warning, explicitely set the `start_label` parameter to 1.\n",
      "c:\\users\\user\\pycharmprojects\\comp9517\\venv\\lib\\site-packages\\skimage\\morphology\\_deprecated.py:5: skimage_deprecation: Function ``watershed`` is deprecated and will be removed in version 0.19. Use ``skimage.segmentation.watershed`` instead.\n",
      "c:\\users\\user\\pycharmprojects\\comp9517\\venv\\lib\\site-packages\\ipykernel_launcher.py:23: FutureWarning: skimage.measure.label's indexing starts from 0. In future version it will start from 1. To disable this warning, explicitely set the `start_label` parameter to 1.\n"
     ]
    },
    {
     "name": "stdout",
     "output_type": "stream",
     "text": [
      "Dice Score: 0.40137617527604236\n",
      "Best Dice Symmetry Score:  0.40137617527604236\n",
      "Plant/Ara2013-Canon\\ara2013_plant033_rgb.png\n",
      "Dice Score: 0.5924729445969956\n",
      "Best Dice Symmetry Score:  0.5924729445969956\n",
      "Plant/Ara2013-Canon\\ara2013_plant034_rgb.png\n"
     ]
    },
    {
     "name": "stderr",
     "output_type": "stream",
     "text": [
      "c:\\users\\user\\pycharmprojects\\comp9517\\venv\\lib\\site-packages\\skimage\\morphology\\_deprecated.py:5: skimage_deprecation: Function ``watershed`` is deprecated and will be removed in version 0.19. Use ``skimage.segmentation.watershed`` instead.\n",
      "c:\\users\\user\\pycharmprojects\\comp9517\\venv\\lib\\site-packages\\ipykernel_launcher.py:23: FutureWarning: skimage.measure.label's indexing starts from 0. In future version it will start from 1. To disable this warning, explicitely set the `start_label` parameter to 1.\n"
     ]
    },
    {
     "name": "stdout",
     "output_type": "stream",
     "text": [
      "Dice Score: 0.5457885244806626\n",
      "Best Dice Symmetry Score:  0.5457885244806626\n",
      "Plant/Ara2013-Canon\\ara2013_plant035_rgb.png\n"
     ]
    },
    {
     "name": "stderr",
     "output_type": "stream",
     "text": [
      "c:\\users\\user\\pycharmprojects\\comp9517\\venv\\lib\\site-packages\\skimage\\morphology\\_deprecated.py:5: skimage_deprecation: Function ``watershed`` is deprecated and will be removed in version 0.19. Use ``skimage.segmentation.watershed`` instead.\n",
      "c:\\users\\user\\pycharmprojects\\comp9517\\venv\\lib\\site-packages\\ipykernel_launcher.py:23: FutureWarning: skimage.measure.label's indexing starts from 0. In future version it will start from 1. To disable this warning, explicitely set the `start_label` parameter to 1.\n",
      "c:\\users\\user\\pycharmprojects\\comp9517\\venv\\lib\\site-packages\\skimage\\morphology\\_deprecated.py:5: skimage_deprecation: Function ``watershed`` is deprecated and will be removed in version 0.19. Use ``skimage.segmentation.watershed`` instead.\n",
      "c:\\users\\user\\pycharmprojects\\comp9517\\venv\\lib\\site-packages\\ipykernel_launcher.py:23: FutureWarning: skimage.measure.label's indexing starts from 0. In future version it will start from 1. To disable this warning, explicitely set the `start_label` parameter to 1.\n"
     ]
    },
    {
     "name": "stdout",
     "output_type": "stream",
     "text": [
      "Dice Score: 0.6133494392296013\n",
      "Best Dice Symmetry Score:  0.6133494392296013\n",
      "Plant/Ara2013-Canon\\ara2013_plant036_rgb.png\n",
      "Dice Score: 0.678478524770218\n",
      "Best Dice Symmetry Score:  0.678478524770218\n",
      "Plant/Ara2013-Canon\\ara2013_plant037_rgb.png\n"
     ]
    },
    {
     "name": "stderr",
     "output_type": "stream",
     "text": [
      "c:\\users\\user\\pycharmprojects\\comp9517\\venv\\lib\\site-packages\\skimage\\morphology\\_deprecated.py:5: skimage_deprecation: Function ``watershed`` is deprecated and will be removed in version 0.19. Use ``skimage.segmentation.watershed`` instead.\n",
      "c:\\users\\user\\pycharmprojects\\comp9517\\venv\\lib\\site-packages\\ipykernel_launcher.py:23: FutureWarning: skimage.measure.label's indexing starts from 0. In future version it will start from 1. To disable this warning, explicitely set the `start_label` parameter to 1.\n",
      "c:\\users\\user\\pycharmprojects\\comp9517\\venv\\lib\\site-packages\\skimage\\morphology\\_deprecated.py:5: skimage_deprecation: Function ``watershed`` is deprecated and will be removed in version 0.19. Use ``skimage.segmentation.watershed`` instead.\n"
     ]
    },
    {
     "name": "stdout",
     "output_type": "stream",
     "text": [
      "Dice Score: 0.6559958016268695\n",
      "Best Dice Symmetry Score:  0.6559958016268695\n",
      "Plant/Ara2013-Canon\\ara2013_plant038_rgb.png\n",
      "Dice Score: 0.6447130047928085\n",
      "Best Dice Symmetry Score:  0.6447130047928085\n",
      "Plant/Ara2013-Canon\\ara2013_plant039_rgb.png\n"
     ]
    },
    {
     "name": "stderr",
     "output_type": "stream",
     "text": [
      "c:\\users\\user\\pycharmprojects\\comp9517\\venv\\lib\\site-packages\\ipykernel_launcher.py:23: FutureWarning: skimage.measure.label's indexing starts from 0. In future version it will start from 1. To disable this warning, explicitely set the `start_label` parameter to 1.\n",
      "c:\\users\\user\\pycharmprojects\\comp9517\\venv\\lib\\site-packages\\skimage\\morphology\\_deprecated.py:5: skimage_deprecation: Function ``watershed`` is deprecated and will be removed in version 0.19. Use ``skimage.segmentation.watershed`` instead.\n",
      "c:\\users\\user\\pycharmprojects\\comp9517\\venv\\lib\\site-packages\\ipykernel_launcher.py:23: FutureWarning: skimage.measure.label's indexing starts from 0. In future version it will start from 1. To disable this warning, explicitely set the `start_label` parameter to 1.\n",
      "c:\\users\\user\\pycharmprojects\\comp9517\\venv\\lib\\site-packages\\skimage\\morphology\\_deprecated.py:5: skimage_deprecation: Function ``watershed`` is deprecated and will be removed in version 0.19. Use ``skimage.segmentation.watershed`` instead.\n",
      "c:\\users\\user\\pycharmprojects\\comp9517\\venv\\lib\\site-packages\\ipykernel_launcher.py:23: FutureWarning: skimage.measure.label's indexing starts from 0. In future version it will start from 1. To disable this warning, explicitely set the `start_label` parameter to 1.\n",
      "c:\\users\\user\\pycharmprojects\\comp9517\\venv\\lib\\site-packages\\skimage\\morphology\\_deprecated.py:5: skimage_deprecation: Function ``watershed`` is deprecated and will be removed in version 0.19. Use ``skimage.segmentation.watershed`` instead.\n"
     ]
    },
    {
     "name": "stdout",
     "output_type": "stream",
     "text": [
      "Dice Score: 0.6600188098274907\n",
      "Best Dice Symmetry Score:  0.6600188098274907\n",
      "Plant/Ara2013-Canon\\ara2013_plant040_rgb.png\n",
      "Dice Score: 0.6203633033124714\n",
      "Best Dice Symmetry Score:  0.6203633033124714\n",
      "Plant/Ara2013-Canon\\ara2013_plant041_rgb.png\n",
      "Dice Score: 0.6541940662529715\n",
      "Best Dice Symmetry Score:  0.6541940662529715\n",
      "Plant/Ara2013-Canon\\ara2013_plant042_rgb.png\n"
     ]
    },
    {
     "name": "stderr",
     "output_type": "stream",
     "text": [
      "c:\\users\\user\\pycharmprojects\\comp9517\\venv\\lib\\site-packages\\ipykernel_launcher.py:23: FutureWarning: skimage.measure.label's indexing starts from 0. In future version it will start from 1. To disable this warning, explicitely set the `start_label` parameter to 1.\n",
      "c:\\users\\user\\pycharmprojects\\comp9517\\venv\\lib\\site-packages\\skimage\\morphology\\_deprecated.py:5: skimage_deprecation: Function ``watershed`` is deprecated and will be removed in version 0.19. Use ``skimage.segmentation.watershed`` instead.\n",
      "c:\\users\\user\\pycharmprojects\\comp9517\\venv\\lib\\site-packages\\ipykernel_launcher.py:23: FutureWarning: skimage.measure.label's indexing starts from 0. In future version it will start from 1. To disable this warning, explicitely set the `start_label` parameter to 1.\n"
     ]
    },
    {
     "name": "stdout",
     "output_type": "stream",
     "text": [
      "Dice Score: 0.5862253375861871\n",
      "Best Dice Symmetry Score:  0.5862253375861871\n",
      "Plant/Ara2013-Canon\\ara2013_plant043_rgb.png\n"
     ]
    },
    {
     "name": "stderr",
     "output_type": "stream",
     "text": [
      "c:\\users\\user\\pycharmprojects\\comp9517\\venv\\lib\\site-packages\\skimage\\morphology\\_deprecated.py:5: skimage_deprecation: Function ``watershed`` is deprecated and will be removed in version 0.19. Use ``skimage.segmentation.watershed`` instead.\n",
      "c:\\users\\user\\pycharmprojects\\comp9517\\venv\\lib\\site-packages\\ipykernel_launcher.py:23: FutureWarning: skimage.measure.label's indexing starts from 0. In future version it will start from 1. To disable this warning, explicitely set the `start_label` parameter to 1.\n"
     ]
    },
    {
     "name": "stdout",
     "output_type": "stream",
     "text": [
      "Dice Score: 0.6016322972999743\n",
      "Best Dice Symmetry Score:  0.6016322972999743\n",
      "Plant/Ara2013-Canon\\ara2013_plant044_rgb.png\n"
     ]
    },
    {
     "name": "stderr",
     "output_type": "stream",
     "text": [
      "c:\\users\\user\\pycharmprojects\\comp9517\\venv\\lib\\site-packages\\skimage\\morphology\\_deprecated.py:5: skimage_deprecation: Function ``watershed`` is deprecated and will be removed in version 0.19. Use ``skimage.segmentation.watershed`` instead.\n",
      "c:\\users\\user\\pycharmprojects\\comp9517\\venv\\lib\\site-packages\\ipykernel_launcher.py:23: FutureWarning: skimage.measure.label's indexing starts from 0. In future version it will start from 1. To disable this warning, explicitely set the `start_label` parameter to 1.\n"
     ]
    },
    {
     "name": "stdout",
     "output_type": "stream",
     "text": [
      "Dice Score: 0.5854893545198081\n",
      "Best Dice Symmetry Score:  0.5854893545198081\n",
      "Plant/Ara2013-Canon\\ara2013_plant045_rgb.png\n"
     ]
    },
    {
     "name": "stderr",
     "output_type": "stream",
     "text": [
      "c:\\users\\user\\pycharmprojects\\comp9517\\venv\\lib\\site-packages\\skimage\\morphology\\_deprecated.py:5: skimage_deprecation: Function ``watershed`` is deprecated and will be removed in version 0.19. Use ``skimage.segmentation.watershed`` instead.\n",
      "c:\\users\\user\\pycharmprojects\\comp9517\\venv\\lib\\site-packages\\ipykernel_launcher.py:23: FutureWarning: skimage.measure.label's indexing starts from 0. In future version it will start from 1. To disable this warning, explicitely set the `start_label` parameter to 1.\n"
     ]
    },
    {
     "name": "stdout",
     "output_type": "stream",
     "text": [
      "Dice Score: 0.6228634850166481\n",
      "Best Dice Symmetry Score:  0.6228634850166481\n",
      "Plant/Ara2013-Canon\\ara2013_plant046_rgb.png\n"
     ]
    },
    {
     "name": "stderr",
     "output_type": "stream",
     "text": [
      "c:\\users\\user\\pycharmprojects\\comp9517\\venv\\lib\\site-packages\\skimage\\morphology\\_deprecated.py:5: skimage_deprecation: Function ``watershed`` is deprecated and will be removed in version 0.19. Use ``skimage.segmentation.watershed`` instead.\n",
      "c:\\users\\user\\pycharmprojects\\comp9517\\venv\\lib\\site-packages\\ipykernel_launcher.py:23: FutureWarning: skimage.measure.label's indexing starts from 0. In future version it will start from 1. To disable this warning, explicitely set the `start_label` parameter to 1.\n",
      "c:\\users\\user\\pycharmprojects\\comp9517\\venv\\lib\\site-packages\\skimage\\morphology\\_deprecated.py:5: skimage_deprecation: Function ``watershed`` is deprecated and will be removed in version 0.19. Use ``skimage.segmentation.watershed`` instead.\n",
      "c:\\users\\user\\pycharmprojects\\comp9517\\venv\\lib\\site-packages\\ipykernel_launcher.py:23: FutureWarning: skimage.measure.label's indexing starts from 0. In future version it will start from 1. To disable this warning, explicitely set the `start_label` parameter to 1.\n"
     ]
    },
    {
     "name": "stdout",
     "output_type": "stream",
     "text": [
      "Dice Score: 0.48882148273708625\n",
      "Best Dice Symmetry Score:  0.48882148273708625\n",
      "Plant/Ara2013-Canon\\ara2013_plant047_rgb.png\n",
      "Dice Score: 0.5730833714372809\n",
      "Best Dice Symmetry Score:  0.5730833714372809\n",
      "Plant/Ara2013-Canon\\ara2013_plant048_rgb.png\n"
     ]
    },
    {
     "name": "stderr",
     "output_type": "stream",
     "text": [
      "c:\\users\\user\\pycharmprojects\\comp9517\\venv\\lib\\site-packages\\skimage\\morphology\\_deprecated.py:5: skimage_deprecation: Function ``watershed`` is deprecated and will be removed in version 0.19. Use ``skimage.segmentation.watershed`` instead.\n",
      "c:\\users\\user\\pycharmprojects\\comp9517\\venv\\lib\\site-packages\\ipykernel_launcher.py:23: FutureWarning: skimage.measure.label's indexing starts from 0. In future version it will start from 1. To disable this warning, explicitely set the `start_label` parameter to 1.\n"
     ]
    },
    {
     "name": "stdout",
     "output_type": "stream",
     "text": [
      "Dice Score: 0.5399509135533134\n",
      "Best Dice Symmetry Score:  0.5399509135533134\n",
      "Plant/Ara2013-Canon\\ara2013_plant049_rgb.png\n"
     ]
    },
    {
     "name": "stderr",
     "output_type": "stream",
     "text": [
      "c:\\users\\user\\pycharmprojects\\comp9517\\venv\\lib\\site-packages\\skimage\\morphology\\_deprecated.py:5: skimage_deprecation: Function ``watershed`` is deprecated and will be removed in version 0.19. Use ``skimage.segmentation.watershed`` instead.\n",
      "c:\\users\\user\\pycharmprojects\\comp9517\\venv\\lib\\site-packages\\ipykernel_launcher.py:23: FutureWarning: skimage.measure.label's indexing starts from 0. In future version it will start from 1. To disable this warning, explicitely set the `start_label` parameter to 1.\n",
      "c:\\users\\user\\pycharmprojects\\comp9517\\venv\\lib\\site-packages\\skimage\\morphology\\_deprecated.py:5: skimage_deprecation: Function ``watershed`` is deprecated and will be removed in version 0.19. Use ``skimage.segmentation.watershed`` instead.\n"
     ]
    },
    {
     "name": "stdout",
     "output_type": "stream",
     "text": [
      "Dice Score: 0.5632487340990491\n",
      "Best Dice Symmetry Score:  0.5632487340990491\n",
      "Plant/Ara2013-Canon\\ara2013_plant050_rgb.png\n"
     ]
    },
    {
     "name": "stderr",
     "output_type": "stream",
     "text": [
      "c:\\users\\user\\pycharmprojects\\comp9517\\venv\\lib\\site-packages\\ipykernel_launcher.py:23: FutureWarning: skimage.measure.label's indexing starts from 0. In future version it will start from 1. To disable this warning, explicitely set the `start_label` parameter to 1.\n"
     ]
    },
    {
     "name": "stdout",
     "output_type": "stream",
     "text": [
      "Dice Score: 0.6256822160436618\n",
      "Best Dice Symmetry Score:  0.6256822160436618\n",
      "Plant/Ara2013-Canon\\ara2013_plant051_rgb.png\n"
     ]
    },
    {
     "name": "stderr",
     "output_type": "stream",
     "text": [
      "c:\\users\\user\\pycharmprojects\\comp9517\\venv\\lib\\site-packages\\skimage\\morphology\\_deprecated.py:5: skimage_deprecation: Function ``watershed`` is deprecated and will be removed in version 0.19. Use ``skimage.segmentation.watershed`` instead.\n",
      "c:\\users\\user\\pycharmprojects\\comp9517\\venv\\lib\\site-packages\\ipykernel_launcher.py:23: FutureWarning: skimage.measure.label's indexing starts from 0. In future version it will start from 1. To disable this warning, explicitely set the `start_label` parameter to 1.\n"
     ]
    },
    {
     "name": "stdout",
     "output_type": "stream",
     "text": [
      "Dice Score: 0.5586440975524117\n",
      "Best Dice Symmetry Score:  0.5586440975524117\n",
      "Plant/Ara2013-Canon\\ara2013_plant052_rgb.png\n"
     ]
    },
    {
     "name": "stderr",
     "output_type": "stream",
     "text": [
      "c:\\users\\user\\pycharmprojects\\comp9517\\venv\\lib\\site-packages\\skimage\\morphology\\_deprecated.py:5: skimage_deprecation: Function ``watershed`` is deprecated and will be removed in version 0.19. Use ``skimage.segmentation.watershed`` instead.\n",
      "c:\\users\\user\\pycharmprojects\\comp9517\\venv\\lib\\site-packages\\ipykernel_launcher.py:23: FutureWarning: skimage.measure.label's indexing starts from 0. In future version it will start from 1. To disable this warning, explicitely set the `start_label` parameter to 1.\n"
     ]
    },
    {
     "name": "stdout",
     "output_type": "stream",
     "text": [
      "Dice Score: 0.582900387399021\n",
      "Best Dice Symmetry Score:  0.582900387399021\n",
      "Plant/Ara2013-Canon\\ara2013_plant053_rgb.png\n"
     ]
    },
    {
     "name": "stderr",
     "output_type": "stream",
     "text": [
      "c:\\users\\user\\pycharmprojects\\comp9517\\venv\\lib\\site-packages\\skimage\\morphology\\_deprecated.py:5: skimage_deprecation: Function ``watershed`` is deprecated and will be removed in version 0.19. Use ``skimage.segmentation.watershed`` instead.\n",
      "c:\\users\\user\\pycharmprojects\\comp9517\\venv\\lib\\site-packages\\ipykernel_launcher.py:23: FutureWarning: skimage.measure.label's indexing starts from 0. In future version it will start from 1. To disable this warning, explicitely set the `start_label` parameter to 1.\n"
     ]
    },
    {
     "name": "stdout",
     "output_type": "stream",
     "text": [
      "Dice Score: 0.564387365498091\n",
      "Best Dice Symmetry Score:  0.564387365498091\n",
      "Plant/Ara2013-Canon\\ara2013_plant054_rgb.png\n"
     ]
    },
    {
     "name": "stderr",
     "output_type": "stream",
     "text": [
      "c:\\users\\user\\pycharmprojects\\comp9517\\venv\\lib\\site-packages\\skimage\\morphology\\_deprecated.py:5: skimage_deprecation: Function ``watershed`` is deprecated and will be removed in version 0.19. Use ``skimage.segmentation.watershed`` instead.\n",
      "c:\\users\\user\\pycharmprojects\\comp9517\\venv\\lib\\site-packages\\ipykernel_launcher.py:23: FutureWarning: skimage.measure.label's indexing starts from 0. In future version it will start from 1. To disable this warning, explicitely set the `start_label` parameter to 1.\n"
     ]
    },
    {
     "name": "stdout",
     "output_type": "stream",
     "text": [
      "Dice Score: 0.509227237493292\n",
      "Best Dice Symmetry Score:  0.509227237493292\n",
      "Plant/Ara2013-Canon\\ara2013_plant055_rgb.png\n"
     ]
    },
    {
     "name": "stderr",
     "output_type": "stream",
     "text": [
      "c:\\users\\user\\pycharmprojects\\comp9517\\venv\\lib\\site-packages\\skimage\\morphology\\_deprecated.py:5: skimage_deprecation: Function ``watershed`` is deprecated and will be removed in version 0.19. Use ``skimage.segmentation.watershed`` instead.\n",
      "c:\\users\\user\\pycharmprojects\\comp9517\\venv\\lib\\site-packages\\ipykernel_launcher.py:23: FutureWarning: skimage.measure.label's indexing starts from 0. In future version it will start from 1. To disable this warning, explicitely set the `start_label` parameter to 1.\n",
      "c:\\users\\user\\pycharmprojects\\comp9517\\venv\\lib\\site-packages\\skimage\\morphology\\_deprecated.py:5: skimage_deprecation: Function ``watershed`` is deprecated and will be removed in version 0.19. Use ``skimage.segmentation.watershed`` instead.\n"
     ]
    },
    {
     "name": "stdout",
     "output_type": "stream",
     "text": [
      "Dice Score: 0.5135789069036474\n",
      "Best Dice Symmetry Score:  0.5135789069036474\n",
      "Plant/Ara2013-Canon\\ara2013_plant056_rgb.png\n",
      "Dice Score: 0.6430203077540979\n",
      "Best Dice Symmetry Score:  0.6430203077540979\n",
      "Plant/Ara2013-Canon\\ara2013_plant057_rgb.png\n"
     ]
    },
    {
     "name": "stderr",
     "output_type": "stream",
     "text": [
      "c:\\users\\user\\pycharmprojects\\comp9517\\venv\\lib\\site-packages\\ipykernel_launcher.py:23: FutureWarning: skimage.measure.label's indexing starts from 0. In future version it will start from 1. To disable this warning, explicitely set the `start_label` parameter to 1.\n",
      "c:\\users\\user\\pycharmprojects\\comp9517\\venv\\lib\\site-packages\\skimage\\morphology\\_deprecated.py:5: skimage_deprecation: Function ``watershed`` is deprecated and will be removed in version 0.19. Use ``skimage.segmentation.watershed`` instead.\n",
      "c:\\users\\user\\pycharmprojects\\comp9517\\venv\\lib\\site-packages\\ipykernel_launcher.py:23: FutureWarning: skimage.measure.label's indexing starts from 0. In future version it will start from 1. To disable this warning, explicitely set the `start_label` parameter to 1.\n",
      "c:\\users\\user\\pycharmprojects\\comp9517\\venv\\lib\\site-packages\\skimage\\morphology\\_deprecated.py:5: skimage_deprecation: Function ``watershed`` is deprecated and will be removed in version 0.19. Use ``skimage.segmentation.watershed`` instead.\n",
      "c:\\users\\user\\pycharmprojects\\comp9517\\venv\\lib\\site-packages\\ipykernel_launcher.py:23: FutureWarning: skimage.measure.label's indexing starts from 0. In future version it will start from 1. To disable this warning, explicitely set the `start_label` parameter to 1.\n"
     ]
    },
    {
     "name": "stdout",
     "output_type": "stream",
     "text": [
      "Dice Score: 0.5845147525336178\n",
      "Best Dice Symmetry Score:  0.5845147525336178\n",
      "Plant/Ara2013-Canon\\ara2013_plant058_rgb.png\n",
      "Dice Score: 0.6257010785824345\n",
      "Best Dice Symmetry Score:  0.6257010785824345\n",
      "Plant/Ara2013-Canon\\ara2013_plant059_rgb.png\n"
     ]
    },
    {
     "name": "stderr",
     "output_type": "stream",
     "text": [
      "c:\\users\\user\\pycharmprojects\\comp9517\\venv\\lib\\site-packages\\skimage\\morphology\\_deprecated.py:5: skimage_deprecation: Function ``watershed`` is deprecated and will be removed in version 0.19. Use ``skimage.segmentation.watershed`` instead.\n",
      "c:\\users\\user\\pycharmprojects\\comp9517\\venv\\lib\\site-packages\\ipykernel_launcher.py:23: FutureWarning: skimage.measure.label's indexing starts from 0. In future version it will start from 1. To disable this warning, explicitely set the `start_label` parameter to 1.\n"
     ]
    },
    {
     "name": "stdout",
     "output_type": "stream",
     "text": [
      "Dice Score: 0.5954068515044125\n",
      "Best Dice Symmetry Score:  0.5954068515044125\n",
      "Plant/Ara2013-Canon\\ara2013_plant060_rgb.png\n"
     ]
    },
    {
     "name": "stderr",
     "output_type": "stream",
     "text": [
      "c:\\users\\user\\pycharmprojects\\comp9517\\venv\\lib\\site-packages\\skimage\\morphology\\_deprecated.py:5: skimage_deprecation: Function ``watershed`` is deprecated and will be removed in version 0.19. Use ``skimage.segmentation.watershed`` instead.\n",
      "c:\\users\\user\\pycharmprojects\\comp9517\\venv\\lib\\site-packages\\ipykernel_launcher.py:23: FutureWarning: skimage.measure.label's indexing starts from 0. In future version it will start from 1. To disable this warning, explicitely set the `start_label` parameter to 1.\n"
     ]
    },
    {
     "name": "stdout",
     "output_type": "stream",
     "text": [
      "Dice Score: 0.5700867698363002\n",
      "Best Dice Symmetry Score:  0.5700867698363002\n",
      "Plant/Ara2013-Canon\\ara2013_plant061_rgb.png\n"
     ]
    },
    {
     "name": "stderr",
     "output_type": "stream",
     "text": [
      "c:\\users\\user\\pycharmprojects\\comp9517\\venv\\lib\\site-packages\\skimage\\morphology\\_deprecated.py:5: skimage_deprecation: Function ``watershed`` is deprecated and will be removed in version 0.19. Use ``skimage.segmentation.watershed`` instead.\n",
      "c:\\users\\user\\pycharmprojects\\comp9517\\venv\\lib\\site-packages\\ipykernel_launcher.py:23: FutureWarning: skimage.measure.label's indexing starts from 0. In future version it will start from 1. To disable this warning, explicitely set the `start_label` parameter to 1.\n",
      "c:\\users\\user\\pycharmprojects\\comp9517\\venv\\lib\\site-packages\\skimage\\morphology\\_deprecated.py:5: skimage_deprecation: Function ``watershed`` is deprecated and will be removed in version 0.19. Use ``skimage.segmentation.watershed`` instead.\n",
      "c:\\users\\user\\pycharmprojects\\comp9517\\venv\\lib\\site-packages\\ipykernel_launcher.py:23: FutureWarning: skimage.measure.label's indexing starts from 0. In future version it will start from 1. To disable this warning, explicitely set the `start_label` parameter to 1.\n"
     ]
    },
    {
     "name": "stdout",
     "output_type": "stream",
     "text": [
      "Dice Score: 0.5884204447011262\n",
      "Best Dice Symmetry Score:  0.5884204447011262\n",
      "Plant/Ara2013-Canon\\ara2013_plant062_rgb.png\n",
      "Dice Score: 0.5898305084745763\n",
      "Best Dice Symmetry Score:  0.5898305084745763\n",
      "Plant/Ara2013-Canon\\ara2013_plant063_rgb.png\n"
     ]
    },
    {
     "name": "stderr",
     "output_type": "stream",
     "text": [
      "c:\\users\\user\\pycharmprojects\\comp9517\\venv\\lib\\site-packages\\skimage\\morphology\\_deprecated.py:5: skimage_deprecation: Function ``watershed`` is deprecated and will be removed in version 0.19. Use ``skimage.segmentation.watershed`` instead.\n",
      "c:\\users\\user\\pycharmprojects\\comp9517\\venv\\lib\\site-packages\\ipykernel_launcher.py:23: FutureWarning: skimage.measure.label's indexing starts from 0. In future version it will start from 1. To disable this warning, explicitely set the `start_label` parameter to 1.\n"
     ]
    },
    {
     "name": "stdout",
     "output_type": "stream",
     "text": [
      "Dice Score: 0.6400471489612495\n",
      "Best Dice Symmetry Score:  0.6400471489612495\n",
      "Plant/Ara2013-Canon\\ara2013_plant064_rgb.png\n"
     ]
    },
    {
     "name": "stderr",
     "output_type": "stream",
     "text": [
      "c:\\users\\user\\pycharmprojects\\comp9517\\venv\\lib\\site-packages\\skimage\\morphology\\_deprecated.py:5: skimage_deprecation: Function ``watershed`` is deprecated and will be removed in version 0.19. Use ``skimage.segmentation.watershed`` instead.\n",
      "c:\\users\\user\\pycharmprojects\\comp9517\\venv\\lib\\site-packages\\ipykernel_launcher.py:23: FutureWarning: skimage.measure.label's indexing starts from 0. In future version it will start from 1. To disable this warning, explicitely set the `start_label` parameter to 1.\n",
      "c:\\users\\user\\pycharmprojects\\comp9517\\venv\\lib\\site-packages\\skimage\\morphology\\_deprecated.py:5: skimage_deprecation: Function ``watershed`` is deprecated and will be removed in version 0.19. Use ``skimage.segmentation.watershed`` instead.\n",
      "c:\\users\\user\\pycharmprojects\\comp9517\\venv\\lib\\site-packages\\ipykernel_launcher.py:23: FutureWarning: skimage.measure.label's indexing starts from 0. In future version it will start from 1. To disable this warning, explicitely set the `start_label` parameter to 1.\n"
     ]
    },
    {
     "name": "stdout",
     "output_type": "stream",
     "text": [
      "Dice Score: 0.5636892520334241\n",
      "Best Dice Symmetry Score:  0.5636892520334241\n",
      "Plant/Ara2013-Canon\\ara2013_plant065_rgb.png\n",
      "Dice Score: 0.6285915327782339\n",
      "Best Dice Symmetry Score:  0.6285915327782339\n",
      "Plant/Ara2013-Canon\\ara2013_plant066_rgb.png\n"
     ]
    },
    {
     "name": "stderr",
     "output_type": "stream",
     "text": [
      "c:\\users\\user\\pycharmprojects\\comp9517\\venv\\lib\\site-packages\\skimage\\morphology\\_deprecated.py:5: skimage_deprecation: Function ``watershed`` is deprecated and will be removed in version 0.19. Use ``skimage.segmentation.watershed`` instead.\n",
      "c:\\users\\user\\pycharmprojects\\comp9517\\venv\\lib\\site-packages\\ipykernel_launcher.py:23: FutureWarning: skimage.measure.label's indexing starts from 0. In future version it will start from 1. To disable this warning, explicitely set the `start_label` parameter to 1.\n"
     ]
    },
    {
     "name": "stdout",
     "output_type": "stream",
     "text": [
      "Dice Score: 0.61085911958647\n",
      "Best Dice Symmetry Score:  0.61085911958647\n",
      "Plant/Ara2013-Canon\\ara2013_plant067_rgb.png\n"
     ]
    },
    {
     "name": "stderr",
     "output_type": "stream",
     "text": [
      "c:\\users\\user\\pycharmprojects\\comp9517\\venv\\lib\\site-packages\\skimage\\morphology\\_deprecated.py:5: skimage_deprecation: Function ``watershed`` is deprecated and will be removed in version 0.19. Use ``skimage.segmentation.watershed`` instead.\n",
      "c:\\users\\user\\pycharmprojects\\comp9517\\venv\\lib\\site-packages\\ipykernel_launcher.py:23: FutureWarning: skimage.measure.label's indexing starts from 0. In future version it will start from 1. To disable this warning, explicitely set the `start_label` parameter to 1.\n"
     ]
    },
    {
     "name": "stdout",
     "output_type": "stream",
     "text": [
      "Dice Score: 0.5190582959641256\n",
      "Best Dice Symmetry Score:  0.5190582959641256\n",
      "Plant/Ara2013-Canon\\ara2013_plant068_rgb.png\n"
     ]
    },
    {
     "name": "stderr",
     "output_type": "stream",
     "text": [
      "c:\\users\\user\\pycharmprojects\\comp9517\\venv\\lib\\site-packages\\skimage\\morphology\\_deprecated.py:5: skimage_deprecation: Function ``watershed`` is deprecated and will be removed in version 0.19. Use ``skimage.segmentation.watershed`` instead.\n",
      "c:\\users\\user\\pycharmprojects\\comp9517\\venv\\lib\\site-packages\\ipykernel_launcher.py:23: FutureWarning: skimage.measure.label's indexing starts from 0. In future version it will start from 1. To disable this warning, explicitely set the `start_label` parameter to 1.\n"
     ]
    },
    {
     "name": "stdout",
     "output_type": "stream",
     "text": [
      "Dice Score: 0.5930518138639143\n",
      "Best Dice Symmetry Score:  0.5930518138639143\n",
      "Plant/Ara2013-Canon\\ara2013_plant069_rgb.png\n"
     ]
    },
    {
     "name": "stderr",
     "output_type": "stream",
     "text": [
      "c:\\users\\user\\pycharmprojects\\comp9517\\venv\\lib\\site-packages\\skimage\\morphology\\_deprecated.py:5: skimage_deprecation: Function ``watershed`` is deprecated and will be removed in version 0.19. Use ``skimage.segmentation.watershed`` instead.\n",
      "c:\\users\\user\\pycharmprojects\\comp9517\\venv\\lib\\site-packages\\ipykernel_launcher.py:23: FutureWarning: skimage.measure.label's indexing starts from 0. In future version it will start from 1. To disable this warning, explicitely set the `start_label` parameter to 1.\n",
      "c:\\users\\user\\pycharmprojects\\comp9517\\venv\\lib\\site-packages\\skimage\\morphology\\_deprecated.py:5: skimage_deprecation: Function ``watershed`` is deprecated and will be removed in version 0.19. Use ``skimage.segmentation.watershed`` instead.\n",
      "c:\\users\\user\\pycharmprojects\\comp9517\\venv\\lib\\site-packages\\ipykernel_launcher.py:23: FutureWarning: skimage.measure.label's indexing starts from 0. In future version it will start from 1. To disable this warning, explicitely set the `start_label` parameter to 1.\n"
     ]
    },
    {
     "name": "stdout",
     "output_type": "stream",
     "text": [
      "Dice Score: 0.5201873130804344\n",
      "Best Dice Symmetry Score:  0.5201873130804344\n",
      "Plant/Ara2013-Canon\\ara2013_plant070_rgb.png\n",
      "Dice Score: 0.5965749578888265\n",
      "Best Dice Symmetry Score:  0.5965749578888265\n",
      "Plant/Ara2013-Canon\\ara2013_plant071_rgb.png\n"
     ]
    },
    {
     "name": "stderr",
     "output_type": "stream",
     "text": [
      "c:\\users\\user\\pycharmprojects\\comp9517\\venv\\lib\\site-packages\\skimage\\morphology\\_deprecated.py:5: skimage_deprecation: Function ``watershed`` is deprecated and will be removed in version 0.19. Use ``skimage.segmentation.watershed`` instead.\n",
      "c:\\users\\user\\pycharmprojects\\comp9517\\venv\\lib\\site-packages\\ipykernel_launcher.py:23: FutureWarning: skimage.measure.label's indexing starts from 0. In future version it will start from 1. To disable this warning, explicitely set the `start_label` parameter to 1.\n"
     ]
    },
    {
     "name": "stdout",
     "output_type": "stream",
     "text": [
      "Dice Score: 0.5584309730005095\n",
      "Best Dice Symmetry Score:  0.5584309730005095\n",
      "Plant/Ara2013-Canon\\ara2013_plant072_rgb.png\n"
     ]
    },
    {
     "name": "stderr",
     "output_type": "stream",
     "text": [
      "c:\\users\\user\\pycharmprojects\\comp9517\\venv\\lib\\site-packages\\skimage\\morphology\\_deprecated.py:5: skimage_deprecation: Function ``watershed`` is deprecated and will be removed in version 0.19. Use ``skimage.segmentation.watershed`` instead.\n",
      "c:\\users\\user\\pycharmprojects\\comp9517\\venv\\lib\\site-packages\\ipykernel_launcher.py:23: FutureWarning: skimage.measure.label's indexing starts from 0. In future version it will start from 1. To disable this warning, explicitely set the `start_label` parameter to 1.\n"
     ]
    },
    {
     "name": "stdout",
     "output_type": "stream",
     "text": [
      "Dice Score: 0.5508903631284916\n",
      "Best Dice Symmetry Score:  0.5508903631284916\n",
      "Plant/Ara2013-Canon\\ara2013_plant073_rgb.png\n"
     ]
    },
    {
     "name": "stderr",
     "output_type": "stream",
     "text": [
      "c:\\users\\user\\pycharmprojects\\comp9517\\venv\\lib\\site-packages\\skimage\\morphology\\_deprecated.py:5: skimage_deprecation: Function ``watershed`` is deprecated and will be removed in version 0.19. Use ``skimage.segmentation.watershed`` instead.\n",
      "c:\\users\\user\\pycharmprojects\\comp9517\\venv\\lib\\site-packages\\ipykernel_launcher.py:23: FutureWarning: skimage.measure.label's indexing starts from 0. In future version it will start from 1. To disable this warning, explicitely set the `start_label` parameter to 1.\n"
     ]
    },
    {
     "name": "stdout",
     "output_type": "stream",
     "text": [
      "Dice Score: 0.6227844765105093\n",
      "Best Dice Symmetry Score:  0.6227844765105093\n",
      "Plant/Ara2013-Canon\\ara2013_plant074_rgb.png\n"
     ]
    },
    {
     "name": "stderr",
     "output_type": "stream",
     "text": [
      "c:\\users\\user\\pycharmprojects\\comp9517\\venv\\lib\\site-packages\\skimage\\morphology\\_deprecated.py:5: skimage_deprecation: Function ``watershed`` is deprecated and will be removed in version 0.19. Use ``skimage.segmentation.watershed`` instead.\n",
      "c:\\users\\user\\pycharmprojects\\comp9517\\venv\\lib\\site-packages\\ipykernel_launcher.py:23: FutureWarning: skimage.measure.label's indexing starts from 0. In future version it will start from 1. To disable this warning, explicitely set the `start_label` parameter to 1.\n"
     ]
    },
    {
     "name": "stdout",
     "output_type": "stream",
     "text": [
      "Dice Score: 0.497720369600665\n",
      "Best Dice Symmetry Score:  0.497720369600665\n",
      "Plant/Ara2013-Canon\\ara2013_plant075_rgb.png\n"
     ]
    },
    {
     "name": "stderr",
     "output_type": "stream",
     "text": [
      "c:\\users\\user\\pycharmprojects\\comp9517\\venv\\lib\\site-packages\\skimage\\morphology\\_deprecated.py:5: skimage_deprecation: Function ``watershed`` is deprecated and will be removed in version 0.19. Use ``skimage.segmentation.watershed`` instead.\n",
      "c:\\users\\user\\pycharmprojects\\comp9517\\venv\\lib\\site-packages\\ipykernel_launcher.py:23: FutureWarning: skimage.measure.label's indexing starts from 0. In future version it will start from 1. To disable this warning, explicitely set the `start_label` parameter to 1.\n"
     ]
    },
    {
     "name": "stdout",
     "output_type": "stream",
     "text": [
      "Dice Score: 0.5889002105835202\n",
      "Best Dice Symmetry Score:  0.5889002105835202\n",
      "Plant/Ara2013-Canon\\ara2013_plant076_rgb.png\n"
     ]
    },
    {
     "name": "stderr",
     "output_type": "stream",
     "text": [
      "c:\\users\\user\\pycharmprojects\\comp9517\\venv\\lib\\site-packages\\skimage\\morphology\\_deprecated.py:5: skimage_deprecation: Function ``watershed`` is deprecated and will be removed in version 0.19. Use ``skimage.segmentation.watershed`` instead.\n",
      "c:\\users\\user\\pycharmprojects\\comp9517\\venv\\lib\\site-packages\\ipykernel_launcher.py:23: FutureWarning: skimage.measure.label's indexing starts from 0. In future version it will start from 1. To disable this warning, explicitely set the `start_label` parameter to 1.\n"
     ]
    },
    {
     "name": "stdout",
     "output_type": "stream",
     "text": [
      "Dice Score: 0.4250715876551066\n",
      "Best Dice Symmetry Score:  0.4250715876551066\n",
      "Plant/Ara2013-Canon\\ara2013_plant077_rgb.png\n"
     ]
    },
    {
     "name": "stderr",
     "output_type": "stream",
     "text": [
      "c:\\users\\user\\pycharmprojects\\comp9517\\venv\\lib\\site-packages\\skimage\\morphology\\_deprecated.py:5: skimage_deprecation: Function ``watershed`` is deprecated and will be removed in version 0.19. Use ``skimage.segmentation.watershed`` instead.\n",
      "c:\\users\\user\\pycharmprojects\\comp9517\\venv\\lib\\site-packages\\ipykernel_launcher.py:23: FutureWarning: skimage.measure.label's indexing starts from 0. In future version it will start from 1. To disable this warning, explicitely set the `start_label` parameter to 1.\n",
      "c:\\users\\user\\pycharmprojects\\comp9517\\venv\\lib\\site-packages\\skimage\\morphology\\_deprecated.py:5: skimage_deprecation: Function ``watershed`` is deprecated and will be removed in version 0.19. Use ``skimage.segmentation.watershed`` instead.\n",
      "c:\\users\\user\\pycharmprojects\\comp9517\\venv\\lib\\site-packages\\ipykernel_launcher.py:23: FutureWarning: skimage.measure.label's indexing starts from 0. In future version it will start from 1. To disable this warning, explicitely set the `start_label` parameter to 1.\n"
     ]
    },
    {
     "name": "stdout",
     "output_type": "stream",
     "text": [
      "Dice Score: 0.5973146964151859\n",
      "Best Dice Symmetry Score:  0.5973146964151859\n",
      "Plant/Ara2013-Canon\\ara2013_plant078_rgb.png\n",
      "Dice Score: 0.5426536840575498\n",
      "Best Dice Symmetry Score:  0.5426536840575498\n",
      "Plant/Ara2013-Canon\\ara2013_plant079_rgb.png\n"
     ]
    },
    {
     "name": "stderr",
     "output_type": "stream",
     "text": [
      "c:\\users\\user\\pycharmprojects\\comp9517\\venv\\lib\\site-packages\\skimage\\morphology\\_deprecated.py:5: skimage_deprecation: Function ``watershed`` is deprecated and will be removed in version 0.19. Use ``skimage.segmentation.watershed`` instead.\n",
      "c:\\users\\user\\pycharmprojects\\comp9517\\venv\\lib\\site-packages\\ipykernel_launcher.py:23: FutureWarning: skimage.measure.label's indexing starts from 0. In future version it will start from 1. To disable this warning, explicitely set the `start_label` parameter to 1.\n"
     ]
    },
    {
     "name": "stdout",
     "output_type": "stream",
     "text": [
      "Dice Score: 0.5647235566001733\n",
      "Best Dice Symmetry Score:  0.5647235566001733\n",
      "Plant/Ara2013-Canon\\ara2013_plant080_rgb.png\n"
     ]
    },
    {
     "name": "stderr",
     "output_type": "stream",
     "text": [
      "c:\\users\\user\\pycharmprojects\\comp9517\\venv\\lib\\site-packages\\skimage\\morphology\\_deprecated.py:5: skimage_deprecation: Function ``watershed`` is deprecated and will be removed in version 0.19. Use ``skimage.segmentation.watershed`` instead.\n",
      "c:\\users\\user\\pycharmprojects\\comp9517\\venv\\lib\\site-packages\\ipykernel_launcher.py:23: FutureWarning: skimage.measure.label's indexing starts from 0. In future version it will start from 1. To disable this warning, explicitely set the `start_label` parameter to 1.\n"
     ]
    },
    {
     "name": "stdout",
     "output_type": "stream",
     "text": [
      "Dice Score: 0.6481498513136515\n",
      "Best Dice Symmetry Score:  0.6481498513136515\n",
      "Plant/Ara2013-Canon\\ara2013_plant081_rgb.png\n"
     ]
    },
    {
     "name": "stderr",
     "output_type": "stream",
     "text": [
      "c:\\users\\user\\pycharmprojects\\comp9517\\venv\\lib\\site-packages\\skimage\\morphology\\_deprecated.py:5: skimage_deprecation: Function ``watershed`` is deprecated and will be removed in version 0.19. Use ``skimage.segmentation.watershed`` instead.\n",
      "c:\\users\\user\\pycharmprojects\\comp9517\\venv\\lib\\site-packages\\ipykernel_launcher.py:23: FutureWarning: skimage.measure.label's indexing starts from 0. In future version it will start from 1. To disable this warning, explicitely set the `start_label` parameter to 1.\n",
      "c:\\users\\user\\pycharmprojects\\comp9517\\venv\\lib\\site-packages\\skimage\\morphology\\_deprecated.py:5: skimage_deprecation: Function ``watershed`` is deprecated and will be removed in version 0.19. Use ``skimage.segmentation.watershed`` instead.\n",
      "c:\\users\\user\\pycharmprojects\\comp9517\\venv\\lib\\site-packages\\ipykernel_launcher.py:23: FutureWarning: skimage.measure.label's indexing starts from 0. In future version it will start from 1. To disable this warning, explicitely set the `start_label` parameter to 1.\n"
     ]
    },
    {
     "name": "stdout",
     "output_type": "stream",
     "text": [
      "Dice Score: 0.5354136882047533\n",
      "Best Dice Symmetry Score:  0.5354136882047533\n",
      "Plant/Ara2013-Canon\\ara2013_plant082_rgb.png\n",
      "Dice Score: 0.6393151685979748\n",
      "Best Dice Symmetry Score:  0.6393151685979748\n",
      "Plant/Ara2013-Canon\\ara2013_plant083_rgb.png\n"
     ]
    },
    {
     "name": "stderr",
     "output_type": "stream",
     "text": [
      "c:\\users\\user\\pycharmprojects\\comp9517\\venv\\lib\\site-packages\\skimage\\morphology\\_deprecated.py:5: skimage_deprecation: Function ``watershed`` is deprecated and will be removed in version 0.19. Use ``skimage.segmentation.watershed`` instead.\n",
      "c:\\users\\user\\pycharmprojects\\comp9517\\venv\\lib\\site-packages\\ipykernel_launcher.py:23: FutureWarning: skimage.measure.label's indexing starts from 0. In future version it will start from 1. To disable this warning, explicitely set the `start_label` parameter to 1.\n"
     ]
    },
    {
     "name": "stdout",
     "output_type": "stream",
     "text": [
      "Dice Score: 0.6249801134013402\n",
      "Best Dice Symmetry Score:  0.6249801134013402\n",
      "Plant/Ara2013-Canon\\ara2013_plant084_rgb.png\n"
     ]
    },
    {
     "name": "stderr",
     "output_type": "stream",
     "text": [
      "c:\\users\\user\\pycharmprojects\\comp9517\\venv\\lib\\site-packages\\skimage\\morphology\\_deprecated.py:5: skimage_deprecation: Function ``watershed`` is deprecated and will be removed in version 0.19. Use ``skimage.segmentation.watershed`` instead.\n",
      "c:\\users\\user\\pycharmprojects\\comp9517\\venv\\lib\\site-packages\\ipykernel_launcher.py:23: FutureWarning: skimage.measure.label's indexing starts from 0. In future version it will start from 1. To disable this warning, explicitely set the `start_label` parameter to 1.\n"
     ]
    },
    {
     "name": "stdout",
     "output_type": "stream",
     "text": [
      "Dice Score: 0.41817300367061433\n",
      "Best Dice Symmetry Score:  0.41817300367061433\n",
      "Plant/Ara2013-Canon\\ara2013_plant085_rgb.png\n"
     ]
    },
    {
     "name": "stderr",
     "output_type": "stream",
     "text": [
      "c:\\users\\user\\pycharmprojects\\comp9517\\venv\\lib\\site-packages\\skimage\\morphology\\_deprecated.py:5: skimage_deprecation: Function ``watershed`` is deprecated and will be removed in version 0.19. Use ``skimage.segmentation.watershed`` instead.\n",
      "c:\\users\\user\\pycharmprojects\\comp9517\\venv\\lib\\site-packages\\ipykernel_launcher.py:23: FutureWarning: skimage.measure.label's indexing starts from 0. In future version it will start from 1. To disable this warning, explicitely set the `start_label` parameter to 1.\n"
     ]
    },
    {
     "name": "stdout",
     "output_type": "stream",
     "text": [
      "Dice Score: 0.6524362965735728\n",
      "Best Dice Symmetry Score:  0.6524362965735728\n",
      "Plant/Ara2013-Canon\\ara2013_plant086_rgb.png\n"
     ]
    },
    {
     "name": "stderr",
     "output_type": "stream",
     "text": [
      "c:\\users\\user\\pycharmprojects\\comp9517\\venv\\lib\\site-packages\\skimage\\morphology\\_deprecated.py:5: skimage_deprecation: Function ``watershed`` is deprecated and will be removed in version 0.19. Use ``skimage.segmentation.watershed`` instead.\n",
      "c:\\users\\user\\pycharmprojects\\comp9517\\venv\\lib\\site-packages\\ipykernel_launcher.py:23: FutureWarning: skimage.measure.label's indexing starts from 0. In future version it will start from 1. To disable this warning, explicitely set the `start_label` parameter to 1.\n"
     ]
    },
    {
     "name": "stdout",
     "output_type": "stream",
     "text": [
      "Dice Score: 0.6002768620399309\n",
      "Best Dice Symmetry Score:  0.6002768620399309\n",
      "Plant/Ara2013-Canon\\ara2013_plant087_rgb.png\n"
     ]
    },
    {
     "name": "stderr",
     "output_type": "stream",
     "text": [
      "c:\\users\\user\\pycharmprojects\\comp9517\\venv\\lib\\site-packages\\skimage\\morphology\\_deprecated.py:5: skimage_deprecation: Function ``watershed`` is deprecated and will be removed in version 0.19. Use ``skimage.segmentation.watershed`` instead.\n",
      "c:\\users\\user\\pycharmprojects\\comp9517\\venv\\lib\\site-packages\\ipykernel_launcher.py:23: FutureWarning: skimage.measure.label's indexing starts from 0. In future version it will start from 1. To disable this warning, explicitely set the `start_label` parameter to 1.\n"
     ]
    },
    {
     "name": "stdout",
     "output_type": "stream",
     "text": [
      "Dice Score: 0.5911933134628916\n",
      "Best Dice Symmetry Score:  0.5911933134628916\n",
      "Plant/Ara2013-Canon\\ara2013_plant088_rgb.png\n"
     ]
    },
    {
     "name": "stderr",
     "output_type": "stream",
     "text": [
      "c:\\users\\user\\pycharmprojects\\comp9517\\venv\\lib\\site-packages\\skimage\\morphology\\_deprecated.py:5: skimage_deprecation: Function ``watershed`` is deprecated and will be removed in version 0.19. Use ``skimage.segmentation.watershed`` instead.\n",
      "c:\\users\\user\\pycharmprojects\\comp9517\\venv\\lib\\site-packages\\ipykernel_launcher.py:23: FutureWarning: skimage.measure.label's indexing starts from 0. In future version it will start from 1. To disable this warning, explicitely set the `start_label` parameter to 1.\n"
     ]
    },
    {
     "name": "stdout",
     "output_type": "stream",
     "text": [
      "Dice Score: 0.5737413809388873\n",
      "Best Dice Symmetry Score:  0.5737413809388873\n",
      "Plant/Ara2013-Canon\\ara2013_plant089_rgb.png\n"
     ]
    },
    {
     "name": "stderr",
     "output_type": "stream",
     "text": [
      "c:\\users\\user\\pycharmprojects\\comp9517\\venv\\lib\\site-packages\\skimage\\morphology\\_deprecated.py:5: skimage_deprecation: Function ``watershed`` is deprecated and will be removed in version 0.19. Use ``skimage.segmentation.watershed`` instead.\n",
      "c:\\users\\user\\pycharmprojects\\comp9517\\venv\\lib\\site-packages\\ipykernel_launcher.py:23: FutureWarning: skimage.measure.label's indexing starts from 0. In future version it will start from 1. To disable this warning, explicitely set the `start_label` parameter to 1.\n",
      "c:\\users\\user\\pycharmprojects\\comp9517\\venv\\lib\\site-packages\\skimage\\morphology\\_deprecated.py:5: skimage_deprecation: Function ``watershed`` is deprecated and will be removed in version 0.19. Use ``skimage.segmentation.watershed`` instead.\n",
      "c:\\users\\user\\pycharmprojects\\comp9517\\venv\\lib\\site-packages\\ipykernel_launcher.py:23: FutureWarning: skimage.measure.label's indexing starts from 0. In future version it will start from 1. To disable this warning, explicitely set the `start_label` parameter to 1.\n"
     ]
    },
    {
     "name": "stdout",
     "output_type": "stream",
     "text": [
      "Dice Score: 0.5573261211213041\n",
      "Best Dice Symmetry Score:  0.5573261211213041\n",
      "Plant/Ara2013-Canon\\ara2013_plant090_rgb.png\n",
      "Dice Score: 0.40583027163765584\n",
      "Best Dice Symmetry Score:  0.40583027163765584\n",
      "Plant/Ara2013-Canon\\ara2013_plant091_rgb.png\n"
     ]
    },
    {
     "name": "stderr",
     "output_type": "stream",
     "text": [
      "c:\\users\\user\\pycharmprojects\\comp9517\\venv\\lib\\site-packages\\skimage\\morphology\\_deprecated.py:5: skimage_deprecation: Function ``watershed`` is deprecated and will be removed in version 0.19. Use ``skimage.segmentation.watershed`` instead.\n",
      "c:\\users\\user\\pycharmprojects\\comp9517\\venv\\lib\\site-packages\\ipykernel_launcher.py:23: FutureWarning: skimage.measure.label's indexing starts from 0. In future version it will start from 1. To disable this warning, explicitely set the `start_label` parameter to 1.\n"
     ]
    },
    {
     "name": "stdout",
     "output_type": "stream",
     "text": [
      "Dice Score: 0.6306862569769303\n",
      "Best Dice Symmetry Score:  0.6306862569769303\n",
      "Plant/Ara2013-Canon\\ara2013_plant092_rgb.png\n"
     ]
    },
    {
     "name": "stderr",
     "output_type": "stream",
     "text": [
      "c:\\users\\user\\pycharmprojects\\comp9517\\venv\\lib\\site-packages\\skimage\\morphology\\_deprecated.py:5: skimage_deprecation: Function ``watershed`` is deprecated and will be removed in version 0.19. Use ``skimage.segmentation.watershed`` instead.\n",
      "c:\\users\\user\\pycharmprojects\\comp9517\\venv\\lib\\site-packages\\ipykernel_launcher.py:23: FutureWarning: skimage.measure.label's indexing starts from 0. In future version it will start from 1. To disable this warning, explicitely set the `start_label` parameter to 1.\n"
     ]
    },
    {
     "name": "stdout",
     "output_type": "stream",
     "text": [
      "Dice Score: 0.2724486227397091\n",
      "Best Dice Symmetry Score:  0.2724486227397091\n",
      "Plant/Ara2013-Canon\\ara2013_plant093_rgb.png\n"
     ]
    },
    {
     "name": "stderr",
     "output_type": "stream",
     "text": [
      "c:\\users\\user\\pycharmprojects\\comp9517\\venv\\lib\\site-packages\\skimage\\morphology\\_deprecated.py:5: skimage_deprecation: Function ``watershed`` is deprecated and will be removed in version 0.19. Use ``skimage.segmentation.watershed`` instead.\n",
      "c:\\users\\user\\pycharmprojects\\comp9517\\venv\\lib\\site-packages\\ipykernel_launcher.py:23: FutureWarning: skimage.measure.label's indexing starts from 0. In future version it will start from 1. To disable this warning, explicitely set the `start_label` parameter to 1.\n",
      "c:\\users\\user\\pycharmprojects\\comp9517\\venv\\lib\\site-packages\\skimage\\morphology\\_deprecated.py:5: skimage_deprecation: Function ``watershed`` is deprecated and will be removed in version 0.19. Use ``skimage.segmentation.watershed`` instead.\n",
      "c:\\users\\user\\pycharmprojects\\comp9517\\venv\\lib\\site-packages\\ipykernel_launcher.py:23: FutureWarning: skimage.measure.label's indexing starts from 0. In future version it will start from 1. To disable this warning, explicitely set the `start_label` parameter to 1.\n"
     ]
    },
    {
     "name": "stdout",
     "output_type": "stream",
     "text": [
      "Dice Score: 0.6036669596885595\n",
      "Best Dice Symmetry Score:  0.6036669596885595\n",
      "Plant/Ara2013-Canon\\ara2013_plant094_rgb.png\n",
      "Dice Score: 0.6019620667102682\n",
      "Best Dice Symmetry Score:  0.6019620667102682\n",
      "Plant/Ara2013-Canon\\ara2013_plant095_rgb.png\n"
     ]
    },
    {
     "name": "stderr",
     "output_type": "stream",
     "text": [
      "c:\\users\\user\\pycharmprojects\\comp9517\\venv\\lib\\site-packages\\skimage\\morphology\\_deprecated.py:5: skimage_deprecation: Function ``watershed`` is deprecated and will be removed in version 0.19. Use ``skimage.segmentation.watershed`` instead.\n",
      "c:\\users\\user\\pycharmprojects\\comp9517\\venv\\lib\\site-packages\\ipykernel_launcher.py:23: FutureWarning: skimage.measure.label's indexing starts from 0. In future version it will start from 1. To disable this warning, explicitely set the `start_label` parameter to 1.\n"
     ]
    },
    {
     "name": "stdout",
     "output_type": "stream",
     "text": [
      "Dice Score: 0.5635006435006435\n",
      "Best Dice Symmetry Score:  0.5635006435006435\n",
      "Plant/Ara2013-Canon\\ara2013_plant096_rgb.png\n"
     ]
    },
    {
     "name": "stderr",
     "output_type": "stream",
     "text": [
      "c:\\users\\user\\pycharmprojects\\comp9517\\venv\\lib\\site-packages\\skimage\\morphology\\_deprecated.py:5: skimage_deprecation: Function ``watershed`` is deprecated and will be removed in version 0.19. Use ``skimage.segmentation.watershed`` instead.\n",
      "c:\\users\\user\\pycharmprojects\\comp9517\\venv\\lib\\site-packages\\ipykernel_launcher.py:23: FutureWarning: skimage.measure.label's indexing starts from 0. In future version it will start from 1. To disable this warning, explicitely set the `start_label` parameter to 1.\n"
     ]
    },
    {
     "name": "stdout",
     "output_type": "stream",
     "text": [
      "Dice Score: 0.5437298118943569\n",
      "Best Dice Symmetry Score:  0.5437298118943569\n",
      "Plant/Ara2013-Canon\\ara2013_plant097_rgb.png\n"
     ]
    },
    {
     "name": "stderr",
     "output_type": "stream",
     "text": [
      "c:\\users\\user\\pycharmprojects\\comp9517\\venv\\lib\\site-packages\\skimage\\morphology\\_deprecated.py:5: skimage_deprecation: Function ``watershed`` is deprecated and will be removed in version 0.19. Use ``skimage.segmentation.watershed`` instead.\n",
      "c:\\users\\user\\pycharmprojects\\comp9517\\venv\\lib\\site-packages\\ipykernel_launcher.py:23: FutureWarning: skimage.measure.label's indexing starts from 0. In future version it will start from 1. To disable this warning, explicitely set the `start_label` parameter to 1.\n",
      "c:\\users\\user\\pycharmprojects\\comp9517\\venv\\lib\\site-packages\\skimage\\morphology\\_deprecated.py:5: skimage_deprecation: Function ``watershed`` is deprecated and will be removed in version 0.19. Use ``skimage.segmentation.watershed`` instead.\n"
     ]
    },
    {
     "name": "stdout",
     "output_type": "stream",
     "text": [
      "Dice Score: 0.5371902437123006\n",
      "Best Dice Symmetry Score:  0.5371902437123006\n",
      "Plant/Ara2013-Canon\\ara2013_plant098_rgb.png\n",
      "Dice Score: 0.5701371101401236\n",
      "Best Dice Symmetry Score:  0.5701371101401236\n",
      "Plant/Ara2013-Canon\\ara2013_plant099_rgb.png\n"
     ]
    },
    {
     "name": "stderr",
     "output_type": "stream",
     "text": [
      "c:\\users\\user\\pycharmprojects\\comp9517\\venv\\lib\\site-packages\\ipykernel_launcher.py:23: FutureWarning: skimage.measure.label's indexing starts from 0. In future version it will start from 1. To disable this warning, explicitely set the `start_label` parameter to 1.\n",
      "c:\\users\\user\\pycharmprojects\\comp9517\\venv\\lib\\site-packages\\skimage\\morphology\\_deprecated.py:5: skimage_deprecation: Function ``watershed`` is deprecated and will be removed in version 0.19. Use ``skimage.segmentation.watershed`` instead.\n",
      "c:\\users\\user\\pycharmprojects\\comp9517\\venv\\lib\\site-packages\\ipykernel_launcher.py:23: FutureWarning: skimage.measure.label's indexing starts from 0. In future version it will start from 1. To disable this warning, explicitely set the `start_label` parameter to 1.\n"
     ]
    },
    {
     "name": "stdout",
     "output_type": "stream",
     "text": [
      "Dice Score: 0.6113201812444761\n",
      "Best Dice Symmetry Score:  0.6113201812444761\n",
      "Plant/Ara2013-Canon\\ara2013_plant100_rgb.png\n"
     ]
    },
    {
     "name": "stderr",
     "output_type": "stream",
     "text": [
      "c:\\users\\user\\pycharmprojects\\comp9517\\venv\\lib\\site-packages\\skimage\\morphology\\_deprecated.py:5: skimage_deprecation: Function ``watershed`` is deprecated and will be removed in version 0.19. Use ``skimage.segmentation.watershed`` instead.\n",
      "c:\\users\\user\\pycharmprojects\\comp9517\\venv\\lib\\site-packages\\ipykernel_launcher.py:23: FutureWarning: skimage.measure.label's indexing starts from 0. In future version it will start from 1. To disable this warning, explicitely set the `start_label` parameter to 1.\n"
     ]
    },
    {
     "name": "stdout",
     "output_type": "stream",
     "text": [
      "Dice Score: 0.5523753153229329\n",
      "Best Dice Symmetry Score:  0.5523753153229329\n",
      "Plant/Ara2013-Canon\\ara2013_plant101_rgb.png\n"
     ]
    },
    {
     "name": "stderr",
     "output_type": "stream",
     "text": [
      "c:\\users\\user\\pycharmprojects\\comp9517\\venv\\lib\\site-packages\\skimage\\morphology\\_deprecated.py:5: skimage_deprecation: Function ``watershed`` is deprecated and will be removed in version 0.19. Use ``skimage.segmentation.watershed`` instead.\n",
      "c:\\users\\user\\pycharmprojects\\comp9517\\venv\\lib\\site-packages\\ipykernel_launcher.py:23: FutureWarning: skimage.measure.label's indexing starts from 0. In future version it will start from 1. To disable this warning, explicitely set the `start_label` parameter to 1.\n",
      "c:\\users\\user\\pycharmprojects\\comp9517\\venv\\lib\\site-packages\\skimage\\morphology\\_deprecated.py:5: skimage_deprecation: Function ``watershed`` is deprecated and will be removed in version 0.19. Use ``skimage.segmentation.watershed`` instead.\n",
      "c:\\users\\user\\pycharmprojects\\comp9517\\venv\\lib\\site-packages\\ipykernel_launcher.py:23: FutureWarning: skimage.measure.label's indexing starts from 0. In future version it will start from 1. To disable this warning, explicitely set the `start_label` parameter to 1.\n"
     ]
    },
    {
     "name": "stdout",
     "output_type": "stream",
     "text": [
      "Dice Score: 0.6658879577922291\n",
      "Best Dice Symmetry Score:  0.6658879577922291\n",
      "Plant/Ara2013-Canon\\ara2013_plant102_rgb.png\n",
      "Dice Score: 0.4924802447106806\n",
      "Best Dice Symmetry Score:  0.4924802447106806\n",
      "Plant/Ara2013-Canon\\ara2013_plant103_rgb.png\n"
     ]
    },
    {
     "name": "stderr",
     "output_type": "stream",
     "text": [
      "c:\\users\\user\\pycharmprojects\\comp9517\\venv\\lib\\site-packages\\skimage\\morphology\\_deprecated.py:5: skimage_deprecation: Function ``watershed`` is deprecated and will be removed in version 0.19. Use ``skimage.segmentation.watershed`` instead.\n",
      "c:\\users\\user\\pycharmprojects\\comp9517\\venv\\lib\\site-packages\\ipykernel_launcher.py:23: FutureWarning: skimage.measure.label's indexing starts from 0. In future version it will start from 1. To disable this warning, explicitely set the `start_label` parameter to 1.\n"
     ]
    },
    {
     "name": "stdout",
     "output_type": "stream",
     "text": [
      "Dice Score: 0.4624873836492094\n",
      "Best Dice Symmetry Score:  0.4624873836492094\n",
      "Plant/Ara2013-Canon\\ara2013_plant104_rgb.png\n"
     ]
    },
    {
     "name": "stderr",
     "output_type": "stream",
     "text": [
      "c:\\users\\user\\pycharmprojects\\comp9517\\venv\\lib\\site-packages\\skimage\\morphology\\_deprecated.py:5: skimage_deprecation: Function ``watershed`` is deprecated and will be removed in version 0.19. Use ``skimage.segmentation.watershed`` instead.\n",
      "c:\\users\\user\\pycharmprojects\\comp9517\\venv\\lib\\site-packages\\ipykernel_launcher.py:23: FutureWarning: skimage.measure.label's indexing starts from 0. In future version it will start from 1. To disable this warning, explicitely set the `start_label` parameter to 1.\n"
     ]
    },
    {
     "name": "stdout",
     "output_type": "stream",
     "text": [
      "Dice Score: 0.5728876651643569\n",
      "Best Dice Symmetry Score:  0.5728876651643569\n",
      "Plant/Ara2013-Canon\\ara2013_plant105_rgb.png\n"
     ]
    },
    {
     "name": "stderr",
     "output_type": "stream",
     "text": [
      "c:\\users\\user\\pycharmprojects\\comp9517\\venv\\lib\\site-packages\\skimage\\morphology\\_deprecated.py:5: skimage_deprecation: Function ``watershed`` is deprecated and will be removed in version 0.19. Use ``skimage.segmentation.watershed`` instead.\n",
      "c:\\users\\user\\pycharmprojects\\comp9517\\venv\\lib\\site-packages\\ipykernel_launcher.py:23: FutureWarning: skimage.measure.label's indexing starts from 0. In future version it will start from 1. To disable this warning, explicitely set the `start_label` parameter to 1.\n"
     ]
    },
    {
     "name": "stdout",
     "output_type": "stream",
     "text": [
      "Dice Score: 0.6175536361103371\n",
      "Best Dice Symmetry Score:  0.6175536361103371\n",
      "Plant/Ara2013-Canon\\ara2013_plant106_rgb.png\n"
     ]
    },
    {
     "name": "stderr",
     "output_type": "stream",
     "text": [
      "c:\\users\\user\\pycharmprojects\\comp9517\\venv\\lib\\site-packages\\skimage\\morphology\\_deprecated.py:5: skimage_deprecation: Function ``watershed`` is deprecated and will be removed in version 0.19. Use ``skimage.segmentation.watershed`` instead.\n",
      "c:\\users\\user\\pycharmprojects\\comp9517\\venv\\lib\\site-packages\\ipykernel_launcher.py:23: FutureWarning: skimage.measure.label's indexing starts from 0. In future version it will start from 1. To disable this warning, explicitely set the `start_label` parameter to 1.\n"
     ]
    },
    {
     "name": "stdout",
     "output_type": "stream",
     "text": [
      "Dice Score: 0.5553149692233815\n",
      "Best Dice Symmetry Score:  0.5553149692233815\n",
      "Plant/Ara2013-Canon\\ara2013_plant107_rgb.png\n"
     ]
    },
    {
     "name": "stderr",
     "output_type": "stream",
     "text": [
      "c:\\users\\user\\pycharmprojects\\comp9517\\venv\\lib\\site-packages\\skimage\\morphology\\_deprecated.py:5: skimage_deprecation: Function ``watershed`` is deprecated and will be removed in version 0.19. Use ``skimage.segmentation.watershed`` instead.\n",
      "c:\\users\\user\\pycharmprojects\\comp9517\\venv\\lib\\site-packages\\ipykernel_launcher.py:23: FutureWarning: skimage.measure.label's indexing starts from 0. In future version it will start from 1. To disable this warning, explicitely set the `start_label` parameter to 1.\n"
     ]
    },
    {
     "name": "stdout",
     "output_type": "stream",
     "text": [
      "Dice Score: 0.6537876452866958\n",
      "Best Dice Symmetry Score:  0.6537876452866958\n",
      "Plant/Ara2013-Canon\\ara2013_plant108_rgb.png\n"
     ]
    },
    {
     "name": "stderr",
     "output_type": "stream",
     "text": [
      "c:\\users\\user\\pycharmprojects\\comp9517\\venv\\lib\\site-packages\\skimage\\morphology\\_deprecated.py:5: skimage_deprecation: Function ``watershed`` is deprecated and will be removed in version 0.19. Use ``skimage.segmentation.watershed`` instead.\n",
      "c:\\users\\user\\pycharmprojects\\comp9517\\venv\\lib\\site-packages\\ipykernel_launcher.py:23: FutureWarning: skimage.measure.label's indexing starts from 0. In future version it will start from 1. To disable this warning, explicitely set the `start_label` parameter to 1.\n"
     ]
    },
    {
     "name": "stdout",
     "output_type": "stream",
     "text": [
      "Dice Score: 0.6150068288106832\n",
      "Best Dice Symmetry Score:  0.6150068288106832\n",
      "Plant/Ara2013-Canon\\ara2013_plant109_rgb.png\n"
     ]
    },
    {
     "name": "stderr",
     "output_type": "stream",
     "text": [
      "c:\\users\\user\\pycharmprojects\\comp9517\\venv\\lib\\site-packages\\skimage\\morphology\\_deprecated.py:5: skimage_deprecation: Function ``watershed`` is deprecated and will be removed in version 0.19. Use ``skimage.segmentation.watershed`` instead.\n",
      "c:\\users\\user\\pycharmprojects\\comp9517\\venv\\lib\\site-packages\\ipykernel_launcher.py:23: FutureWarning: skimage.measure.label's indexing starts from 0. In future version it will start from 1. To disable this warning, explicitely set the `start_label` parameter to 1.\n"
     ]
    },
    {
     "name": "stdout",
     "output_type": "stream",
     "text": [
      "Dice Score: 0.5676389813581891\n",
      "Best Dice Symmetry Score:  0.5676389813581891\n",
      "Plant/Ara2013-Canon\\ara2013_plant110_rgb.png\n",
      "Dice Score: 0.561789687761694\n",
      "Best Dice Symmetry Score:  0.561789687761694\n",
      "Plant/Ara2013-Canon\\ara2013_plant111_rgb.png\n"
     ]
    },
    {
     "name": "stderr",
     "output_type": "stream",
     "text": [
      "c:\\users\\user\\pycharmprojects\\comp9517\\venv\\lib\\site-packages\\skimage\\morphology\\_deprecated.py:5: skimage_deprecation: Function ``watershed`` is deprecated and will be removed in version 0.19. Use ``skimage.segmentation.watershed`` instead.\n",
      "c:\\users\\user\\pycharmprojects\\comp9517\\venv\\lib\\site-packages\\ipykernel_launcher.py:23: FutureWarning: skimage.measure.label's indexing starts from 0. In future version it will start from 1. To disable this warning, explicitely set the `start_label` parameter to 1.\n",
      "c:\\users\\user\\pycharmprojects\\comp9517\\venv\\lib\\site-packages\\skimage\\morphology\\_deprecated.py:5: skimage_deprecation: Function ``watershed`` is deprecated and will be removed in version 0.19. Use ``skimage.segmentation.watershed`` instead.\n",
      "c:\\users\\user\\pycharmprojects\\comp9517\\venv\\lib\\site-packages\\ipykernel_launcher.py:23: FutureWarning: skimage.measure.label's indexing starts from 0. In future version it will start from 1. To disable this warning, explicitely set the `start_label` parameter to 1.\n"
     ]
    },
    {
     "name": "stdout",
     "output_type": "stream",
     "text": [
      "Dice Score: 0.5288574097503872\n",
      "Best Dice Symmetry Score:  0.5288574097503872\n",
      "Plant/Ara2013-Canon\\ara2013_plant112_rgb.png\n"
     ]
    },
    {
     "name": "stderr",
     "output_type": "stream",
     "text": [
      "c:\\users\\user\\pycharmprojects\\comp9517\\venv\\lib\\site-packages\\skimage\\morphology\\_deprecated.py:5: skimage_deprecation: Function ``watershed`` is deprecated and will be removed in version 0.19. Use ``skimage.segmentation.watershed`` instead.\n",
      "c:\\users\\user\\pycharmprojects\\comp9517\\venv\\lib\\site-packages\\ipykernel_launcher.py:23: FutureWarning: skimage.measure.label's indexing starts from 0. In future version it will start from 1. To disable this warning, explicitely set the `start_label` parameter to 1.\n"
     ]
    },
    {
     "name": "stdout",
     "output_type": "stream",
     "text": [
      "Dice Score: 0.5727953863611633\n",
      "Best Dice Symmetry Score:  0.5727953863611633\n",
      "Plant/Ara2013-Canon\\ara2013_plant113_rgb.png\n"
     ]
    },
    {
     "name": "stderr",
     "output_type": "stream",
     "text": [
      "c:\\users\\user\\pycharmprojects\\comp9517\\venv\\lib\\site-packages\\skimage\\morphology\\_deprecated.py:5: skimage_deprecation: Function ``watershed`` is deprecated and will be removed in version 0.19. Use ``skimage.segmentation.watershed`` instead.\n",
      "c:\\users\\user\\pycharmprojects\\comp9517\\venv\\lib\\site-packages\\ipykernel_launcher.py:23: FutureWarning: skimage.measure.label's indexing starts from 0. In future version it will start from 1. To disable this warning, explicitely set the `start_label` parameter to 1.\n"
     ]
    },
    {
     "name": "stdout",
     "output_type": "stream",
     "text": [
      "Dice Score: 0.6292231547234776\n",
      "Best Dice Symmetry Score:  0.6292231547234776\n",
      "Plant/Ara2013-Canon\\ara2013_plant114_rgb.png\n"
     ]
    },
    {
     "name": "stderr",
     "output_type": "stream",
     "text": [
      "c:\\users\\user\\pycharmprojects\\comp9517\\venv\\lib\\site-packages\\skimage\\morphology\\_deprecated.py:5: skimage_deprecation: Function ``watershed`` is deprecated and will be removed in version 0.19. Use ``skimage.segmentation.watershed`` instead.\n",
      "c:\\users\\user\\pycharmprojects\\comp9517\\venv\\lib\\site-packages\\ipykernel_launcher.py:23: FutureWarning: skimage.measure.label's indexing starts from 0. In future version it will start from 1. To disable this warning, explicitely set the `start_label` parameter to 1.\n"
     ]
    },
    {
     "name": "stdout",
     "output_type": "stream",
     "text": [
      "Dice Score: 0.5870563705580906\n",
      "Best Dice Symmetry Score:  0.5870563705580906\n",
      "Plant/Ara2013-Canon\\ara2013_plant115_rgb.png\n"
     ]
    },
    {
     "name": "stderr",
     "output_type": "stream",
     "text": [
      "c:\\users\\user\\pycharmprojects\\comp9517\\venv\\lib\\site-packages\\skimage\\morphology\\_deprecated.py:5: skimage_deprecation: Function ``watershed`` is deprecated and will be removed in version 0.19. Use ``skimage.segmentation.watershed`` instead.\n",
      "c:\\users\\user\\pycharmprojects\\comp9517\\venv\\lib\\site-packages\\ipykernel_launcher.py:23: FutureWarning: skimage.measure.label's indexing starts from 0. In future version it will start from 1. To disable this warning, explicitely set the `start_label` parameter to 1.\n"
     ]
    },
    {
     "name": "stdout",
     "output_type": "stream",
     "text": [
      "Dice Score: 0.6606025918809534\n",
      "Best Dice Symmetry Score:  0.6606025918809534\n",
      "Plant/Ara2013-Canon\\ara2013_plant116_rgb.png\n"
     ]
    },
    {
     "name": "stderr",
     "output_type": "stream",
     "text": [
      "c:\\users\\user\\pycharmprojects\\comp9517\\venv\\lib\\site-packages\\skimage\\morphology\\_deprecated.py:5: skimage_deprecation: Function ``watershed`` is deprecated and will be removed in version 0.19. Use ``skimage.segmentation.watershed`` instead.\n",
      "c:\\users\\user\\pycharmprojects\\comp9517\\venv\\lib\\site-packages\\ipykernel_launcher.py:23: FutureWarning: skimage.measure.label's indexing starts from 0. In future version it will start from 1. To disable this warning, explicitely set the `start_label` parameter to 1.\n"
     ]
    },
    {
     "name": "stdout",
     "output_type": "stream",
     "text": [
      "Dice Score: 0.6205338809034907\n",
      "Best Dice Symmetry Score:  0.6205338809034907\n",
      "Plant/Ara2013-Canon\\ara2013_plant117_rgb.png\n"
     ]
    },
    {
     "name": "stderr",
     "output_type": "stream",
     "text": [
      "c:\\users\\user\\pycharmprojects\\comp9517\\venv\\lib\\site-packages\\skimage\\morphology\\_deprecated.py:5: skimage_deprecation: Function ``watershed`` is deprecated and will be removed in version 0.19. Use ``skimage.segmentation.watershed`` instead.\n",
      "c:\\users\\user\\pycharmprojects\\comp9517\\venv\\lib\\site-packages\\ipykernel_launcher.py:23: FutureWarning: skimage.measure.label's indexing starts from 0. In future version it will start from 1. To disable this warning, explicitely set the `start_label` parameter to 1.\n"
     ]
    },
    {
     "name": "stdout",
     "output_type": "stream",
     "text": [
      "Dice Score: 0.6137204942070092\n",
      "Best Dice Symmetry Score:  0.6137204942070092\n",
      "Plant/Ara2013-Canon\\ara2013_plant118_rgb.png\n"
     ]
    },
    {
     "name": "stderr",
     "output_type": "stream",
     "text": [
      "c:\\users\\user\\pycharmprojects\\comp9517\\venv\\lib\\site-packages\\skimage\\morphology\\_deprecated.py:5: skimage_deprecation: Function ``watershed`` is deprecated and will be removed in version 0.19. Use ``skimage.segmentation.watershed`` instead.\n",
      "c:\\users\\user\\pycharmprojects\\comp9517\\venv\\lib\\site-packages\\ipykernel_launcher.py:23: FutureWarning: skimage.measure.label's indexing starts from 0. In future version it will start from 1. To disable this warning, explicitely set the `start_label` parameter to 1.\n",
      "c:\\users\\user\\pycharmprojects\\comp9517\\venv\\lib\\site-packages\\skimage\\morphology\\_deprecated.py:5: skimage_deprecation: Function ``watershed`` is deprecated and will be removed in version 0.19. Use ``skimage.segmentation.watershed`` instead.\n",
      "c:\\users\\user\\pycharmprojects\\comp9517\\venv\\lib\\site-packages\\ipykernel_launcher.py:23: FutureWarning: skimage.measure.label's indexing starts from 0. In future version it will start from 1. To disable this warning, explicitely set the `start_label` parameter to 1.\n"
     ]
    },
    {
     "name": "stdout",
     "output_type": "stream",
     "text": [
      "Dice Score: 0.6134578906640668\n",
      "Best Dice Symmetry Score:  0.6134578906640668\n",
      "Plant/Ara2013-Canon\\ara2013_plant119_rgb.png\n",
      "Dice Score: 0.6288898697859192\n",
      "Best Dice Symmetry Score:  0.6288898697859192\n",
      "Plant/Ara2013-Canon\\ara2013_plant120_rgb.png\n"
     ]
    },
    {
     "name": "stderr",
     "output_type": "stream",
     "text": [
      "c:\\users\\user\\pycharmprojects\\comp9517\\venv\\lib\\site-packages\\skimage\\morphology\\_deprecated.py:5: skimage_deprecation: Function ``watershed`` is deprecated and will be removed in version 0.19. Use ``skimage.segmentation.watershed`` instead.\n",
      "c:\\users\\user\\pycharmprojects\\comp9517\\venv\\lib\\site-packages\\ipykernel_launcher.py:23: FutureWarning: skimage.measure.label's indexing starts from 0. In future version it will start from 1. To disable this warning, explicitely set the `start_label` parameter to 1.\n"
     ]
    },
    {
     "name": "stdout",
     "output_type": "stream",
     "text": [
      "Dice Score: 0.6192382903436074\n",
      "Best Dice Symmetry Score:  0.6192382903436074\n",
      "Plant/Ara2013-Canon\\ara2013_plant121_rgb.png\n"
     ]
    },
    {
     "name": "stderr",
     "output_type": "stream",
     "text": [
      "c:\\users\\user\\pycharmprojects\\comp9517\\venv\\lib\\site-packages\\skimage\\morphology\\_deprecated.py:5: skimage_deprecation: Function ``watershed`` is deprecated and will be removed in version 0.19. Use ``skimage.segmentation.watershed`` instead.\n",
      "c:\\users\\user\\pycharmprojects\\comp9517\\venv\\lib\\site-packages\\ipykernel_launcher.py:23: FutureWarning: skimage.measure.label's indexing starts from 0. In future version it will start from 1. To disable this warning, explicitely set the `start_label` parameter to 1.\n"
     ]
    },
    {
     "name": "stdout",
     "output_type": "stream",
     "text": [
      "Dice Score: 0.5574559376856558\n",
      "Best Dice Symmetry Score:  0.5574559376856558\n",
      "Plant/Ara2013-Canon\\ara2013_plant122_rgb.png\n"
     ]
    },
    {
     "name": "stderr",
     "output_type": "stream",
     "text": [
      "c:\\users\\user\\pycharmprojects\\comp9517\\venv\\lib\\site-packages\\skimage\\morphology\\_deprecated.py:5: skimage_deprecation: Function ``watershed`` is deprecated and will be removed in version 0.19. Use ``skimage.segmentation.watershed`` instead.\n",
      "c:\\users\\user\\pycharmprojects\\comp9517\\venv\\lib\\site-packages\\ipykernel_launcher.py:23: FutureWarning: skimage.measure.label's indexing starts from 0. In future version it will start from 1. To disable this warning, explicitely set the `start_label` parameter to 1.\n"
     ]
    },
    {
     "name": "stdout",
     "output_type": "stream",
     "text": [
      "Dice Score: 0.6165380545590626\n",
      "Best Dice Symmetry Score:  0.6165380545590626\n",
      "Plant/Ara2013-Canon\\ara2013_plant123_rgb.png\n"
     ]
    },
    {
     "name": "stderr",
     "output_type": "stream",
     "text": [
      "c:\\users\\user\\pycharmprojects\\comp9517\\venv\\lib\\site-packages\\skimage\\morphology\\_deprecated.py:5: skimage_deprecation: Function ``watershed`` is deprecated and will be removed in version 0.19. Use ``skimage.segmentation.watershed`` instead.\n",
      "c:\\users\\user\\pycharmprojects\\comp9517\\venv\\lib\\site-packages\\ipykernel_launcher.py:23: FutureWarning: skimage.measure.label's indexing starts from 0. In future version it will start from 1. To disable this warning, explicitely set the `start_label` parameter to 1.\n"
     ]
    },
    {
     "name": "stdout",
     "output_type": "stream",
     "text": [
      "Dice Score: 0.5914660030739954\n",
      "Best Dice Symmetry Score:  0.5914660030739954\n",
      "Plant/Ara2013-Canon\\ara2013_plant124_rgb.png\n",
      "Dice Score: 0.6352747157364812\n",
      "Best Dice Symmetry Score:  0.6352747157364812\n",
      "Plant/Ara2013-Canon\\ara2013_plant125_rgb.png\n"
     ]
    },
    {
     "name": "stderr",
     "output_type": "stream",
     "text": [
      "c:\\users\\user\\pycharmprojects\\comp9517\\venv\\lib\\site-packages\\skimage\\morphology\\_deprecated.py:5: skimage_deprecation: Function ``watershed`` is deprecated and will be removed in version 0.19. Use ``skimage.segmentation.watershed`` instead.\n",
      "c:\\users\\user\\pycharmprojects\\comp9517\\venv\\lib\\site-packages\\ipykernel_launcher.py:23: FutureWarning: skimage.measure.label's indexing starts from 0. In future version it will start from 1. To disable this warning, explicitely set the `start_label` parameter to 1.\n",
      "c:\\users\\user\\pycharmprojects\\comp9517\\venv\\lib\\site-packages\\skimage\\morphology\\_deprecated.py:5: skimage_deprecation: Function ``watershed`` is deprecated and will be removed in version 0.19. Use ``skimage.segmentation.watershed`` instead.\n",
      "c:\\users\\user\\pycharmprojects\\comp9517\\venv\\lib\\site-packages\\ipykernel_launcher.py:23: FutureWarning: skimage.measure.label's indexing starts from 0. In future version it will start from 1. To disable this warning, explicitely set the `start_label` parameter to 1.\n"
     ]
    },
    {
     "name": "stdout",
     "output_type": "stream",
     "text": [
      "Dice Score: 0.6110322089779355\n",
      "Best Dice Symmetry Score:  0.6110322089779355\n",
      "Plant/Ara2013-Canon\\ara2013_plant126_rgb.png\n"
     ]
    },
    {
     "name": "stderr",
     "output_type": "stream",
     "text": [
      "c:\\users\\user\\pycharmprojects\\comp9517\\venv\\lib\\site-packages\\skimage\\morphology\\_deprecated.py:5: skimage_deprecation: Function ``watershed`` is deprecated and will be removed in version 0.19. Use ``skimage.segmentation.watershed`` instead.\n",
      "c:\\users\\user\\pycharmprojects\\comp9517\\venv\\lib\\site-packages\\ipykernel_launcher.py:23: FutureWarning: skimage.measure.label's indexing starts from 0. In future version it will start from 1. To disable this warning, explicitely set the `start_label` parameter to 1.\n",
      "c:\\users\\user\\pycharmprojects\\comp9517\\venv\\lib\\site-packages\\skimage\\morphology\\_deprecated.py:5: skimage_deprecation: Function ``watershed`` is deprecated and will be removed in version 0.19. Use ``skimage.segmentation.watershed`` instead.\n",
      "c:\\users\\user\\pycharmprojects\\comp9517\\venv\\lib\\site-packages\\ipykernel_launcher.py:23: FutureWarning: skimage.measure.label's indexing starts from 0. In future version it will start from 1. To disable this warning, explicitely set the `start_label` parameter to 1.\n"
     ]
    },
    {
     "name": "stdout",
     "output_type": "stream",
     "text": [
      "Dice Score: 0.6086109276721049\n",
      "Best Dice Symmetry Score:  0.6086109276721049\n",
      "Plant/Ara2013-Canon\\ara2013_plant127_rgb.png\n",
      "Dice Score: 0.5903614457831325\n",
      "Best Dice Symmetry Score:  0.5903614457831325\n",
      "Plant/Ara2013-Canon\\ara2013_plant128_rgb.png\n"
     ]
    },
    {
     "name": "stderr",
     "output_type": "stream",
     "text": [
      "c:\\users\\user\\pycharmprojects\\comp9517\\venv\\lib\\site-packages\\skimage\\morphology\\_deprecated.py:5: skimage_deprecation: Function ``watershed`` is deprecated and will be removed in version 0.19. Use ``skimage.segmentation.watershed`` instead.\n",
      "c:\\users\\user\\pycharmprojects\\comp9517\\venv\\lib\\site-packages\\ipykernel_launcher.py:23: FutureWarning: skimage.measure.label's indexing starts from 0. In future version it will start from 1. To disable this warning, explicitely set the `start_label` parameter to 1.\n"
     ]
    },
    {
     "name": "stdout",
     "output_type": "stream",
     "text": [
      "Dice Score: 0.5942066273344275\n",
      "Best Dice Symmetry Score:  0.5942066273344275\n",
      "Plant/Ara2013-Canon\\ara2013_plant129_rgb.png\n"
     ]
    },
    {
     "name": "stderr",
     "output_type": "stream",
     "text": [
      "c:\\users\\user\\pycharmprojects\\comp9517\\venv\\lib\\site-packages\\skimage\\morphology\\_deprecated.py:5: skimage_deprecation: Function ``watershed`` is deprecated and will be removed in version 0.19. Use ``skimage.segmentation.watershed`` instead.\n",
      "c:\\users\\user\\pycharmprojects\\comp9517\\venv\\lib\\site-packages\\ipykernel_launcher.py:23: FutureWarning: skimage.measure.label's indexing starts from 0. In future version it will start from 1. To disable this warning, explicitely set the `start_label` parameter to 1.\n"
     ]
    },
    {
     "name": "stdout",
     "output_type": "stream",
     "text": [
      "Dice Score: 0.5966405413803819\n",
      "Best Dice Symmetry Score:  0.5966405413803819\n",
      "Plant/Ara2013-Canon\\ara2013_plant130_rgb.png\n"
     ]
    },
    {
     "name": "stderr",
     "output_type": "stream",
     "text": [
      "c:\\users\\user\\pycharmprojects\\comp9517\\venv\\lib\\site-packages\\skimage\\morphology\\_deprecated.py:5: skimage_deprecation: Function ``watershed`` is deprecated and will be removed in version 0.19. Use ``skimage.segmentation.watershed`` instead.\n",
      "c:\\users\\user\\pycharmprojects\\comp9517\\venv\\lib\\site-packages\\ipykernel_launcher.py:23: FutureWarning: skimage.measure.label's indexing starts from 0. In future version it will start from 1. To disable this warning, explicitely set the `start_label` parameter to 1.\n"
     ]
    },
    {
     "name": "stdout",
     "output_type": "stream",
     "text": [
      "Dice Score: 0.6150274241525638\n",
      "Best Dice Symmetry Score:  0.6150274241525638\n",
      "Plant/Ara2013-Canon\\ara2013_plant131_rgb.png\n"
     ]
    },
    {
     "name": "stderr",
     "output_type": "stream",
     "text": [
      "c:\\users\\user\\pycharmprojects\\comp9517\\venv\\lib\\site-packages\\skimage\\morphology\\_deprecated.py:5: skimage_deprecation: Function ``watershed`` is deprecated and will be removed in version 0.19. Use ``skimage.segmentation.watershed`` instead.\n",
      "c:\\users\\user\\pycharmprojects\\comp9517\\venv\\lib\\site-packages\\ipykernel_launcher.py:23: FutureWarning: skimage.measure.label's indexing starts from 0. In future version it will start from 1. To disable this warning, explicitely set the `start_label` parameter to 1.\n"
     ]
    },
    {
     "name": "stdout",
     "output_type": "stream",
     "text": [
      "Dice Score: 0.5750887508790361\n",
      "Best Dice Symmetry Score:  0.5750887508790361\n",
      "Plant/Ara2013-Canon\\ara2013_plant132_rgb.png\n"
     ]
    },
    {
     "name": "stderr",
     "output_type": "stream",
     "text": [
      "c:\\users\\user\\pycharmprojects\\comp9517\\venv\\lib\\site-packages\\skimage\\morphology\\_deprecated.py:5: skimage_deprecation: Function ``watershed`` is deprecated and will be removed in version 0.19. Use ``skimage.segmentation.watershed`` instead.\n",
      "c:\\users\\user\\pycharmprojects\\comp9517\\venv\\lib\\site-packages\\ipykernel_launcher.py:23: FutureWarning: skimage.measure.label's indexing starts from 0. In future version it will start from 1. To disable this warning, explicitely set the `start_label` parameter to 1.\n",
      "c:\\users\\user\\pycharmprojects\\comp9517\\venv\\lib\\site-packages\\skimage\\morphology\\_deprecated.py:5: skimage_deprecation: Function ``watershed`` is deprecated and will be removed in version 0.19. Use ``skimage.segmentation.watershed`` instead.\n"
     ]
    },
    {
     "name": "stdout",
     "output_type": "stream",
     "text": [
      "Dice Score: 0.6037733219518143\n",
      "Best Dice Symmetry Score:  0.6037733219518143\n",
      "Plant/Ara2013-Canon\\ara2013_plant133_rgb.png\n",
      "Dice Score: 0.6729748947109336\n",
      "Best Dice Symmetry Score:  0.6729748947109336\n",
      "Plant/Ara2013-Canon\\ara2013_plant134_rgb.png\n"
     ]
    },
    {
     "name": "stderr",
     "output_type": "stream",
     "text": [
      "c:\\users\\user\\pycharmprojects\\comp9517\\venv\\lib\\site-packages\\ipykernel_launcher.py:23: FutureWarning: skimage.measure.label's indexing starts from 0. In future version it will start from 1. To disable this warning, explicitely set the `start_label` parameter to 1.\n",
      "c:\\users\\user\\pycharmprojects\\comp9517\\venv\\lib\\site-packages\\skimage\\morphology\\_deprecated.py:5: skimage_deprecation: Function ``watershed`` is deprecated and will be removed in version 0.19. Use ``skimage.segmentation.watershed`` instead.\n",
      "c:\\users\\user\\pycharmprojects\\comp9517\\venv\\lib\\site-packages\\ipykernel_launcher.py:23: FutureWarning: skimage.measure.label's indexing starts from 0. In future version it will start from 1. To disable this warning, explicitely set the `start_label` parameter to 1.\n"
     ]
    },
    {
     "name": "stdout",
     "output_type": "stream",
     "text": [
      "Dice Score: 0.6121423149961164\n",
      "Best Dice Symmetry Score:  0.6121423149961164\n",
      "Plant/Ara2013-Canon\\ara2013_plant135_rgb.png\n"
     ]
    },
    {
     "name": "stderr",
     "output_type": "stream",
     "text": [
      "c:\\users\\user\\pycharmprojects\\comp9517\\venv\\lib\\site-packages\\skimage\\morphology\\_deprecated.py:5: skimage_deprecation: Function ``watershed`` is deprecated and will be removed in version 0.19. Use ``skimage.segmentation.watershed`` instead.\n",
      "c:\\users\\user\\pycharmprojects\\comp9517\\venv\\lib\\site-packages\\ipykernel_launcher.py:23: FutureWarning: skimage.measure.label's indexing starts from 0. In future version it will start from 1. To disable this warning, explicitely set the `start_label` parameter to 1.\n"
     ]
    },
    {
     "name": "stdout",
     "output_type": "stream",
     "text": [
      "Dice Score: 0.6069405455441859\n",
      "Best Dice Symmetry Score:  0.6069405455441859\n",
      "Plant/Ara2013-Canon\\ara2013_plant136_rgb.png\n"
     ]
    },
    {
     "name": "stderr",
     "output_type": "stream",
     "text": [
      "c:\\users\\user\\pycharmprojects\\comp9517\\venv\\lib\\site-packages\\skimage\\morphology\\_deprecated.py:5: skimage_deprecation: Function ``watershed`` is deprecated and will be removed in version 0.19. Use ``skimage.segmentation.watershed`` instead.\n",
      "c:\\users\\user\\pycharmprojects\\comp9517\\venv\\lib\\site-packages\\ipykernel_launcher.py:23: FutureWarning: skimage.measure.label's indexing starts from 0. In future version it will start from 1. To disable this warning, explicitely set the `start_label` parameter to 1.\n"
     ]
    },
    {
     "name": "stdout",
     "output_type": "stream",
     "text": [
      "Dice Score: 0.5633263214429576\n",
      "Best Dice Symmetry Score:  0.5633263214429576\n",
      "Plant/Ara2013-Canon\\ara2013_plant137_rgb.png\n"
     ]
    },
    {
     "name": "stderr",
     "output_type": "stream",
     "text": [
      "c:\\users\\user\\pycharmprojects\\comp9517\\venv\\lib\\site-packages\\skimage\\morphology\\_deprecated.py:5: skimage_deprecation: Function ``watershed`` is deprecated and will be removed in version 0.19. Use ``skimage.segmentation.watershed`` instead.\n",
      "c:\\users\\user\\pycharmprojects\\comp9517\\venv\\lib\\site-packages\\ipykernel_launcher.py:23: FutureWarning: skimage.measure.label's indexing starts from 0. In future version it will start from 1. To disable this warning, explicitely set the `start_label` parameter to 1.\n"
     ]
    },
    {
     "name": "stdout",
     "output_type": "stream",
     "text": [
      "Dice Score: 0.640880138969311\n",
      "Best Dice Symmetry Score:  0.640880138969311\n",
      "Plant/Ara2013-Canon\\ara2013_plant138_rgb.png\n"
     ]
    },
    {
     "name": "stderr",
     "output_type": "stream",
     "text": [
      "c:\\users\\user\\pycharmprojects\\comp9517\\venv\\lib\\site-packages\\skimage\\morphology\\_deprecated.py:5: skimage_deprecation: Function ``watershed`` is deprecated and will be removed in version 0.19. Use ``skimage.segmentation.watershed`` instead.\n",
      "c:\\users\\user\\pycharmprojects\\comp9517\\venv\\lib\\site-packages\\ipykernel_launcher.py:23: FutureWarning: skimage.measure.label's indexing starts from 0. In future version it will start from 1. To disable this warning, explicitely set the `start_label` parameter to 1.\n"
     ]
    },
    {
     "name": "stdout",
     "output_type": "stream",
     "text": [
      "Dice Score: 0.6160021735891391\n",
      "Best Dice Symmetry Score:  0.6160021735891391\n",
      "Plant/Ara2013-Canon\\ara2013_plant139_rgb.png\n"
     ]
    },
    {
     "name": "stderr",
     "output_type": "stream",
     "text": [
      "c:\\users\\user\\pycharmprojects\\comp9517\\venv\\lib\\site-packages\\skimage\\morphology\\_deprecated.py:5: skimage_deprecation: Function ``watershed`` is deprecated and will be removed in version 0.19. Use ``skimage.segmentation.watershed`` instead.\n",
      "c:\\users\\user\\pycharmprojects\\comp9517\\venv\\lib\\site-packages\\ipykernel_launcher.py:23: FutureWarning: skimage.measure.label's indexing starts from 0. In future version it will start from 1. To disable this warning, explicitely set the `start_label` parameter to 1.\n"
     ]
    },
    {
     "name": "stdout",
     "output_type": "stream",
     "text": [
      "Dice Score: 0.6114260672375295\n",
      "Best Dice Symmetry Score:  0.6114260672375295\n",
      "Plant/Ara2013-Canon\\ara2013_plant140_rgb.png\n"
     ]
    },
    {
     "name": "stderr",
     "output_type": "stream",
     "text": [
      "c:\\users\\user\\pycharmprojects\\comp9517\\venv\\lib\\site-packages\\skimage\\morphology\\_deprecated.py:5: skimage_deprecation: Function ``watershed`` is deprecated and will be removed in version 0.19. Use ``skimage.segmentation.watershed`` instead.\n",
      "c:\\users\\user\\pycharmprojects\\comp9517\\venv\\lib\\site-packages\\ipykernel_launcher.py:23: FutureWarning: skimage.measure.label's indexing starts from 0. In future version it will start from 1. To disable this warning, explicitely set the `start_label` parameter to 1.\n"
     ]
    },
    {
     "name": "stdout",
     "output_type": "stream",
     "text": [
      "Dice Score: 0.5835093840125529\n",
      "Best Dice Symmetry Score:  0.5835093840125529\n",
      "Plant/Ara2013-Canon\\ara2013_plant141_rgb.png\n"
     ]
    },
    {
     "name": "stderr",
     "output_type": "stream",
     "text": [
      "c:\\users\\user\\pycharmprojects\\comp9517\\venv\\lib\\site-packages\\skimage\\morphology\\_deprecated.py:5: skimage_deprecation: Function ``watershed`` is deprecated and will be removed in version 0.19. Use ``skimage.segmentation.watershed`` instead.\n",
      "c:\\users\\user\\pycharmprojects\\comp9517\\venv\\lib\\site-packages\\ipykernel_launcher.py:23: FutureWarning: skimage.measure.label's indexing starts from 0. In future version it will start from 1. To disable this warning, explicitely set the `start_label` parameter to 1.\n"
     ]
    },
    {
     "name": "stdout",
     "output_type": "stream",
     "text": [
      "Dice Score: 0.5915170816444701\n",
      "Best Dice Symmetry Score:  0.5915170816444701\n",
      "Plant/Ara2013-Canon\\ara2013_plant142_rgb.png\n"
     ]
    },
    {
     "name": "stderr",
     "output_type": "stream",
     "text": [
      "c:\\users\\user\\pycharmprojects\\comp9517\\venv\\lib\\site-packages\\skimage\\morphology\\_deprecated.py:5: skimage_deprecation: Function ``watershed`` is deprecated and will be removed in version 0.19. Use ``skimage.segmentation.watershed`` instead.\n",
      "c:\\users\\user\\pycharmprojects\\comp9517\\venv\\lib\\site-packages\\ipykernel_launcher.py:23: FutureWarning: skimage.measure.label's indexing starts from 0. In future version it will start from 1. To disable this warning, explicitely set the `start_label` parameter to 1.\n",
      "c:\\users\\user\\pycharmprojects\\comp9517\\venv\\lib\\site-packages\\skimage\\morphology\\_deprecated.py:5: skimage_deprecation: Function ``watershed`` is deprecated and will be removed in version 0.19. Use ``skimage.segmentation.watershed`` instead.\n"
     ]
    },
    {
     "name": "stdout",
     "output_type": "stream",
     "text": [
      "Dice Score: 0.6134032360835532\n",
      "Best Dice Symmetry Score:  0.6134032360835532\n",
      "Plant/Ara2013-Canon\\ara2013_plant143_rgb.png\n",
      "Dice Score: 0.0025665704202759063\n",
      "Best Dice Symmetry Score:  0.0025665704202759063\n",
      "Plant/Ara2013-Canon\\ara2013_plant144_rgb.png\n"
     ]
    },
    {
     "name": "stderr",
     "output_type": "stream",
     "text": [
      "c:\\users\\user\\pycharmprojects\\comp9517\\venv\\lib\\site-packages\\ipykernel_launcher.py:23: FutureWarning: skimage.measure.label's indexing starts from 0. In future version it will start from 1. To disable this warning, explicitely set the `start_label` parameter to 1.\n",
      "c:\\users\\user\\pycharmprojects\\comp9517\\venv\\lib\\site-packages\\skimage\\morphology\\_deprecated.py:5: skimage_deprecation: Function ``watershed`` is deprecated and will be removed in version 0.19. Use ``skimage.segmentation.watershed`` instead.\n",
      "c:\\users\\user\\pycharmprojects\\comp9517\\venv\\lib\\site-packages\\ipykernel_launcher.py:23: FutureWarning: skimage.measure.label's indexing starts from 0. In future version it will start from 1. To disable this warning, explicitely set the `start_label` parameter to 1.\n"
     ]
    },
    {
     "name": "stdout",
     "output_type": "stream",
     "text": [
      "Dice Score: 0.6090428782147292\n",
      "Best Dice Symmetry Score:  0.6090428782147292\n",
      "Plant/Ara2013-Canon\\ara2013_plant145_rgb.png\n"
     ]
    },
    {
     "name": "stderr",
     "output_type": "stream",
     "text": [
      "c:\\users\\user\\pycharmprojects\\comp9517\\venv\\lib\\site-packages\\skimage\\morphology\\_deprecated.py:5: skimage_deprecation: Function ``watershed`` is deprecated and will be removed in version 0.19. Use ``skimage.segmentation.watershed`` instead.\n",
      "c:\\users\\user\\pycharmprojects\\comp9517\\venv\\lib\\site-packages\\ipykernel_launcher.py:23: FutureWarning: skimage.measure.label's indexing starts from 0. In future version it will start from 1. To disable this warning, explicitely set the `start_label` parameter to 1.\n"
     ]
    },
    {
     "name": "stdout",
     "output_type": "stream",
     "text": [
      "Dice Score: 0.6342834355595223\n",
      "Best Dice Symmetry Score:  0.6342834355595223\n",
      "Plant/Ara2013-Canon\\ara2013_plant146_rgb.png\n"
     ]
    },
    {
     "name": "stderr",
     "output_type": "stream",
     "text": [
      "c:\\users\\user\\pycharmprojects\\comp9517\\venv\\lib\\site-packages\\skimage\\morphology\\_deprecated.py:5: skimage_deprecation: Function ``watershed`` is deprecated and will be removed in version 0.19. Use ``skimage.segmentation.watershed`` instead.\n",
      "c:\\users\\user\\pycharmprojects\\comp9517\\venv\\lib\\site-packages\\ipykernel_launcher.py:23: FutureWarning: skimage.measure.label's indexing starts from 0. In future version it will start from 1. To disable this warning, explicitely set the `start_label` parameter to 1.\n"
     ]
    },
    {
     "name": "stdout",
     "output_type": "stream",
     "text": [
      "Dice Score: 0.5724434698368116\n",
      "Best Dice Symmetry Score:  0.5724434698368116\n",
      "Plant/Ara2013-Canon\\ara2013_plant147_rgb.png\n"
     ]
    },
    {
     "name": "stderr",
     "output_type": "stream",
     "text": [
      "c:\\users\\user\\pycharmprojects\\comp9517\\venv\\lib\\site-packages\\skimage\\morphology\\_deprecated.py:5: skimage_deprecation: Function ``watershed`` is deprecated and will be removed in version 0.19. Use ``skimage.segmentation.watershed`` instead.\n",
      "c:\\users\\user\\pycharmprojects\\comp9517\\venv\\lib\\site-packages\\ipykernel_launcher.py:23: FutureWarning: skimage.measure.label's indexing starts from 0. In future version it will start from 1. To disable this warning, explicitely set the `start_label` parameter to 1.\n"
     ]
    },
    {
     "name": "stdout",
     "output_type": "stream",
     "text": [
      "Dice Score: 0.6332108731328985\n",
      "Best Dice Symmetry Score:  0.6332108731328985\n",
      "Plant/Ara2013-Canon\\ara2013_plant148_rgb.png\n"
     ]
    },
    {
     "name": "stderr",
     "output_type": "stream",
     "text": [
      "c:\\users\\user\\pycharmprojects\\comp9517\\venv\\lib\\site-packages\\skimage\\morphology\\_deprecated.py:5: skimage_deprecation: Function ``watershed`` is deprecated and will be removed in version 0.19. Use ``skimage.segmentation.watershed`` instead.\n",
      "c:\\users\\user\\pycharmprojects\\comp9517\\venv\\lib\\site-packages\\ipykernel_launcher.py:23: FutureWarning: skimage.measure.label's indexing starts from 0. In future version it will start from 1. To disable this warning, explicitely set the `start_label` parameter to 1.\n"
     ]
    },
    {
     "name": "stdout",
     "output_type": "stream",
     "text": [
      "Dice Score: 0.5913611778846154\n",
      "Best Dice Symmetry Score:  0.5913611778846154\n",
      "Plant/Ara2013-Canon\\ara2013_plant149_rgb.png\n"
     ]
    },
    {
     "name": "stderr",
     "output_type": "stream",
     "text": [
      "c:\\users\\user\\pycharmprojects\\comp9517\\venv\\lib\\site-packages\\skimage\\morphology\\_deprecated.py:5: skimage_deprecation: Function ``watershed`` is deprecated and will be removed in version 0.19. Use ``skimage.segmentation.watershed`` instead.\n",
      "c:\\users\\user\\pycharmprojects\\comp9517\\venv\\lib\\site-packages\\ipykernel_launcher.py:23: FutureWarning: skimage.measure.label's indexing starts from 0. In future version it will start from 1. To disable this warning, explicitely set the `start_label` parameter to 1.\n",
      "c:\\users\\user\\pycharmprojects\\comp9517\\venv\\lib\\site-packages\\skimage\\morphology\\_deprecated.py:5: skimage_deprecation: Function ``watershed`` is deprecated and will be removed in version 0.19. Use ``skimage.segmentation.watershed`` instead.\n",
      "c:\\users\\user\\pycharmprojects\\comp9517\\venv\\lib\\site-packages\\ipykernel_launcher.py:23: FutureWarning: skimage.measure.label's indexing starts from 0. In future version it will start from 1. To disable this warning, explicitely set the `start_label` parameter to 1.\n"
     ]
    },
    {
     "name": "stdout",
     "output_type": "stream",
     "text": [
      "Dice Score: 0.6022376794007815\n",
      "Best Dice Symmetry Score:  0.6022376794007815\n",
      "Plant/Ara2013-Canon\\ara2013_plant150_rgb.png\n",
      "Dice Score: 0.6427666721735779\n",
      "Best Dice Symmetry Score:  0.6427666721735779\n",
      "Plant/Ara2013-Canon\\ara2013_plant151_rgb.png\n"
     ]
    },
    {
     "name": "stderr",
     "output_type": "stream",
     "text": [
      "c:\\users\\user\\pycharmprojects\\comp9517\\venv\\lib\\site-packages\\skimage\\morphology\\_deprecated.py:5: skimage_deprecation: Function ``watershed`` is deprecated and will be removed in version 0.19. Use ``skimage.segmentation.watershed`` instead.\n",
      "c:\\users\\user\\pycharmprojects\\comp9517\\venv\\lib\\site-packages\\ipykernel_launcher.py:23: FutureWarning: skimage.measure.label's indexing starts from 0. In future version it will start from 1. To disable this warning, explicitely set the `start_label` parameter to 1.\n"
     ]
    },
    {
     "name": "stdout",
     "output_type": "stream",
     "text": [
      "Dice Score: 0.5625942358330628\n",
      "Best Dice Symmetry Score:  0.5625942358330628\n",
      "Plant/Ara2013-Canon\\ara2013_plant152_rgb.png\n"
     ]
    },
    {
     "name": "stderr",
     "output_type": "stream",
     "text": [
      "c:\\users\\user\\pycharmprojects\\comp9517\\venv\\lib\\site-packages\\skimage\\morphology\\_deprecated.py:5: skimage_deprecation: Function ``watershed`` is deprecated and will be removed in version 0.19. Use ``skimage.segmentation.watershed`` instead.\n",
      "c:\\users\\user\\pycharmprojects\\comp9517\\venv\\lib\\site-packages\\ipykernel_launcher.py:23: FutureWarning: skimage.measure.label's indexing starts from 0. In future version it will start from 1. To disable this warning, explicitely set the `start_label` parameter to 1.\n"
     ]
    },
    {
     "name": "stdout",
     "output_type": "stream",
     "text": [
      "Dice Score: 0.5858789515730208\n",
      "Best Dice Symmetry Score:  0.5858789515730208\n",
      "Plant/Ara2013-Canon\\ara2013_plant153_rgb.png\n",
      "Dice Score: 0.0037339556592765463\n",
      "Best Dice Symmetry Score:  0.0037339556592765463\n",
      "Plant/Ara2013-Canon\\ara2013_plant154_rgb.png\n"
     ]
    },
    {
     "name": "stderr",
     "output_type": "stream",
     "text": [
      "c:\\users\\user\\pycharmprojects\\comp9517\\venv\\lib\\site-packages\\skimage\\morphology\\_deprecated.py:5: skimage_deprecation: Function ``watershed`` is deprecated and will be removed in version 0.19. Use ``skimage.segmentation.watershed`` instead.\n",
      "c:\\users\\user\\pycharmprojects\\comp9517\\venv\\lib\\site-packages\\ipykernel_launcher.py:23: FutureWarning: skimage.measure.label's indexing starts from 0. In future version it will start from 1. To disable this warning, explicitely set the `start_label` parameter to 1.\n",
      "c:\\users\\user\\pycharmprojects\\comp9517\\venv\\lib\\site-packages\\skimage\\morphology\\_deprecated.py:5: skimage_deprecation: Function ``watershed`` is deprecated and will be removed in version 0.19. Use ``skimage.segmentation.watershed`` instead.\n",
      "c:\\users\\user\\pycharmprojects\\comp9517\\venv\\lib\\site-packages\\ipykernel_launcher.py:23: FutureWarning: skimage.measure.label's indexing starts from 0. In future version it will start from 1. To disable this warning, explicitely set the `start_label` parameter to 1.\n"
     ]
    },
    {
     "name": "stdout",
     "output_type": "stream",
     "text": [
      "Dice Score: 0.5824874966179926\n",
      "Best Dice Symmetry Score:  0.5824874966179926\n",
      "Plant/Ara2013-Canon\\ara2013_plant155_rgb.png\n"
     ]
    },
    {
     "name": "stderr",
     "output_type": "stream",
     "text": [
      "c:\\users\\user\\pycharmprojects\\comp9517\\venv\\lib\\site-packages\\skimage\\morphology\\_deprecated.py:5: skimage_deprecation: Function ``watershed`` is deprecated and will be removed in version 0.19. Use ``skimage.segmentation.watershed`` instead.\n",
      "c:\\users\\user\\pycharmprojects\\comp9517\\venv\\lib\\site-packages\\ipykernel_launcher.py:23: FutureWarning: skimage.measure.label's indexing starts from 0. In future version it will start from 1. To disable this warning, explicitely set the `start_label` parameter to 1.\n"
     ]
    },
    {
     "name": "stdout",
     "output_type": "stream",
     "text": [
      "Dice Score: 0.5483678157608578\n",
      "Best Dice Symmetry Score:  0.5483678157608578\n",
      "Plant/Ara2013-Canon\\ara2013_plant156_rgb.png\n"
     ]
    },
    {
     "name": "stderr",
     "output_type": "stream",
     "text": [
      "c:\\users\\user\\pycharmprojects\\comp9517\\venv\\lib\\site-packages\\skimage\\morphology\\_deprecated.py:5: skimage_deprecation: Function ``watershed`` is deprecated and will be removed in version 0.19. Use ``skimage.segmentation.watershed`` instead.\n",
      "c:\\users\\user\\pycharmprojects\\comp9517\\venv\\lib\\site-packages\\ipykernel_launcher.py:23: FutureWarning: skimage.measure.label's indexing starts from 0. In future version it will start from 1. To disable this warning, explicitely set the `start_label` parameter to 1.\n"
     ]
    },
    {
     "name": "stdout",
     "output_type": "stream",
     "text": [
      "Dice Score: 0.5639528444155394\n",
      "Best Dice Symmetry Score:  0.5639528444155394\n",
      "Plant/Ara2013-Canon\\ara2013_plant157_rgb.png\n"
     ]
    },
    {
     "name": "stderr",
     "output_type": "stream",
     "text": [
      "c:\\users\\user\\pycharmprojects\\comp9517\\venv\\lib\\site-packages\\skimage\\morphology\\_deprecated.py:5: skimage_deprecation: Function ``watershed`` is deprecated and will be removed in version 0.19. Use ``skimage.segmentation.watershed`` instead.\n",
      "c:\\users\\user\\pycharmprojects\\comp9517\\venv\\lib\\site-packages\\ipykernel_launcher.py:23: FutureWarning: skimage.measure.label's indexing starts from 0. In future version it will start from 1. To disable this warning, explicitely set the `start_label` parameter to 1.\n"
     ]
    },
    {
     "name": "stdout",
     "output_type": "stream",
     "text": [
      "Dice Score: 0.5313296158345354\n",
      "Best Dice Symmetry Score:  0.5313296158345354\n",
      "Plant/Ara2013-Canon\\ara2013_plant158_rgb.png\n"
     ]
    },
    {
     "name": "stderr",
     "output_type": "stream",
     "text": [
      "c:\\users\\user\\pycharmprojects\\comp9517\\venv\\lib\\site-packages\\skimage\\morphology\\_deprecated.py:5: skimage_deprecation: Function ``watershed`` is deprecated and will be removed in version 0.19. Use ``skimage.segmentation.watershed`` instead.\n",
      "c:\\users\\user\\pycharmprojects\\comp9517\\venv\\lib\\site-packages\\ipykernel_launcher.py:23: FutureWarning: skimage.measure.label's indexing starts from 0. In future version it will start from 1. To disable this warning, explicitely set the `start_label` parameter to 1.\n"
     ]
    },
    {
     "name": "stdout",
     "output_type": "stream",
     "text": [
      "Dice Score: 0.463152649577458\n",
      "Best Dice Symmetry Score:  0.463152649577458\n",
      "Plant/Ara2013-Canon\\ara2013_plant159_rgb.png\n"
     ]
    },
    {
     "name": "stderr",
     "output_type": "stream",
     "text": [
      "c:\\users\\user\\pycharmprojects\\comp9517\\venv\\lib\\site-packages\\skimage\\morphology\\_deprecated.py:5: skimage_deprecation: Function ``watershed`` is deprecated and will be removed in version 0.19. Use ``skimage.segmentation.watershed`` instead.\n",
      "c:\\users\\user\\pycharmprojects\\comp9517\\venv\\lib\\site-packages\\ipykernel_launcher.py:23: FutureWarning: skimage.measure.label's indexing starts from 0. In future version it will start from 1. To disable this warning, explicitely set the `start_label` parameter to 1.\n"
     ]
    },
    {
     "name": "stdout",
     "output_type": "stream",
     "text": [
      "Dice Score: 0.3923472985378444\n",
      "Best Dice Symmetry Score:  0.3923472985378444\n",
      "Plant/Ara2013-Canon\\ara2013_plant160_rgb.png\n"
     ]
    },
    {
     "name": "stderr",
     "output_type": "stream",
     "text": [
      "c:\\users\\user\\pycharmprojects\\comp9517\\venv\\lib\\site-packages\\skimage\\morphology\\_deprecated.py:5: skimage_deprecation: Function ``watershed`` is deprecated and will be removed in version 0.19. Use ``skimage.segmentation.watershed`` instead.\n",
      "c:\\users\\user\\pycharmprojects\\comp9517\\venv\\lib\\site-packages\\ipykernel_launcher.py:23: FutureWarning: skimage.measure.label's indexing starts from 0. In future version it will start from 1. To disable this warning, explicitely set the `start_label` parameter to 1.\n"
     ]
    },
    {
     "name": "stdout",
     "output_type": "stream",
     "text": [
      "Dice Score: 0.5374985896578579\n",
      "Best Dice Symmetry Score:  0.5374985896578579\n",
      "Plant/Ara2013-Canon\\ara2013_plant161_rgb.png\n"
     ]
    },
    {
     "name": "stderr",
     "output_type": "stream",
     "text": [
      "c:\\users\\user\\pycharmprojects\\comp9517\\venv\\lib\\site-packages\\skimage\\morphology\\_deprecated.py:5: skimage_deprecation: Function ``watershed`` is deprecated and will be removed in version 0.19. Use ``skimage.segmentation.watershed`` instead.\n",
      "c:\\users\\user\\pycharmprojects\\comp9517\\venv\\lib\\site-packages\\ipykernel_launcher.py:23: FutureWarning: skimage.measure.label's indexing starts from 0. In future version it will start from 1. To disable this warning, explicitely set the `start_label` parameter to 1.\n"
     ]
    },
    {
     "name": "stdout",
     "output_type": "stream",
     "text": [
      "Dice Score: 0.6307339449541285\n",
      "Best Dice Symmetry Score:  0.6307339449541285\n",
      "Plant/Ara2013-Canon\\ara2013_plant162_rgb.png\n"
     ]
    },
    {
     "name": "stderr",
     "output_type": "stream",
     "text": [
      "c:\\users\\user\\pycharmprojects\\comp9517\\venv\\lib\\site-packages\\skimage\\morphology\\_deprecated.py:5: skimage_deprecation: Function ``watershed`` is deprecated and will be removed in version 0.19. Use ``skimage.segmentation.watershed`` instead.\n",
      "c:\\users\\user\\pycharmprojects\\comp9517\\venv\\lib\\site-packages\\ipykernel_launcher.py:23: FutureWarning: skimage.measure.label's indexing starts from 0. In future version it will start from 1. To disable this warning, explicitely set the `start_label` parameter to 1.\n"
     ]
    },
    {
     "name": "stdout",
     "output_type": "stream",
     "text": [
      "Dice Score: 0.5599845876279266\n",
      "Best Dice Symmetry Score:  0.5599845876279266\n",
      "Plant/Ara2013-Canon\\ara2013_plant163_rgb.png\n"
     ]
    },
    {
     "name": "stderr",
     "output_type": "stream",
     "text": [
      "c:\\users\\user\\pycharmprojects\\comp9517\\venv\\lib\\site-packages\\skimage\\morphology\\_deprecated.py:5: skimage_deprecation: Function ``watershed`` is deprecated and will be removed in version 0.19. Use ``skimage.segmentation.watershed`` instead.\n",
      "c:\\users\\user\\pycharmprojects\\comp9517\\venv\\lib\\site-packages\\ipykernel_launcher.py:23: FutureWarning: skimage.measure.label's indexing starts from 0. In future version it will start from 1. To disable this warning, explicitely set the `start_label` parameter to 1.\n"
     ]
    },
    {
     "name": "stdout",
     "output_type": "stream",
     "text": [
      "Dice Score: 0.5375026512741266\n",
      "Best Dice Symmetry Score:  0.5375026512741266\n",
      "Plant/Ara2013-Canon\\ara2013_plant164_rgb.png\n"
     ]
    },
    {
     "name": "stderr",
     "output_type": "stream",
     "text": [
      "c:\\users\\user\\pycharmprojects\\comp9517\\venv\\lib\\site-packages\\skimage\\morphology\\_deprecated.py:5: skimage_deprecation: Function ``watershed`` is deprecated and will be removed in version 0.19. Use ``skimage.segmentation.watershed`` instead.\n",
      "c:\\users\\user\\pycharmprojects\\comp9517\\venv\\lib\\site-packages\\ipykernel_launcher.py:23: FutureWarning: skimage.measure.label's indexing starts from 0. In future version it will start from 1. To disable this warning, explicitely set the `start_label` parameter to 1.\n"
     ]
    },
    {
     "name": "stdout",
     "output_type": "stream",
     "text": [
      "Dice Score: 0.5062881636944478\n",
      "Best Dice Symmetry Score:  0.5062881636944478\n",
      "Plant/Ara2013-Canon\\ara2013_plant165_rgb.png\n",
      "Dice Score: 0.5797495917256397\n",
      "Best Dice Symmetry Score:  0.5797495917256397\n"
     ]
    },
    {
     "name": "stderr",
     "output_type": "stream",
     "text": [
      "c:\\users\\user\\pycharmprojects\\comp9517\\venv\\lib\\site-packages\\skimage\\morphology\\_deprecated.py:5: skimage_deprecation: Function ``watershed`` is deprecated and will be removed in version 0.19. Use ``skimage.segmentation.watershed`` instead.\n"
     ]
    }
   ],
   "source": [
    "\n",
    "dice_calc_result = []\n",
    "symm_best_dice_result = []\n",
    "\n",
    "for x in range(len(ara_2013_list)):\n",
    "    \n",
    "    print(ara_2013_list[x])\n",
    "    \n",
    "    img = cv2.imread(ara_2013_list[x])\n",
    "    img_rgb = cv2.cvtColor(img, cv2.COLOR_BGR2RGB)\n",
    "    \n",
    "    label = cv2.imread(ara_2013_list[x])\n",
    "    img_label_rgb = cv2.cvtColor(label, cv2.COLOR_BGR2RGB)\n",
    "    \n",
    "    img_result = task3(img_rgb, -20, 5)\n",
    "    \n",
    "    img_result = convert_bool(img_result)\n",
    "    img_label = convert_bool(img_label_rgb)\n",
    "    \n",
    "    dice_calc_score = dice_calc(img_label, img_result)\n",
    "    best_dice_score = symm_best_dice(img_label, img_result)\n",
    "    \n",
    "    print(\"Dice Score:\", dice_calc(img_label, img_result))\n",
    "    print(\"Best Dice Symmetry Score: \", symm_best_dice(img_label, img_result))\n",
    "    \n",
    "    dice_calc_result.append(dice_calc_score)\n",
    "    symm_best_dice_result.append(dice_calc_score)"
   ]
  },
  {
   "cell_type": "code",
   "execution_count": 7,
   "metadata": {},
   "outputs": [
    {
     "name": "stdout",
     "output_type": "stream",
     "text": [
      "Mean Dice Calc score for Ara 2013: 0.5608326470986074\n",
      "Mean Best Dice Symmetry score for Ara 2013: 0.5608326470986074\n"
     ]
    }
   ],
   "source": [
    "dice_calc_result = np.array(dice_calc_result)\n",
    "symm_best_dice_result = np.array(symm_best_dice_result)\n",
    "\n",
    "print(\"Mean Dice Calc score for Ara 2013:\",  np.mean(dice_calc_result))\n",
    "print(\"Mean Best Dice Symmetry score for Ara 2013:\", np.mean(symm_best_dice_result))"
   ]
  },
  {
   "cell_type": "markdown",
   "metadata": {},
   "source": [
    "# Tobacco"
   ]
  },
  {
   "cell_type": "code",
   "execution_count": 12,
   "metadata": {},
   "outputs": [
    {
     "name": "stdout",
     "output_type": "stream",
     "text": [
      "Plant/Tobacco\\tobacco_plant001_rgb.png\n"
     ]
    },
    {
     "name": "stderr",
     "output_type": "stream",
     "text": [
      "c:\\users\\user\\pycharmprojects\\comp9517\\venv\\lib\\site-packages\\ipykernel_launcher.py:23: FutureWarning: skimage.measure.label's indexing starts from 0. In future version it will start from 1. To disable this warning, explicitely set the `start_label` parameter to 1.\n",
      "c:\\users\\user\\pycharmprojects\\comp9517\\venv\\lib\\site-packages\\skimage\\morphology\\_deprecated.py:5: skimage_deprecation: Function ``watershed`` is deprecated and will be removed in version 0.19. Use ``skimage.segmentation.watershed`` instead.\n"
     ]
    },
    {
     "name": "stdout",
     "output_type": "stream",
     "text": [
      "Dice Score: 0.32793320236485296\n",
      "Best Dice Symmetry Score:  0.32793320236485296\n",
      "Plant/Tobacco\\tobacco_plant002_rgb.png\n"
     ]
    },
    {
     "name": "stderr",
     "output_type": "stream",
     "text": [
      "c:\\users\\user\\pycharmprojects\\comp9517\\venv\\lib\\site-packages\\ipykernel_launcher.py:23: FutureWarning: skimage.measure.label's indexing starts from 0. In future version it will start from 1. To disable this warning, explicitely set the `start_label` parameter to 1.\n",
      "c:\\users\\user\\pycharmprojects\\comp9517\\venv\\lib\\site-packages\\skimage\\morphology\\_deprecated.py:5: skimage_deprecation: Function ``watershed`` is deprecated and will be removed in version 0.19. Use ``skimage.segmentation.watershed`` instead.\n"
     ]
    },
    {
     "name": "stdout",
     "output_type": "stream",
     "text": [
      "Dice Score: 0.42020629277683164\n",
      "Best Dice Symmetry Score:  0.42020629277683164\n",
      "Plant/Tobacco\\tobacco_plant003_rgb.png\n"
     ]
    },
    {
     "name": "stderr",
     "output_type": "stream",
     "text": [
      "c:\\users\\user\\pycharmprojects\\comp9517\\venv\\lib\\site-packages\\ipykernel_launcher.py:23: FutureWarning: skimage.measure.label's indexing starts from 0. In future version it will start from 1. To disable this warning, explicitely set the `start_label` parameter to 1.\n",
      "c:\\users\\user\\pycharmprojects\\comp9517\\venv\\lib\\site-packages\\skimage\\morphology\\_deprecated.py:5: skimage_deprecation: Function ``watershed`` is deprecated and will be removed in version 0.19. Use ``skimage.segmentation.watershed`` instead.\n"
     ]
    },
    {
     "name": "stdout",
     "output_type": "stream",
     "text": [
      "Dice Score: 0.39983146502928946\n",
      "Best Dice Symmetry Score:  0.39983146502928946\n",
      "Plant/Tobacco\\tobacco_plant004_rgb.png\n"
     ]
    },
    {
     "name": "stderr",
     "output_type": "stream",
     "text": [
      "c:\\users\\user\\pycharmprojects\\comp9517\\venv\\lib\\site-packages\\ipykernel_launcher.py:23: FutureWarning: skimage.measure.label's indexing starts from 0. In future version it will start from 1. To disable this warning, explicitely set the `start_label` parameter to 1.\n",
      "c:\\users\\user\\pycharmprojects\\comp9517\\venv\\lib\\site-packages\\skimage\\morphology\\_deprecated.py:5: skimage_deprecation: Function ``watershed`` is deprecated and will be removed in version 0.19. Use ``skimage.segmentation.watershed`` instead.\n"
     ]
    },
    {
     "name": "stdout",
     "output_type": "stream",
     "text": [
      "Dice Score: 0.39728777394164805\n",
      "Best Dice Symmetry Score:  0.39728777394164805\n",
      "Plant/Tobacco\\tobacco_plant005_rgb.png\n"
     ]
    },
    {
     "name": "stderr",
     "output_type": "stream",
     "text": [
      "c:\\users\\user\\pycharmprojects\\comp9517\\venv\\lib\\site-packages\\ipykernel_launcher.py:23: FutureWarning: skimage.measure.label's indexing starts from 0. In future version it will start from 1. To disable this warning, explicitely set the `start_label` parameter to 1.\n",
      "c:\\users\\user\\pycharmprojects\\comp9517\\venv\\lib\\site-packages\\skimage\\morphology\\_deprecated.py:5: skimage_deprecation: Function ``watershed`` is deprecated and will be removed in version 0.19. Use ``skimage.segmentation.watershed`` instead.\n"
     ]
    },
    {
     "name": "stdout",
     "output_type": "stream",
     "text": [
      "Dice Score: 0.4252632854011419\n",
      "Best Dice Symmetry Score:  0.4252632854011419\n",
      "Plant/Tobacco\\tobacco_plant006_rgb.png\n"
     ]
    },
    {
     "name": "stderr",
     "output_type": "stream",
     "text": [
      "c:\\users\\user\\pycharmprojects\\comp9517\\venv\\lib\\site-packages\\ipykernel_launcher.py:23: FutureWarning: skimage.measure.label's indexing starts from 0. In future version it will start from 1. To disable this warning, explicitely set the `start_label` parameter to 1.\n",
      "c:\\users\\user\\pycharmprojects\\comp9517\\venv\\lib\\site-packages\\skimage\\morphology\\_deprecated.py:5: skimage_deprecation: Function ``watershed`` is deprecated and will be removed in version 0.19. Use ``skimage.segmentation.watershed`` instead.\n"
     ]
    },
    {
     "name": "stdout",
     "output_type": "stream",
     "text": [
      "Dice Score: 0.4226057383528122\n",
      "Best Dice Symmetry Score:  0.4226057383528122\n",
      "Plant/Tobacco\\tobacco_plant007_rgb.png\n"
     ]
    },
    {
     "name": "stderr",
     "output_type": "stream",
     "text": [
      "c:\\users\\user\\pycharmprojects\\comp9517\\venv\\lib\\site-packages\\ipykernel_launcher.py:23: FutureWarning: skimage.measure.label's indexing starts from 0. In future version it will start from 1. To disable this warning, explicitely set the `start_label` parameter to 1.\n",
      "c:\\users\\user\\pycharmprojects\\comp9517\\venv\\lib\\site-packages\\skimage\\morphology\\_deprecated.py:5: skimage_deprecation: Function ``watershed`` is deprecated and will be removed in version 0.19. Use ``skimage.segmentation.watershed`` instead.\n"
     ]
    },
    {
     "name": "stdout",
     "output_type": "stream",
     "text": [
      "Dice Score: 0.2284322198539226\n",
      "Best Dice Symmetry Score:  0.2284322198539226\n",
      "Plant/Tobacco\\tobacco_plant008_rgb.png\n"
     ]
    },
    {
     "name": "stderr",
     "output_type": "stream",
     "text": [
      "c:\\users\\user\\pycharmprojects\\comp9517\\venv\\lib\\site-packages\\ipykernel_launcher.py:23: FutureWarning: skimage.measure.label's indexing starts from 0. In future version it will start from 1. To disable this warning, explicitely set the `start_label` parameter to 1.\n",
      "c:\\users\\user\\pycharmprojects\\comp9517\\venv\\lib\\site-packages\\skimage\\morphology\\_deprecated.py:5: skimage_deprecation: Function ``watershed`` is deprecated and will be removed in version 0.19. Use ``skimage.segmentation.watershed`` instead.\n"
     ]
    },
    {
     "name": "stdout",
     "output_type": "stream",
     "text": [
      "Dice Score: 0.29343273559016514\n",
      "Best Dice Symmetry Score:  0.29343273559016514\n",
      "Plant/Tobacco\\tobacco_plant009_rgb.png\n"
     ]
    },
    {
     "name": "stderr",
     "output_type": "stream",
     "text": [
      "c:\\users\\user\\pycharmprojects\\comp9517\\venv\\lib\\site-packages\\ipykernel_launcher.py:23: FutureWarning: skimage.measure.label's indexing starts from 0. In future version it will start from 1. To disable this warning, explicitely set the `start_label` parameter to 1.\n",
      "c:\\users\\user\\pycharmprojects\\comp9517\\venv\\lib\\site-packages\\skimage\\morphology\\_deprecated.py:5: skimage_deprecation: Function ``watershed`` is deprecated and will be removed in version 0.19. Use ``skimage.segmentation.watershed`` instead.\n"
     ]
    },
    {
     "name": "stdout",
     "output_type": "stream",
     "text": [
      "Dice Score: 0.30783075716698677\n",
      "Best Dice Symmetry Score:  0.30783075716698677\n",
      "Plant/Tobacco\\tobacco_plant010_rgb.png\n"
     ]
    },
    {
     "name": "stderr",
     "output_type": "stream",
     "text": [
      "c:\\users\\user\\pycharmprojects\\comp9517\\venv\\lib\\site-packages\\ipykernel_launcher.py:23: FutureWarning: skimage.measure.label's indexing starts from 0. In future version it will start from 1. To disable this warning, explicitely set the `start_label` parameter to 1.\n",
      "c:\\users\\user\\pycharmprojects\\comp9517\\venv\\lib\\site-packages\\skimage\\morphology\\_deprecated.py:5: skimage_deprecation: Function ``watershed`` is deprecated and will be removed in version 0.19. Use ``skimage.segmentation.watershed`` instead.\n"
     ]
    },
    {
     "name": "stdout",
     "output_type": "stream",
     "text": [
      "Dice Score: 0.3521688708123416\n",
      "Best Dice Symmetry Score:  0.3521688708123416\n"
     ]
    }
   ],
   "source": [
    "\n",
    "dice_calc_result = []\n",
    "symm_best_dice_result = []\n",
    "\n",
    "for x in range(10):\n",
    "    \n",
    "    print(tobacco_list[x])\n",
    "    \n",
    "    img = cv2.imread(tobacco_list[x])\n",
    "    img_rgb = cv2.cvtColor(img, cv2.COLOR_BGR2RGB)\n",
    "    \n",
    "    label = cv2.imread(tobacco_list[x])\n",
    "    img_label_rgb = cv2.cvtColor(label, cv2.COLOR_BGR2RGB)\n",
    "    \n",
    "    scale_percent = 30 # percent of original size\n",
    "    width = int(img.shape[1] * scale_percent / 100)\n",
    "    height = int(img.shape[0] * scale_percent / 100)\n",
    "    dim = (width, height)\n",
    "\n",
    "    # resize image\n",
    "    img_rgb = cv2.resize(img_rgb, dim, interpolation = cv2.INTER_AREA)\n",
    "    img_label_rgb = cv2.resize(img_label_rgb, dim, interpolation = cv2.INTER_AREA)\n",
    "    \n",
    "    img_result = task3(img_rgb, -20, 5)\n",
    "    \n",
    "    img_result = convert_bool(img_result)\n",
    "    img_label = convert_bool(img_label_rgb)\n",
    "    \n",
    "    dice_calc_score = dice_calc(img_label, img_result)\n",
    "    best_dice_score = symm_best_dice(img_label, img_result)\n",
    "    \n",
    "    print(\"Dice Score:\", dice_calc(img_label, img_result))\n",
    "    print(\"Best Dice Symmetry Score: \", symm_best_dice(img_label, img_result))\n",
    "    \n",
    "    dice_calc_result.append(dice_calc_score)\n",
    "    symm_best_dice_result.append(dice_calc_score)"
   ]
  },
  {
   "cell_type": "code",
   "execution_count": 11,
   "metadata": {},
   "outputs": [
    {
     "name": "stdout",
     "output_type": "stream",
     "text": [
      "Mean Dice Calc score for Tobacco: 0.2510662490396306\n",
      "Mean Best Dice Symmetry score for Tobacco: 0.2510662490396306\n"
     ]
    }
   ],
   "source": [
    "dice_calc_result = np.array(dice_calc_result)\n",
    "symm_best_dice_result = np.array(symm_best_dice_result)\n",
    "\n",
    "print(\"Mean Dice Calc score for Tobacco:\",  np.mean(dice_calc_result))\n",
    "print(\"Mean Best Dice Symmetry score for Tobacco:\", np.mean(symm_best_dice_result))"
   ]
  }
 ],
 "metadata": {
  "kernelspec": {
   "display_name": "Python 3",
   "language": "python",
   "name": "python3"
  },
  "language_info": {
   "codemirror_mode": {
    "name": "ipython",
    "version": 3
   },
   "file_extension": ".py",
   "mimetype": "text/x-python",
   "name": "python",
   "nbconvert_exporter": "python",
   "pygments_lexer": "ipython3",
   "version": "3.6.5"
  }
 },
 "nbformat": 4,
 "nbformat_minor": 4
}
